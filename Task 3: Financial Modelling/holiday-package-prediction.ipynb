{
 "cells": [
  {
   "cell_type": "code",
   "execution_count": 1,
   "id": "44900da4",
   "metadata": {},
   "outputs": [],
   "source": [
    "import numpy as np\n",
    "import pandas as pd\n",
    "import seaborn as sns\n",
    "import matplotlib.pyplot as plt"
   ]
  },
  {
   "cell_type": "code",
   "execution_count": 2,
   "id": "7c280eb3",
   "metadata": {},
   "outputs": [],
   "source": [
    "df = pd.read_csv('Travel.csv', header=0)"
   ]
  },
  {
   "cell_type": "code",
   "execution_count": 3,
   "id": "49c19518",
   "metadata": {
    "scrolled": true
   },
   "outputs": [
    {
     "data": {
      "text/html": [
       "<div>\n",
       "<style scoped>\n",
       "    .dataframe tbody tr th:only-of-type {\n",
       "        vertical-align: middle;\n",
       "    }\n",
       "\n",
       "    .dataframe tbody tr th {\n",
       "        vertical-align: top;\n",
       "    }\n",
       "\n",
       "    .dataframe thead th {\n",
       "        text-align: right;\n",
       "    }\n",
       "</style>\n",
       "<table border=\"1\" class=\"dataframe\">\n",
       "  <thead>\n",
       "    <tr style=\"text-align: right;\">\n",
       "      <th></th>\n",
       "      <th>CustomerID</th>\n",
       "      <th>ProdTaken</th>\n",
       "      <th>Age</th>\n",
       "      <th>TypeofContact</th>\n",
       "      <th>CityTier</th>\n",
       "      <th>DurationOfPitch</th>\n",
       "      <th>Occupation</th>\n",
       "      <th>Gender</th>\n",
       "      <th>NumberOfPersonVisiting</th>\n",
       "      <th>NumberOfFollowups</th>\n",
       "      <th>ProductPitched</th>\n",
       "      <th>PreferredPropertyStar</th>\n",
       "      <th>MaritalStatus</th>\n",
       "      <th>NumberOfTrips</th>\n",
       "      <th>Passport</th>\n",
       "      <th>PitchSatisfactionScore</th>\n",
       "      <th>OwnCar</th>\n",
       "      <th>NumberOfChildrenVisiting</th>\n",
       "      <th>Designation</th>\n",
       "      <th>MonthlyIncome</th>\n",
       "    </tr>\n",
       "  </thead>\n",
       "  <tbody>\n",
       "    <tr>\n",
       "      <th>0</th>\n",
       "      <td>200000</td>\n",
       "      <td>1</td>\n",
       "      <td>41.0</td>\n",
       "      <td>Self Enquiry</td>\n",
       "      <td>3</td>\n",
       "      <td>6.0</td>\n",
       "      <td>Salaried</td>\n",
       "      <td>Female</td>\n",
       "      <td>3</td>\n",
       "      <td>3.0</td>\n",
       "      <td>Deluxe</td>\n",
       "      <td>3.0</td>\n",
       "      <td>Single</td>\n",
       "      <td>1.0</td>\n",
       "      <td>1</td>\n",
       "      <td>2</td>\n",
       "      <td>1</td>\n",
       "      <td>0.0</td>\n",
       "      <td>Manager</td>\n",
       "      <td>20993.0</td>\n",
       "    </tr>\n",
       "    <tr>\n",
       "      <th>1</th>\n",
       "      <td>200001</td>\n",
       "      <td>0</td>\n",
       "      <td>49.0</td>\n",
       "      <td>Company Invited</td>\n",
       "      <td>1</td>\n",
       "      <td>14.0</td>\n",
       "      <td>Salaried</td>\n",
       "      <td>Male</td>\n",
       "      <td>3</td>\n",
       "      <td>4.0</td>\n",
       "      <td>Deluxe</td>\n",
       "      <td>4.0</td>\n",
       "      <td>Divorced</td>\n",
       "      <td>2.0</td>\n",
       "      <td>0</td>\n",
       "      <td>3</td>\n",
       "      <td>1</td>\n",
       "      <td>2.0</td>\n",
       "      <td>Manager</td>\n",
       "      <td>20130.0</td>\n",
       "    </tr>\n",
       "    <tr>\n",
       "      <th>2</th>\n",
       "      <td>200002</td>\n",
       "      <td>1</td>\n",
       "      <td>37.0</td>\n",
       "      <td>Self Enquiry</td>\n",
       "      <td>1</td>\n",
       "      <td>8.0</td>\n",
       "      <td>Free Lancer</td>\n",
       "      <td>Male</td>\n",
       "      <td>3</td>\n",
       "      <td>4.0</td>\n",
       "      <td>Basic</td>\n",
       "      <td>3.0</td>\n",
       "      <td>Single</td>\n",
       "      <td>7.0</td>\n",
       "      <td>1</td>\n",
       "      <td>3</td>\n",
       "      <td>0</td>\n",
       "      <td>0.0</td>\n",
       "      <td>Executive</td>\n",
       "      <td>17090.0</td>\n",
       "    </tr>\n",
       "    <tr>\n",
       "      <th>3</th>\n",
       "      <td>200003</td>\n",
       "      <td>0</td>\n",
       "      <td>33.0</td>\n",
       "      <td>Company Invited</td>\n",
       "      <td>1</td>\n",
       "      <td>9.0</td>\n",
       "      <td>Salaried</td>\n",
       "      <td>Female</td>\n",
       "      <td>2</td>\n",
       "      <td>3.0</td>\n",
       "      <td>Basic</td>\n",
       "      <td>3.0</td>\n",
       "      <td>Divorced</td>\n",
       "      <td>2.0</td>\n",
       "      <td>1</td>\n",
       "      <td>5</td>\n",
       "      <td>1</td>\n",
       "      <td>1.0</td>\n",
       "      <td>Executive</td>\n",
       "      <td>17909.0</td>\n",
       "    </tr>\n",
       "    <tr>\n",
       "      <th>4</th>\n",
       "      <td>200004</td>\n",
       "      <td>0</td>\n",
       "      <td>NaN</td>\n",
       "      <td>Self Enquiry</td>\n",
       "      <td>1</td>\n",
       "      <td>8.0</td>\n",
       "      <td>Small Business</td>\n",
       "      <td>Male</td>\n",
       "      <td>2</td>\n",
       "      <td>3.0</td>\n",
       "      <td>Basic</td>\n",
       "      <td>4.0</td>\n",
       "      <td>Divorced</td>\n",
       "      <td>1.0</td>\n",
       "      <td>0</td>\n",
       "      <td>5</td>\n",
       "      <td>1</td>\n",
       "      <td>0.0</td>\n",
       "      <td>Executive</td>\n",
       "      <td>18468.0</td>\n",
       "    </tr>\n",
       "  </tbody>\n",
       "</table>\n",
       "</div>"
      ],
      "text/plain": [
       "   CustomerID  ProdTaken   Age    TypeofContact  CityTier  DurationOfPitch  \\\n",
       "0      200000          1  41.0     Self Enquiry         3              6.0   \n",
       "1      200001          0  49.0  Company Invited         1             14.0   \n",
       "2      200002          1  37.0     Self Enquiry         1              8.0   \n",
       "3      200003          0  33.0  Company Invited         1              9.0   \n",
       "4      200004          0   NaN     Self Enquiry         1              8.0   \n",
       "\n",
       "       Occupation  Gender  NumberOfPersonVisiting  NumberOfFollowups  \\\n",
       "0        Salaried  Female                       3                3.0   \n",
       "1        Salaried    Male                       3                4.0   \n",
       "2     Free Lancer    Male                       3                4.0   \n",
       "3        Salaried  Female                       2                3.0   \n",
       "4  Small Business    Male                       2                3.0   \n",
       "\n",
       "  ProductPitched  PreferredPropertyStar MaritalStatus  NumberOfTrips  \\\n",
       "0         Deluxe                    3.0        Single            1.0   \n",
       "1         Deluxe                    4.0      Divorced            2.0   \n",
       "2          Basic                    3.0        Single            7.0   \n",
       "3          Basic                    3.0      Divorced            2.0   \n",
       "4          Basic                    4.0      Divorced            1.0   \n",
       "\n",
       "   Passport  PitchSatisfactionScore  OwnCar  NumberOfChildrenVisiting  \\\n",
       "0         1                       2       1                       0.0   \n",
       "1         0                       3       1                       2.0   \n",
       "2         1                       3       0                       0.0   \n",
       "3         1                       5       1                       1.0   \n",
       "4         0                       5       1                       0.0   \n",
       "\n",
       "  Designation  MonthlyIncome  \n",
       "0     Manager        20993.0  \n",
       "1     Manager        20130.0  \n",
       "2   Executive        17090.0  \n",
       "3   Executive        17909.0  \n",
       "4   Executive        18468.0  "
      ]
     },
     "execution_count": 3,
     "metadata": {},
     "output_type": "execute_result"
    }
   ],
   "source": [
    "df.head()"
   ]
  },
  {
   "cell_type": "code",
   "execution_count": 4,
   "id": "b367b350",
   "metadata": {},
   "outputs": [
    {
     "data": {
      "text/plain": [
       "(4888, 20)"
      ]
     },
     "execution_count": 4,
     "metadata": {},
     "output_type": "execute_result"
    }
   ],
   "source": [
    "df.shape"
   ]
  },
  {
   "cell_type": "code",
   "execution_count": 5,
   "id": "373acfab",
   "metadata": {},
   "outputs": [
    {
     "name": "stdout",
     "output_type": "stream",
     "text": [
      "<class 'pandas.core.frame.DataFrame'>\n",
      "RangeIndex: 4888 entries, 0 to 4887\n",
      "Data columns (total 20 columns):\n",
      " #   Column                    Non-Null Count  Dtype  \n",
      "---  ------                    --------------  -----  \n",
      " 0   CustomerID                4888 non-null   int64  \n",
      " 1   ProdTaken                 4888 non-null   int64  \n",
      " 2   Age                       4662 non-null   float64\n",
      " 3   TypeofContact             4863 non-null   object \n",
      " 4   CityTier                  4888 non-null   int64  \n",
      " 5   DurationOfPitch           4637 non-null   float64\n",
      " 6   Occupation                4888 non-null   object \n",
      " 7   Gender                    4888 non-null   object \n",
      " 8   NumberOfPersonVisiting    4888 non-null   int64  \n",
      " 9   NumberOfFollowups         4843 non-null   float64\n",
      " 10  ProductPitched            4888 non-null   object \n",
      " 11  PreferredPropertyStar     4862 non-null   float64\n",
      " 12  MaritalStatus             4888 non-null   object \n",
      " 13  NumberOfTrips             4748 non-null   float64\n",
      " 14  Passport                  4888 non-null   int64  \n",
      " 15  PitchSatisfactionScore    4888 non-null   int64  \n",
      " 16  OwnCar                    4888 non-null   int64  \n",
      " 17  NumberOfChildrenVisiting  4822 non-null   float64\n",
      " 18  Designation               4888 non-null   object \n",
      " 19  MonthlyIncome             4655 non-null   float64\n",
      "dtypes: float64(7), int64(7), object(6)\n",
      "memory usage: 763.9+ KB\n"
     ]
    }
   ],
   "source": [
    "df.info()"
   ]
  },
  {
   "cell_type": "markdown",
   "id": "d7517690",
   "metadata": {},
   "source": [
    "# Value counts for qualitative data"
   ]
  },
  {
   "cell_type": "code",
   "execution_count": 6,
   "id": "b48ee660",
   "metadata": {},
   "outputs": [
    {
     "data": {
      "text/plain": [
       "TypeofContact\n",
       "Self Enquiry       3444\n",
       "Company Invited    1419\n",
       "Name: count, dtype: int64"
      ]
     },
     "execution_count": 6,
     "metadata": {},
     "output_type": "execute_result"
    }
   ],
   "source": [
    "df['TypeofContact'].value_counts()"
   ]
  },
  {
   "cell_type": "code",
   "execution_count": 7,
   "id": "89f7b4bd",
   "metadata": {},
   "outputs": [
    {
     "data": {
      "text/plain": [
       "Occupation\n",
       "Salaried          2368\n",
       "Small Business    2084\n",
       "Large Business     434\n",
       "Free Lancer          2\n",
       "Name: count, dtype: int64"
      ]
     },
     "execution_count": 7,
     "metadata": {},
     "output_type": "execute_result"
    }
   ],
   "source": [
    "df['Occupation'].value_counts()"
   ]
  },
  {
   "cell_type": "code",
   "execution_count": 8,
   "id": "cb149ca0",
   "metadata": {},
   "outputs": [
    {
     "data": {
      "text/plain": [
       "Gender\n",
       "Male       2916\n",
       "Female     1817\n",
       "Fe Male     155\n",
       "Name: count, dtype: int64"
      ]
     },
     "execution_count": 8,
     "metadata": {},
     "output_type": "execute_result"
    }
   ],
   "source": [
    "df['Gender'].value_counts()"
   ]
  },
  {
   "cell_type": "code",
   "execution_count": 9,
   "id": "514675e4",
   "metadata": {},
   "outputs": [
    {
     "data": {
      "text/plain": [
       "Gender\n",
       "Male      2916\n",
       "Female    1972\n",
       "Name: count, dtype: int64"
      ]
     },
     "execution_count": 9,
     "metadata": {},
     "output_type": "execute_result"
    }
   ],
   "source": [
    "df['Gender'] = df['Gender'].str.replace('Fe Male','Female')\n",
    "df['Gender'].value_counts()"
   ]
  },
  {
   "cell_type": "code",
   "execution_count": 10,
   "id": "51af2ca7",
   "metadata": {},
   "outputs": [
    {
     "data": {
      "text/plain": [
       "ProductPitched\n",
       "Basic           1842\n",
       "Deluxe          1732\n",
       "Standard         742\n",
       "Super Deluxe     342\n",
       "King             230\n",
       "Name: count, dtype: int64"
      ]
     },
     "execution_count": 10,
     "metadata": {},
     "output_type": "execute_result"
    }
   ],
   "source": [
    "df['ProductPitched'].value_counts()"
   ]
  },
  {
   "cell_type": "code",
   "execution_count": 11,
   "id": "d2b1db15",
   "metadata": {},
   "outputs": [
    {
     "data": {
      "text/plain": [
       "MaritalStatus\n",
       "Married      2340\n",
       "Divorced      950\n",
       "Single        916\n",
       "Unmarried     682\n",
       "Name: count, dtype: int64"
      ]
     },
     "execution_count": 11,
     "metadata": {},
     "output_type": "execute_result"
    }
   ],
   "source": [
    "df['MaritalStatus'].value_counts()"
   ]
  },
  {
   "cell_type": "code",
   "execution_count": 12,
   "id": "2cd6cd89",
   "metadata": {},
   "outputs": [
    {
     "data": {
      "text/plain": [
       "MaritalStatus\n",
       "Married      2340\n",
       "Unmarried    1598\n",
       "Divorced      950\n",
       "Name: count, dtype: int64"
      ]
     },
     "execution_count": 12,
     "metadata": {},
     "output_type": "execute_result"
    }
   ],
   "source": [
    "df['MaritalStatus'] = df['MaritalStatus'].str.replace('Single','Unmarried')\n",
    "df['MaritalStatus'].value_counts()"
   ]
  },
  {
   "cell_type": "code",
   "execution_count": 13,
   "id": "6162e0d1",
   "metadata": {},
   "outputs": [
    {
     "data": {
      "text/plain": [
       "Designation\n",
       "Executive         1842\n",
       "Manager           1732\n",
       "Senior Manager     742\n",
       "AVP                342\n",
       "VP                 230\n",
       "Name: count, dtype: int64"
      ]
     },
     "execution_count": 13,
     "metadata": {},
     "output_type": "execute_result"
    }
   ],
   "source": [
    "df['Designation'].value_counts()"
   ]
  },
  {
   "cell_type": "markdown",
   "id": "7ecc0076",
   "metadata": {},
   "source": [
    "# One-Hot Encoding"
   ]
  },
  {
   "cell_type": "code",
   "execution_count": 14,
   "id": "3be0116e",
   "metadata": {},
   "outputs": [],
   "source": [
    "df = pd.get_dummies(df, columns= [\"TypeofContact\", \"Occupation\", \"Gender\", \"ProductPitched\", \"MaritalStatus\", \"Designation\"], drop_first=True)"
   ]
  },
  {
   "cell_type": "code",
   "execution_count": 15,
   "id": "2d65deac",
   "metadata": {},
   "outputs": [
    {
     "data": {
      "text/html": [
       "<div>\n",
       "<style scoped>\n",
       "    .dataframe tbody tr th:only-of-type {\n",
       "        vertical-align: middle;\n",
       "    }\n",
       "\n",
       "    .dataframe tbody tr th {\n",
       "        vertical-align: top;\n",
       "    }\n",
       "\n",
       "    .dataframe thead th {\n",
       "        text-align: right;\n",
       "    }\n",
       "</style>\n",
       "<table border=\"1\" class=\"dataframe\">\n",
       "  <thead>\n",
       "    <tr style=\"text-align: right;\">\n",
       "      <th></th>\n",
       "      <th>CustomerID</th>\n",
       "      <th>ProdTaken</th>\n",
       "      <th>Age</th>\n",
       "      <th>CityTier</th>\n",
       "      <th>DurationOfPitch</th>\n",
       "      <th>NumberOfPersonVisiting</th>\n",
       "      <th>NumberOfFollowups</th>\n",
       "      <th>PreferredPropertyStar</th>\n",
       "      <th>NumberOfTrips</th>\n",
       "      <th>Passport</th>\n",
       "      <th>...</th>\n",
       "      <th>ProductPitched_Deluxe</th>\n",
       "      <th>ProductPitched_King</th>\n",
       "      <th>ProductPitched_Standard</th>\n",
       "      <th>ProductPitched_Super Deluxe</th>\n",
       "      <th>MaritalStatus_Married</th>\n",
       "      <th>MaritalStatus_Unmarried</th>\n",
       "      <th>Designation_Executive</th>\n",
       "      <th>Designation_Manager</th>\n",
       "      <th>Designation_Senior Manager</th>\n",
       "      <th>Designation_VP</th>\n",
       "    </tr>\n",
       "  </thead>\n",
       "  <tbody>\n",
       "    <tr>\n",
       "      <th>0</th>\n",
       "      <td>200000</td>\n",
       "      <td>1</td>\n",
       "      <td>41.0</td>\n",
       "      <td>3</td>\n",
       "      <td>6.0</td>\n",
       "      <td>3</td>\n",
       "      <td>3.0</td>\n",
       "      <td>3.0</td>\n",
       "      <td>1.0</td>\n",
       "      <td>1</td>\n",
       "      <td>...</td>\n",
       "      <td>True</td>\n",
       "      <td>False</td>\n",
       "      <td>False</td>\n",
       "      <td>False</td>\n",
       "      <td>False</td>\n",
       "      <td>True</td>\n",
       "      <td>False</td>\n",
       "      <td>True</td>\n",
       "      <td>False</td>\n",
       "      <td>False</td>\n",
       "    </tr>\n",
       "    <tr>\n",
       "      <th>1</th>\n",
       "      <td>200001</td>\n",
       "      <td>0</td>\n",
       "      <td>49.0</td>\n",
       "      <td>1</td>\n",
       "      <td>14.0</td>\n",
       "      <td>3</td>\n",
       "      <td>4.0</td>\n",
       "      <td>4.0</td>\n",
       "      <td>2.0</td>\n",
       "      <td>0</td>\n",
       "      <td>...</td>\n",
       "      <td>True</td>\n",
       "      <td>False</td>\n",
       "      <td>False</td>\n",
       "      <td>False</td>\n",
       "      <td>False</td>\n",
       "      <td>False</td>\n",
       "      <td>False</td>\n",
       "      <td>True</td>\n",
       "      <td>False</td>\n",
       "      <td>False</td>\n",
       "    </tr>\n",
       "    <tr>\n",
       "      <th>2</th>\n",
       "      <td>200002</td>\n",
       "      <td>1</td>\n",
       "      <td>37.0</td>\n",
       "      <td>1</td>\n",
       "      <td>8.0</td>\n",
       "      <td>3</td>\n",
       "      <td>4.0</td>\n",
       "      <td>3.0</td>\n",
       "      <td>7.0</td>\n",
       "      <td>1</td>\n",
       "      <td>...</td>\n",
       "      <td>False</td>\n",
       "      <td>False</td>\n",
       "      <td>False</td>\n",
       "      <td>False</td>\n",
       "      <td>False</td>\n",
       "      <td>True</td>\n",
       "      <td>True</td>\n",
       "      <td>False</td>\n",
       "      <td>False</td>\n",
       "      <td>False</td>\n",
       "    </tr>\n",
       "    <tr>\n",
       "      <th>3</th>\n",
       "      <td>200003</td>\n",
       "      <td>0</td>\n",
       "      <td>33.0</td>\n",
       "      <td>1</td>\n",
       "      <td>9.0</td>\n",
       "      <td>2</td>\n",
       "      <td>3.0</td>\n",
       "      <td>3.0</td>\n",
       "      <td>2.0</td>\n",
       "      <td>1</td>\n",
       "      <td>...</td>\n",
       "      <td>False</td>\n",
       "      <td>False</td>\n",
       "      <td>False</td>\n",
       "      <td>False</td>\n",
       "      <td>False</td>\n",
       "      <td>False</td>\n",
       "      <td>True</td>\n",
       "      <td>False</td>\n",
       "      <td>False</td>\n",
       "      <td>False</td>\n",
       "    </tr>\n",
       "    <tr>\n",
       "      <th>4</th>\n",
       "      <td>200004</td>\n",
       "      <td>0</td>\n",
       "      <td>NaN</td>\n",
       "      <td>1</td>\n",
       "      <td>8.0</td>\n",
       "      <td>2</td>\n",
       "      <td>3.0</td>\n",
       "      <td>4.0</td>\n",
       "      <td>1.0</td>\n",
       "      <td>0</td>\n",
       "      <td>...</td>\n",
       "      <td>False</td>\n",
       "      <td>False</td>\n",
       "      <td>False</td>\n",
       "      <td>False</td>\n",
       "      <td>False</td>\n",
       "      <td>False</td>\n",
       "      <td>True</td>\n",
       "      <td>False</td>\n",
       "      <td>False</td>\n",
       "      <td>False</td>\n",
       "    </tr>\n",
       "  </tbody>\n",
       "</table>\n",
       "<p>5 rows × 29 columns</p>\n",
       "</div>"
      ],
      "text/plain": [
       "   CustomerID  ProdTaken   Age  CityTier  DurationOfPitch  \\\n",
       "0      200000          1  41.0         3              6.0   \n",
       "1      200001          0  49.0         1             14.0   \n",
       "2      200002          1  37.0         1              8.0   \n",
       "3      200003          0  33.0         1              9.0   \n",
       "4      200004          0   NaN         1              8.0   \n",
       "\n",
       "   NumberOfPersonVisiting  NumberOfFollowups  PreferredPropertyStar  \\\n",
       "0                       3                3.0                    3.0   \n",
       "1                       3                4.0                    4.0   \n",
       "2                       3                4.0                    3.0   \n",
       "3                       2                3.0                    3.0   \n",
       "4                       2                3.0                    4.0   \n",
       "\n",
       "   NumberOfTrips  Passport  ...  ProductPitched_Deluxe  ProductPitched_King  \\\n",
       "0            1.0         1  ...                   True                False   \n",
       "1            2.0         0  ...                   True                False   \n",
       "2            7.0         1  ...                  False                False   \n",
       "3            2.0         1  ...                  False                False   \n",
       "4            1.0         0  ...                  False                False   \n",
       "\n",
       "   ProductPitched_Standard  ProductPitched_Super Deluxe  \\\n",
       "0                    False                        False   \n",
       "1                    False                        False   \n",
       "2                    False                        False   \n",
       "3                    False                        False   \n",
       "4                    False                        False   \n",
       "\n",
       "   MaritalStatus_Married  MaritalStatus_Unmarried  Designation_Executive  \\\n",
       "0                  False                     True                  False   \n",
       "1                  False                    False                  False   \n",
       "2                  False                     True                   True   \n",
       "3                  False                    False                   True   \n",
       "4                  False                    False                   True   \n",
       "\n",
       "   Designation_Manager  Designation_Senior Manager  Designation_VP  \n",
       "0                 True                       False           False  \n",
       "1                 True                       False           False  \n",
       "2                False                       False           False  \n",
       "3                False                       False           False  \n",
       "4                False                       False           False  \n",
       "\n",
       "[5 rows x 29 columns]"
      ]
     },
     "execution_count": 15,
     "metadata": {},
     "output_type": "execute_result"
    }
   ],
   "source": [
    "df.head()"
   ]
  },
  {
   "cell_type": "code",
   "execution_count": 18,
   "id": "94e961c4",
   "metadata": {
    "scrolled": true
   },
   "outputs": [
    {
     "name": "stdout",
     "output_type": "stream",
     "text": [
      "<class 'pandas.core.frame.DataFrame'>\n",
      "RangeIndex: 4888 entries, 0 to 4887\n",
      "Data columns (total 29 columns):\n",
      " #   Column                       Non-Null Count  Dtype  \n",
      "---  ------                       --------------  -----  \n",
      " 0   CustomerID                   4888 non-null   int64  \n",
      " 1   ProdTaken                    4888 non-null   int64  \n",
      " 2   Age                          4662 non-null   float64\n",
      " 3   CityTier                     4888 non-null   int64  \n",
      " 4   DurationOfPitch              4637 non-null   float64\n",
      " 5   NumberOfPersonVisiting       4888 non-null   int64  \n",
      " 6   NumberOfFollowups            4843 non-null   float64\n",
      " 7   PreferredPropertyStar        4862 non-null   float64\n",
      " 8   NumberOfTrips                4748 non-null   float64\n",
      " 9   Passport                     4888 non-null   int64  \n",
      " 10  PitchSatisfactionScore       4888 non-null   int64  \n",
      " 11  OwnCar                       4888 non-null   int64  \n",
      " 12  NumberOfChildrenVisiting     4822 non-null   float64\n",
      " 13  MonthlyIncome                4655 non-null   float64\n",
      " 14  TypeofContact_Self Enquiry   4888 non-null   bool   \n",
      " 15  Occupation_Large Business    4888 non-null   int32  \n",
      " 16  Occupation_Salaried          4888 non-null   int32  \n",
      " 17  Occupation_Small Business    4888 non-null   int32  \n",
      " 18  Gender_Male                  4888 non-null   int32  \n",
      " 19  ProductPitched_Deluxe        4888 non-null   int32  \n",
      " 20  ProductPitched_King          4888 non-null   int32  \n",
      " 21  ProductPitched_Standard      4888 non-null   int32  \n",
      " 22  ProductPitched_Super Deluxe  4888 non-null   int32  \n",
      " 23  MaritalStatus_Married        4888 non-null   int32  \n",
      " 24  MaritalStatus_Unmarried      4888 non-null   int32  \n",
      " 25  Designation_Executive        4888 non-null   int32  \n",
      " 26  Designation_Manager          4888 non-null   int32  \n",
      " 27  Designation_Senior Manager   4888 non-null   int32  \n",
      " 28  Designation_VP               4888 non-null   int32  \n",
      "dtypes: bool(1), float64(7), int32(14), int64(7)\n",
      "memory usage: 806.8 KB\n"
     ]
    },
    {
     "ename": "AttributeError",
     "evalue": "'NoneType' object has no attribute 'dtype'",
     "output_type": "error",
     "traceback": [
      "\u001b[1;31m---------------------------------------------------------------------------\u001b[0m",
      "\u001b[1;31mAttributeError\u001b[0m                            Traceback (most recent call last)",
      "Cell \u001b[1;32mIn[18], line 1\u001b[0m\n\u001b[1;32m----> 1\u001b[0m df\u001b[38;5;241m.\u001b[39minfo()\u001b[38;5;241m.\u001b[39mdtype\n",
      "\u001b[1;31mAttributeError\u001b[0m: 'NoneType' object has no attribute 'dtype'"
     ]
    }
   ],
   "source": [
    "df.info().dtype"
   ]
  },
  {
   "cell_type": "code",
   "execution_count": 17,
   "id": "d9aa56b8",
   "metadata": {},
   "outputs": [],
   "source": [
    "# Converting bool to int\n",
    "df['ProductPitched_Deluxe'] = df['ProductPitched_Deluxe'].astype('int')\n",
    "df['ProductPitched_King'] = df['ProductPitched_King'].astype('int')\n",
    "df['ProductPitched_Standard'] = df['ProductPitched_Standard'].astype('int')\n",
    "df['ProductPitched_Super Deluxe'] = df['ProductPitched_Super Deluxe'].astype('int')\n",
    "df['MaritalStatus_Married'] = df['MaritalStatus_Married'].astype('int')\n",
    "df['MaritalStatus_Unmarried'] = df['MaritalStatus_Unmarried'].astype('int')\n",
    "df['Designation_Executive'] = df['Designation_Executive'].astype('int')\n",
    "df['Designation_Manager'] = df['Designation_Manager'].astype('int')\n",
    "df['Designation_Senior Manager'] = df['Designation_Senior Manager'].astype('int')\n",
    "df['Designation_VP'] = df['Designation_VP'].astype('int')\n",
    "df['Occupation_Large Business'] = df['Occupation_Large Business'].astype('int')\n",
    "df['Occupation_Salaried'] = df['Occupation_Salaried'].astype('int')\n",
    "df['Occupation_Small Business'] = df['Occupation_Small Business'].astype('int')\n",
    "df['Gender_Male'] = df['Gender_Male'].astype('int')"
   ]
  },
  {
   "cell_type": "code",
   "execution_count": 19,
   "id": "ba89416f",
   "metadata": {
    "scrolled": true
   },
   "outputs": [
    {
     "data": {
      "text/html": [
       "<div>\n",
       "<style scoped>\n",
       "    .dataframe tbody tr th:only-of-type {\n",
       "        vertical-align: middle;\n",
       "    }\n",
       "\n",
       "    .dataframe tbody tr th {\n",
       "        vertical-align: top;\n",
       "    }\n",
       "\n",
       "    .dataframe thead th {\n",
       "        text-align: right;\n",
       "    }\n",
       "</style>\n",
       "<table border=\"1\" class=\"dataframe\">\n",
       "  <thead>\n",
       "    <tr style=\"text-align: right;\">\n",
       "      <th></th>\n",
       "      <th>CustomerID</th>\n",
       "      <th>ProdTaken</th>\n",
       "      <th>Age</th>\n",
       "      <th>CityTier</th>\n",
       "      <th>DurationOfPitch</th>\n",
       "      <th>NumberOfPersonVisiting</th>\n",
       "      <th>NumberOfFollowups</th>\n",
       "      <th>PreferredPropertyStar</th>\n",
       "      <th>NumberOfTrips</th>\n",
       "      <th>Passport</th>\n",
       "      <th>...</th>\n",
       "      <th>ProductPitched_Deluxe</th>\n",
       "      <th>ProductPitched_King</th>\n",
       "      <th>ProductPitched_Standard</th>\n",
       "      <th>ProductPitched_Super Deluxe</th>\n",
       "      <th>MaritalStatus_Married</th>\n",
       "      <th>MaritalStatus_Unmarried</th>\n",
       "      <th>Designation_Executive</th>\n",
       "      <th>Designation_Manager</th>\n",
       "      <th>Designation_Senior Manager</th>\n",
       "      <th>Designation_VP</th>\n",
       "    </tr>\n",
       "  </thead>\n",
       "  <tbody>\n",
       "    <tr>\n",
       "      <th>0</th>\n",
       "      <td>200000</td>\n",
       "      <td>1</td>\n",
       "      <td>41.0</td>\n",
       "      <td>3</td>\n",
       "      <td>6.0</td>\n",
       "      <td>3</td>\n",
       "      <td>3.0</td>\n",
       "      <td>3.0</td>\n",
       "      <td>1.0</td>\n",
       "      <td>1</td>\n",
       "      <td>...</td>\n",
       "      <td>1</td>\n",
       "      <td>0</td>\n",
       "      <td>0</td>\n",
       "      <td>0</td>\n",
       "      <td>0</td>\n",
       "      <td>1</td>\n",
       "      <td>0</td>\n",
       "      <td>1</td>\n",
       "      <td>0</td>\n",
       "      <td>0</td>\n",
       "    </tr>\n",
       "    <tr>\n",
       "      <th>1</th>\n",
       "      <td>200001</td>\n",
       "      <td>0</td>\n",
       "      <td>49.0</td>\n",
       "      <td>1</td>\n",
       "      <td>14.0</td>\n",
       "      <td>3</td>\n",
       "      <td>4.0</td>\n",
       "      <td>4.0</td>\n",
       "      <td>2.0</td>\n",
       "      <td>0</td>\n",
       "      <td>...</td>\n",
       "      <td>1</td>\n",
       "      <td>0</td>\n",
       "      <td>0</td>\n",
       "      <td>0</td>\n",
       "      <td>0</td>\n",
       "      <td>0</td>\n",
       "      <td>0</td>\n",
       "      <td>1</td>\n",
       "      <td>0</td>\n",
       "      <td>0</td>\n",
       "    </tr>\n",
       "    <tr>\n",
       "      <th>2</th>\n",
       "      <td>200002</td>\n",
       "      <td>1</td>\n",
       "      <td>37.0</td>\n",
       "      <td>1</td>\n",
       "      <td>8.0</td>\n",
       "      <td>3</td>\n",
       "      <td>4.0</td>\n",
       "      <td>3.0</td>\n",
       "      <td>7.0</td>\n",
       "      <td>1</td>\n",
       "      <td>...</td>\n",
       "      <td>0</td>\n",
       "      <td>0</td>\n",
       "      <td>0</td>\n",
       "      <td>0</td>\n",
       "      <td>0</td>\n",
       "      <td>1</td>\n",
       "      <td>1</td>\n",
       "      <td>0</td>\n",
       "      <td>0</td>\n",
       "      <td>0</td>\n",
       "    </tr>\n",
       "    <tr>\n",
       "      <th>3</th>\n",
       "      <td>200003</td>\n",
       "      <td>0</td>\n",
       "      <td>33.0</td>\n",
       "      <td>1</td>\n",
       "      <td>9.0</td>\n",
       "      <td>2</td>\n",
       "      <td>3.0</td>\n",
       "      <td>3.0</td>\n",
       "      <td>2.0</td>\n",
       "      <td>1</td>\n",
       "      <td>...</td>\n",
       "      <td>0</td>\n",
       "      <td>0</td>\n",
       "      <td>0</td>\n",
       "      <td>0</td>\n",
       "      <td>0</td>\n",
       "      <td>0</td>\n",
       "      <td>1</td>\n",
       "      <td>0</td>\n",
       "      <td>0</td>\n",
       "      <td>0</td>\n",
       "    </tr>\n",
       "    <tr>\n",
       "      <th>4</th>\n",
       "      <td>200004</td>\n",
       "      <td>0</td>\n",
       "      <td>NaN</td>\n",
       "      <td>1</td>\n",
       "      <td>8.0</td>\n",
       "      <td>2</td>\n",
       "      <td>3.0</td>\n",
       "      <td>4.0</td>\n",
       "      <td>1.0</td>\n",
       "      <td>0</td>\n",
       "      <td>...</td>\n",
       "      <td>0</td>\n",
       "      <td>0</td>\n",
       "      <td>0</td>\n",
       "      <td>0</td>\n",
       "      <td>0</td>\n",
       "      <td>0</td>\n",
       "      <td>1</td>\n",
       "      <td>0</td>\n",
       "      <td>0</td>\n",
       "      <td>0</td>\n",
       "    </tr>\n",
       "  </tbody>\n",
       "</table>\n",
       "<p>5 rows × 29 columns</p>\n",
       "</div>"
      ],
      "text/plain": [
       "   CustomerID  ProdTaken   Age  CityTier  DurationOfPitch  \\\n",
       "0      200000          1  41.0         3              6.0   \n",
       "1      200001          0  49.0         1             14.0   \n",
       "2      200002          1  37.0         1              8.0   \n",
       "3      200003          0  33.0         1              9.0   \n",
       "4      200004          0   NaN         1              8.0   \n",
       "\n",
       "   NumberOfPersonVisiting  NumberOfFollowups  PreferredPropertyStar  \\\n",
       "0                       3                3.0                    3.0   \n",
       "1                       3                4.0                    4.0   \n",
       "2                       3                4.0                    3.0   \n",
       "3                       2                3.0                    3.0   \n",
       "4                       2                3.0                    4.0   \n",
       "\n",
       "   NumberOfTrips  Passport  ...  ProductPitched_Deluxe  ProductPitched_King  \\\n",
       "0            1.0         1  ...                      1                    0   \n",
       "1            2.0         0  ...                      1                    0   \n",
       "2            7.0         1  ...                      0                    0   \n",
       "3            2.0         1  ...                      0                    0   \n",
       "4            1.0         0  ...                      0                    0   \n",
       "\n",
       "   ProductPitched_Standard  ProductPitched_Super Deluxe  \\\n",
       "0                        0                            0   \n",
       "1                        0                            0   \n",
       "2                        0                            0   \n",
       "3                        0                            0   \n",
       "4                        0                            0   \n",
       "\n",
       "   MaritalStatus_Married  MaritalStatus_Unmarried  Designation_Executive  \\\n",
       "0                      0                        1                      0   \n",
       "1                      0                        0                      0   \n",
       "2                      0                        1                      1   \n",
       "3                      0                        0                      1   \n",
       "4                      0                        0                      1   \n",
       "\n",
       "   Designation_Manager  Designation_Senior Manager  Designation_VP  \n",
       "0                    1                           0               0  \n",
       "1                    1                           0               0  \n",
       "2                    0                           0               0  \n",
       "3                    0                           0               0  \n",
       "4                    0                           0               0  \n",
       "\n",
       "[5 rows x 29 columns]"
      ]
     },
     "execution_count": 19,
     "metadata": {},
     "output_type": "execute_result"
    }
   ],
   "source": [
    "df.head()"
   ]
  },
  {
   "cell_type": "code",
   "execution_count": 20,
   "id": "780dd712",
   "metadata": {
    "scrolled": true
   },
   "outputs": [
    {
     "data": {
      "text/plain": [
       "CustomerID                       0\n",
       "ProdTaken                        0\n",
       "Age                            226\n",
       "CityTier                         0\n",
       "DurationOfPitch                251\n",
       "NumberOfPersonVisiting           0\n",
       "NumberOfFollowups               45\n",
       "PreferredPropertyStar           26\n",
       "NumberOfTrips                  140\n",
       "Passport                         0\n",
       "PitchSatisfactionScore           0\n",
       "OwnCar                           0\n",
       "NumberOfChildrenVisiting        66\n",
       "MonthlyIncome                  233\n",
       "TypeofContact_Self Enquiry       0\n",
       "Occupation_Large Business        0\n",
       "Occupation_Salaried              0\n",
       "Occupation_Small Business        0\n",
       "Gender_Male                      0\n",
       "ProductPitched_Deluxe            0\n",
       "ProductPitched_King              0\n",
       "ProductPitched_Standard          0\n",
       "ProductPitched_Super Deluxe      0\n",
       "MaritalStatus_Married            0\n",
       "MaritalStatus_Unmarried          0\n",
       "Designation_Executive            0\n",
       "Designation_Manager              0\n",
       "Designation_Senior Manager       0\n",
       "Designation_VP                   0\n",
       "dtype: int64"
      ]
     },
     "execution_count": 20,
     "metadata": {},
     "output_type": "execute_result"
    }
   ],
   "source": [
    "df.isnull().sum()"
   ]
  },
  {
   "cell_type": "code",
   "execution_count": 21,
   "id": "0d8bf428",
   "metadata": {
    "scrolled": true
   },
   "outputs": [
    {
     "name": "stderr",
     "output_type": "stream",
     "text": [
      "C:\\Users\\Sharath\\AppData\\Local\\Temp\\ipykernel_5176\\3255828239.py:1: UserWarning: \n",
      "\n",
      "`distplot` is a deprecated function and will be removed in seaborn v0.14.0.\n",
      "\n",
      "Please adapt your code to use either `displot` (a figure-level function with\n",
      "similar flexibility) or `histplot` (an axes-level function for histograms).\n",
      "\n",
      "For a guide to updating your code to use the new functions, please see\n",
      "https://gist.github.com/mwaskom/de44147ed2974457ad6372750bbe5751\n",
      "\n",
      "  sns.distplot(df['Age'])\n"
     ]
    },
    {
     "data": {
      "text/plain": [
       "<Axes: xlabel='Age', ylabel='Density'>"
      ]
     },
     "execution_count": 21,
     "metadata": {},
     "output_type": "execute_result"
    },
    {
     "data": {
      "image/png": "[encoded data removed]",
      "text/plain": [
       "<Figure size 640x480 with 1 Axes>"
      ]
     },
     "metadata": {},
     "output_type": "display_data"
    }
   ],
   "source": [
    "sns.distplot(df['Age'])"
   ]
  },
  {
   "cell_type": "code",
   "execution_count": 22,
   "id": "c45a6f16",
   "metadata": {},
   "outputs": [
    {
     "name": "stderr",
     "output_type": "stream",
     "text": [
      "C:\\Users\\Sharath\\AppData\\Local\\Temp\\ipykernel_5176\\782529970.py:1: UserWarning: \n",
      "\n",
      "`distplot` is a deprecated function and will be removed in seaborn v0.14.0.\n",
      "\n",
      "Please adapt your code to use either `displot` (a figure-level function with\n",
      "similar flexibility) or `histplot` (an axes-level function for histograms).\n",
      "\n",
      "For a guide to updating your code to use the new functions, please see\n",
      "https://gist.github.com/mwaskom/de44147ed2974457ad6372750bbe5751\n",
      "\n",
      "  sns.distplot(df['DurationOfPitch'])\n"
     ]
    },
    {
     "data": {
      "text/plain": [
       "<Axes: xlabel='DurationOfPitch', ylabel='Density'>"
      ]
     },
     "execution_count": 22,
     "metadata": {},
     "output_type": "execute_result"
    },
    {
     "data": {
      "image/png": "[encoded data removed]",
      "text/plain": [
       "<Figure size 640x480 with 1 Axes>"
      ]
     },
     "metadata": {},
     "output_type": "display_data"
    }
   ],
   "source": [
    "sns.distplot(df['DurationOfPitch'])"
   ]
  },
  {
   "cell_type": "code",
   "execution_count": 23,
   "id": "13f75cff",
   "metadata": {},
   "outputs": [
    {
     "data": {
      "text/plain": [
       "DurationOfPitch\n",
       "9.0      483\n",
       "7.0      342\n",
       "8.0      333\n",
       "6.0      307\n",
       "16.0     274\n",
       "15.0     269\n",
       "14.0     253\n",
       "10.0     244\n",
       "13.0     223\n",
       "11.0     205\n",
       "12.0     195\n",
       "17.0     172\n",
       "30.0      95\n",
       "22.0      89\n",
       "31.0      83\n",
       "23.0      79\n",
       "18.0      75\n",
       "29.0      74\n",
       "32.0      74\n",
       "25.0      73\n",
       "21.0      73\n",
       "27.0      72\n",
       "26.0      72\n",
       "24.0      70\n",
       "35.0      66\n",
       "20.0      65\n",
       "28.0      61\n",
       "33.0      57\n",
       "19.0      57\n",
       "34.0      50\n",
       "36.0      44\n",
       "5.0        6\n",
       "126.0      1\n",
       "127.0      1\n",
       "Name: count, dtype: int64"
      ]
     },
     "execution_count": 23,
     "metadata": {},
     "output_type": "execute_result"
    }
   ],
   "source": [
    "df['DurationOfPitch'].value_counts()"
   ]
  },
  {
   "cell_type": "code",
   "execution_count": 24,
   "id": "4240c3ba",
   "metadata": {},
   "outputs": [
    {
     "data": {
      "text/plain": [
       "13.0"
      ]
     },
     "execution_count": 24,
     "metadata": {},
     "output_type": "execute_result"
    }
   ],
   "source": [
    "df['DurationOfPitch'].median()"
   ]
  },
  {
   "cell_type": "code",
   "execution_count": 25,
   "id": "700136de",
   "metadata": {
    "scrolled": true
   },
   "outputs": [
    {
     "data": {
      "text/plain": [
       "<Axes: xlabel='NumberOfFollowups'>"
      ]
     },
     "execution_count": 25,
     "metadata": {},
     "output_type": "execute_result"
    },
    {
     "data": {
      "image/png": "[encoded data removed]",
      "text/plain": [
       "<Figure size 640x480 with 1 Axes>"
      ]
     },
     "metadata": {},
     "output_type": "display_data"
    }
   ],
   "source": [
    "df['NumberOfFollowups'].value_counts().plot(kind='bar')"
   ]
  },
  {
   "cell_type": "code",
   "execution_count": 26,
   "id": "980e055d",
   "metadata": {},
   "outputs": [
    {
     "data": {
      "text/plain": [
       "4.0"
      ]
     },
     "execution_count": 26,
     "metadata": {},
     "output_type": "execute_result"
    }
   ],
   "source": [
    "df['NumberOfFollowups'].median()"
   ]
  },
  {
   "cell_type": "code",
   "execution_count": 27,
   "id": "d4c00234",
   "metadata": {},
   "outputs": [
    {
     "data": {
      "text/plain": [
       "<Axes: xlabel='NumberOfChildrenVisiting'>"
      ]
     },
     "execution_count": 27,
     "metadata": {},
     "output_type": "execute_result"
    },
    {
     "data": {
      "image/png": "[encoded data removed]",
      "text/plain": [
       "<Figure size 640x480 with 1 Axes>"
      ]
     },
     "metadata": {},
     "output_type": "display_data"
    }
   ],
   "source": [
    "df['NumberOfChildrenVisiting'].value_counts().plot(kind='bar')"
   ]
  },
  {
   "cell_type": "code",
   "execution_count": 28,
   "id": "99baaeb1",
   "metadata": {},
   "outputs": [
    {
     "data": {
      "text/plain": [
       "1.0"
      ]
     },
     "execution_count": 28,
     "metadata": {},
     "output_type": "execute_result"
    }
   ],
   "source": [
    "df['NumberOfChildrenVisiting'].median()"
   ]
  },
  {
   "cell_type": "code",
   "execution_count": 29,
   "id": "85136f12",
   "metadata": {},
   "outputs": [
    {
     "data": {
      "text/plain": [
       "MonthlyIncome\n",
       "20855.0    7\n",
       "21288.0    7\n",
       "17342.0    7\n",
       "21020.0    7\n",
       "24950.0    6\n",
       "          ..\n",
       "17074.0    1\n",
       "24250.0    1\n",
       "21077.0    1\n",
       "24714.0    1\n",
       "21471.0    1\n",
       "Name: count, Length: 2475, dtype: int64"
      ]
     },
     "execution_count": 29,
     "metadata": {},
     "output_type": "execute_result"
    }
   ],
   "source": [
    "df['MonthlyIncome'].value_counts()"
   ]
  },
  {
   "cell_type": "code",
   "execution_count": 30,
   "id": "f0871201",
   "metadata": {},
   "outputs": [
    {
     "data": {
      "text/plain": [
       "23619.85349087003"
      ]
     },
     "execution_count": 30,
     "metadata": {},
     "output_type": "execute_result"
    }
   ],
   "source": [
    "df['MonthlyIncome'].mean()"
   ]
  },
  {
   "cell_type": "code",
   "execution_count": 31,
   "id": "df5529d5",
   "metadata": {},
   "outputs": [
    {
     "data": {
      "text/plain": [
       "<Axes: xlabel='PreferredPropertyStar'>"
      ]
     },
     "execution_count": 31,
     "metadata": {},
     "output_type": "execute_result"
    },
    {
     "data": {
      "image/png": "[encoded data removed]",
      "text/plain": [
       "<Figure size 640x480 with 1 Axes>"
      ]
     },
     "metadata": {},
     "output_type": "display_data"
    }
   ],
   "source": [
    "df['PreferredPropertyStar'].value_counts().plot(kind='bar')"
   ]
  },
  {
   "cell_type": "code",
   "execution_count": 32,
   "id": "c1ae0a73",
   "metadata": {},
   "outputs": [
    {
     "data": {
      "text/plain": [
       "3.0"
      ]
     },
     "execution_count": 32,
     "metadata": {},
     "output_type": "execute_result"
    }
   ],
   "source": [
    "df['PreferredPropertyStar'].median()"
   ]
  },
  {
   "cell_type": "code",
   "execution_count": 33,
   "id": "446076f3",
   "metadata": {},
   "outputs": [
    {
     "data": {
      "text/plain": [
       "<Axes: xlabel='NumberOfTrips'>"
      ]
     },
     "execution_count": 33,
     "metadata": {},
     "output_type": "execute_result"
    },
    {
     "data": {
      "image/png": "[encoded data removed]",
      "text/plain": [
       "<Figure size 640x480 with 1 Axes>"
      ]
     },
     "metadata": {},
     "output_type": "display_data"
    }
   ],
   "source": [
    "df['NumberOfTrips'].value_counts().plot(kind='bar')"
   ]
  },
  {
   "cell_type": "code",
   "execution_count": 34,
   "id": "07d1388f",
   "metadata": {},
   "outputs": [
    {
     "data": {
      "text/plain": [
       "3.0"
      ]
     },
     "execution_count": 34,
     "metadata": {},
     "output_type": "execute_result"
    }
   ],
   "source": [
    "df['NumberOfTrips'].median()"
   ]
  },
  {
   "cell_type": "code",
   "execution_count": 35,
   "id": "8e2b0d89",
   "metadata": {},
   "outputs": [
    {
     "data": {
      "text/plain": [
       "<Axes: xlabel='OwnCar', ylabel='count'>"
      ]
     },
     "execution_count": 35,
     "metadata": {},
     "output_type": "execute_result"
    },
    {
     "data": {
      "image/png": "[encoded data removed]",
      "text/plain": [
       "<Figure size 640x480 with 1 Axes>"
      ]
     },
     "metadata": {},
     "output_type": "display_data"
    }
   ],
   "source": [
    "sns.countplot(x=\"OwnCar\", data=df)"
   ]
  },
  {
   "cell_type": "code",
   "execution_count": 36,
   "id": "60b2c35e",
   "metadata": {},
   "outputs": [],
   "source": [
    "# Missing Value Imputation\n",
    "df['Age']= df['Age'].fillna(df['Age'].median())\n",
    "df['DurationOfPitch']= df['DurationOfPitch'].fillna(df['DurationOfPitch'].median())\n",
    "df['NumberOfFollowups']= df['NumberOfFollowups'].fillna(df['NumberOfFollowups'].median())\n",
    "df['NumberOfTrips']= df['NumberOfTrips'].fillna(df['NumberOfTrips'].median())\n",
    "df['PreferredPropertyStar']= df['PreferredPropertyStar'].fillna(df['PreferredPropertyStar'].median())\n",
    "df['NumberOfChildrenVisiting']= df['NumberOfChildrenVisiting'].fillna(df['NumberOfChildrenVisiting'].median())\n",
    "df['MonthlyIncome']= df['MonthlyIncome'].fillna(df['MonthlyIncome'].mean())"
   ]
  },
  {
   "cell_type": "code",
   "execution_count": 37,
   "id": "9ab5b146",
   "metadata": {
    "scrolled": true
   },
   "outputs": [
    {
     "name": "stdout",
     "output_type": "stream",
     "text": [
      "<class 'pandas.core.frame.DataFrame'>\n",
      "RangeIndex: 4888 entries, 0 to 4887\n",
      "Data columns (total 29 columns):\n",
      " #   Column                       Non-Null Count  Dtype  \n",
      "---  ------                       --------------  -----  \n",
      " 0   CustomerID                   4888 non-null   int64  \n",
      " 1   ProdTaken                    4888 non-null   int64  \n",
      " 2   Age                          4888 non-null   float64\n",
      " 3   CityTier                     4888 non-null   int64  \n",
      " 4   DurationOfPitch              4888 non-null   float64\n",
      " 5   NumberOfPersonVisiting       4888 non-null   int64  \n",
      " 6   NumberOfFollowups            4888 non-null   float64\n",
      " 7   PreferredPropertyStar        4888 non-null   float64\n",
      " 8   NumberOfTrips                4888 non-null   float64\n",
      " 9   Passport                     4888 non-null   int64  \n",
      " 10  PitchSatisfactionScore       4888 non-null   int64  \n",
      " 11  OwnCar                       4888 non-null   int64  \n",
      " 12  NumberOfChildrenVisiting     4888 non-null   float64\n",
      " 13  MonthlyIncome                4888 non-null   float64\n",
      " 14  TypeofContact_Self Enquiry   4888 non-null   bool   \n",
      " 15  Occupation_Large Business    4888 non-null   int32  \n",
      " 16  Occupation_Salaried          4888 non-null   int32  \n",
      " 17  Occupation_Small Business    4888 non-null   int32  \n",
      " 18  Gender_Male                  4888 non-null   int32  \n",
      " 19  ProductPitched_Deluxe        4888 non-null   int32  \n",
      " 20  ProductPitched_King          4888 non-null   int32  \n",
      " 21  ProductPitched_Standard      4888 non-null   int32  \n",
      " 22  ProductPitched_Super Deluxe  4888 non-null   int32  \n",
      " 23  MaritalStatus_Married        4888 non-null   int32  \n",
      " 24  MaritalStatus_Unmarried      4888 non-null   int32  \n",
      " 25  Designation_Executive        4888 non-null   int32  \n",
      " 26  Designation_Manager          4888 non-null   int32  \n",
      " 27  Designation_Senior Manager   4888 non-null   int32  \n",
      " 28  Designation_VP               4888 non-null   int32  \n",
      "dtypes: bool(1), float64(7), int32(14), int64(7)\n",
      "memory usage: 806.8 KB\n"
     ]
    }
   ],
   "source": [
    "df.info()"
   ]
  },
  {
   "cell_type": "code",
   "execution_count": 38,
   "id": "186b8ca1",
   "metadata": {},
   "outputs": [
    {
     "data": {
      "text/html": [
       "<div>\n",
       "<style scoped>\n",
       "    .dataframe tbody tr th:only-of-type {\n",
       "        vertical-align: middle;\n",
       "    }\n",
       "\n",
       "    .dataframe tbody tr th {\n",
       "        vertical-align: top;\n",
       "    }\n",
       "\n",
       "    .dataframe thead th {\n",
       "        text-align: right;\n",
       "    }\n",
       "</style>\n",
       "<table border=\"1\" class=\"dataframe\">\n",
       "  <thead>\n",
       "    <tr style=\"text-align: right;\">\n",
       "      <th></th>\n",
       "      <th>CustomerID</th>\n",
       "      <th>ProdTaken</th>\n",
       "      <th>Age</th>\n",
       "      <th>CityTier</th>\n",
       "      <th>DurationOfPitch</th>\n",
       "      <th>NumberOfPersonVisiting</th>\n",
       "      <th>NumberOfFollowups</th>\n",
       "      <th>PreferredPropertyStar</th>\n",
       "      <th>NumberOfTrips</th>\n",
       "      <th>Passport</th>\n",
       "      <th>...</th>\n",
       "      <th>ProductPitched_Deluxe</th>\n",
       "      <th>ProductPitched_King</th>\n",
       "      <th>ProductPitched_Standard</th>\n",
       "      <th>ProductPitched_Super Deluxe</th>\n",
       "      <th>MaritalStatus_Married</th>\n",
       "      <th>MaritalStatus_Unmarried</th>\n",
       "      <th>Designation_Executive</th>\n",
       "      <th>Designation_Manager</th>\n",
       "      <th>Designation_Senior Manager</th>\n",
       "      <th>Designation_VP</th>\n",
       "    </tr>\n",
       "  </thead>\n",
       "  <tbody>\n",
       "    <tr>\n",
       "      <th>count</th>\n",
       "      <td>4888.000000</td>\n",
       "      <td>4888.000000</td>\n",
       "      <td>4888.000000</td>\n",
       "      <td>4888.000000</td>\n",
       "      <td>4888.000000</td>\n",
       "      <td>4888.000000</td>\n",
       "      <td>4888.000000</td>\n",
       "      <td>4888.000000</td>\n",
       "      <td>4888.000000</td>\n",
       "      <td>4888.000000</td>\n",
       "      <td>...</td>\n",
       "      <td>4888.000000</td>\n",
       "      <td>4888.000000</td>\n",
       "      <td>4888.000000</td>\n",
       "      <td>4888.000000</td>\n",
       "      <td>4888.000000</td>\n",
       "      <td>4888.000000</td>\n",
       "      <td>4888.000000</td>\n",
       "      <td>4888.000000</td>\n",
       "      <td>4888.000000</td>\n",
       "      <td>4888.000000</td>\n",
       "    </tr>\n",
       "    <tr>\n",
       "      <th>mean</th>\n",
       "      <td>202443.500000</td>\n",
       "      <td>0.188216</td>\n",
       "      <td>37.547259</td>\n",
       "      <td>1.654255</td>\n",
       "      <td>15.362930</td>\n",
       "      <td>2.905074</td>\n",
       "      <td>3.711129</td>\n",
       "      <td>3.577946</td>\n",
       "      <td>3.229746</td>\n",
       "      <td>0.290917</td>\n",
       "      <td>...</td>\n",
       "      <td>0.354337</td>\n",
       "      <td>0.047054</td>\n",
       "      <td>0.151800</td>\n",
       "      <td>0.069967</td>\n",
       "      <td>0.478723</td>\n",
       "      <td>0.326923</td>\n",
       "      <td>0.376841</td>\n",
       "      <td>0.354337</td>\n",
       "      <td>0.151800</td>\n",
       "      <td>0.047054</td>\n",
       "    </tr>\n",
       "    <tr>\n",
       "      <th>std</th>\n",
       "      <td>1411.188388</td>\n",
       "      <td>0.390925</td>\n",
       "      <td>9.104795</td>\n",
       "      <td>0.916583</td>\n",
       "      <td>8.316166</td>\n",
       "      <td>0.724891</td>\n",
       "      <td>0.998271</td>\n",
       "      <td>0.797005</td>\n",
       "      <td>1.822769</td>\n",
       "      <td>0.454232</td>\n",
       "      <td>...</td>\n",
       "      <td>0.478361</td>\n",
       "      <td>0.211776</td>\n",
       "      <td>0.358864</td>\n",
       "      <td>0.255118</td>\n",
       "      <td>0.499598</td>\n",
       "      <td>0.469137</td>\n",
       "      <td>0.484644</td>\n",
       "      <td>0.478361</td>\n",
       "      <td>0.358864</td>\n",
       "      <td>0.211776</td>\n",
       "    </tr>\n",
       "    <tr>\n",
       "      <th>min</th>\n",
       "      <td>200000.000000</td>\n",
       "      <td>0.000000</td>\n",
       "      <td>18.000000</td>\n",
       "      <td>1.000000</td>\n",
       "      <td>5.000000</td>\n",
       "      <td>1.000000</td>\n",
       "      <td>1.000000</td>\n",
       "      <td>3.000000</td>\n",
       "      <td>1.000000</td>\n",
       "      <td>0.000000</td>\n",
       "      <td>...</td>\n",
       "      <td>0.000000</td>\n",
       "      <td>0.000000</td>\n",
       "      <td>0.000000</td>\n",
       "      <td>0.000000</td>\n",
       "      <td>0.000000</td>\n",
       "      <td>0.000000</td>\n",
       "      <td>0.000000</td>\n",
       "      <td>0.000000</td>\n",
       "      <td>0.000000</td>\n",
       "      <td>0.000000</td>\n",
       "    </tr>\n",
       "    <tr>\n",
       "      <th>25%</th>\n",
       "      <td>201221.750000</td>\n",
       "      <td>0.000000</td>\n",
       "      <td>31.000000</td>\n",
       "      <td>1.000000</td>\n",
       "      <td>9.000000</td>\n",
       "      <td>2.000000</td>\n",
       "      <td>3.000000</td>\n",
       "      <td>3.000000</td>\n",
       "      <td>2.000000</td>\n",
       "      <td>0.000000</td>\n",
       "      <td>...</td>\n",
       "      <td>0.000000</td>\n",
       "      <td>0.000000</td>\n",
       "      <td>0.000000</td>\n",
       "      <td>0.000000</td>\n",
       "      <td>0.000000</td>\n",
       "      <td>0.000000</td>\n",
       "      <td>0.000000</td>\n",
       "      <td>0.000000</td>\n",
       "      <td>0.000000</td>\n",
       "      <td>0.000000</td>\n",
       "    </tr>\n",
       "    <tr>\n",
       "      <th>50%</th>\n",
       "      <td>202443.500000</td>\n",
       "      <td>0.000000</td>\n",
       "      <td>36.000000</td>\n",
       "      <td>1.000000</td>\n",
       "      <td>13.000000</td>\n",
       "      <td>3.000000</td>\n",
       "      <td>4.000000</td>\n",
       "      <td>3.000000</td>\n",
       "      <td>3.000000</td>\n",
       "      <td>0.000000</td>\n",
       "      <td>...</td>\n",
       "      <td>0.000000</td>\n",
       "      <td>0.000000</td>\n",
       "      <td>0.000000</td>\n",
       "      <td>0.000000</td>\n",
       "      <td>0.000000</td>\n",
       "      <td>0.000000</td>\n",
       "      <td>0.000000</td>\n",
       "      <td>0.000000</td>\n",
       "      <td>0.000000</td>\n",
       "      <td>0.000000</td>\n",
       "    </tr>\n",
       "    <tr>\n",
       "      <th>75%</th>\n",
       "      <td>203665.250000</td>\n",
       "      <td>0.000000</td>\n",
       "      <td>43.000000</td>\n",
       "      <td>3.000000</td>\n",
       "      <td>19.000000</td>\n",
       "      <td>3.000000</td>\n",
       "      <td>4.000000</td>\n",
       "      <td>4.000000</td>\n",
       "      <td>4.000000</td>\n",
       "      <td>1.000000</td>\n",
       "      <td>...</td>\n",
       "      <td>1.000000</td>\n",
       "      <td>0.000000</td>\n",
       "      <td>0.000000</td>\n",
       "      <td>0.000000</td>\n",
       "      <td>1.000000</td>\n",
       "      <td>1.000000</td>\n",
       "      <td>1.000000</td>\n",
       "      <td>1.000000</td>\n",
       "      <td>0.000000</td>\n",
       "      <td>0.000000</td>\n",
       "    </tr>\n",
       "    <tr>\n",
       "      <th>max</th>\n",
       "      <td>204887.000000</td>\n",
       "      <td>1.000000</td>\n",
       "      <td>61.000000</td>\n",
       "      <td>3.000000</td>\n",
       "      <td>127.000000</td>\n",
       "      <td>5.000000</td>\n",
       "      <td>6.000000</td>\n",
       "      <td>5.000000</td>\n",
       "      <td>22.000000</td>\n",
       "      <td>1.000000</td>\n",
       "      <td>...</td>\n",
       "      <td>1.000000</td>\n",
       "      <td>1.000000</td>\n",
       "      <td>1.000000</td>\n",
       "      <td>1.000000</td>\n",
       "      <td>1.000000</td>\n",
       "      <td>1.000000</td>\n",
       "      <td>1.000000</td>\n",
       "      <td>1.000000</td>\n",
       "      <td>1.000000</td>\n",
       "      <td>1.000000</td>\n",
       "    </tr>\n",
       "  </tbody>\n",
       "</table>\n",
       "<p>8 rows × 28 columns</p>\n",
       "</div>"
      ],
      "text/plain": [
       "          CustomerID    ProdTaken          Age     CityTier  DurationOfPitch  \\\n",
       "count    4888.000000  4888.000000  4888.000000  4888.000000      4888.000000   \n",
       "mean   202443.500000     0.188216    37.547259     1.654255        15.362930   \n",
       "std      1411.188388     0.390925     9.104795     0.916583         8.316166   \n",
       "min    200000.000000     0.000000    18.000000     1.000000         5.000000   \n",
       "25%    201221.750000     0.000000    31.000000     1.000000         9.000000   \n",
       "50%    202443.500000     0.000000    36.000000     1.000000        13.000000   \n",
       "75%    203665.250000     0.000000    43.000000     3.000000        19.000000   \n",
       "max    204887.000000     1.000000    61.000000     3.000000       127.000000   \n",
       "\n",
       "       NumberOfPersonVisiting  NumberOfFollowups  PreferredPropertyStar  \\\n",
       "count             4888.000000        4888.000000            4888.000000   \n",
       "mean                 2.905074           3.711129               3.577946   \n",
       "std                  0.724891           0.998271               0.797005   \n",
       "min                  1.000000           1.000000               3.000000   \n",
       "25%                  2.000000           3.000000               3.000000   \n",
       "50%                  3.000000           4.000000               3.000000   \n",
       "75%                  3.000000           4.000000               4.000000   \n",
       "max                  5.000000           6.000000               5.000000   \n",
       "\n",
       "       NumberOfTrips     Passport  ...  ProductPitched_Deluxe  \\\n",
       "count    4888.000000  4888.000000  ...            4888.000000   \n",
       "mean        3.229746     0.290917  ...               0.354337   \n",
       "std         1.822769     0.454232  ...               0.478361   \n",
       "min         1.000000     0.000000  ...               0.000000   \n",
       "25%         2.000000     0.000000  ...               0.000000   \n",
       "50%         3.000000     0.000000  ...               0.000000   \n",
       "75%         4.000000     1.000000  ...               1.000000   \n",
       "max        22.000000     1.000000  ...               1.000000   \n",
       "\n",
       "       ProductPitched_King  ProductPitched_Standard  \\\n",
       "count          4888.000000              4888.000000   \n",
       "mean              0.047054                 0.151800   \n",
       "std               0.211776                 0.358864   \n",
       "min               0.000000                 0.000000   \n",
       "25%               0.000000                 0.000000   \n",
       "50%               0.000000                 0.000000   \n",
       "75%               0.000000                 0.000000   \n",
       "max               1.000000                 1.000000   \n",
       "\n",
       "       ProductPitched_Super Deluxe  MaritalStatus_Married  \\\n",
       "count                  4888.000000            4888.000000   \n",
       "mean                      0.069967               0.478723   \n",
       "std                       0.255118               0.499598   \n",
       "min                       0.000000               0.000000   \n",
       "25%                       0.000000               0.000000   \n",
       "50%                       0.000000               0.000000   \n",
       "75%                       0.000000               1.000000   \n",
       "max                       1.000000               1.000000   \n",
       "\n",
       "       MaritalStatus_Unmarried  Designation_Executive  Designation_Manager  \\\n",
       "count              4888.000000            4888.000000          4888.000000   \n",
       "mean                  0.326923               0.376841             0.354337   \n",
       "std                   0.469137               0.484644             0.478361   \n",
       "min                   0.000000               0.000000             0.000000   \n",
       "25%                   0.000000               0.000000             0.000000   \n",
       "50%                   0.000000               0.000000             0.000000   \n",
       "75%                   1.000000               1.000000             1.000000   \n",
       "max                   1.000000               1.000000             1.000000   \n",
       "\n",
       "       Designation_Senior Manager  Designation_VP  \n",
       "count                 4888.000000     4888.000000  \n",
       "mean                     0.151800        0.047054  \n",
       "std                      0.358864        0.211776  \n",
       "min                      0.000000        0.000000  \n",
       "25%                      0.000000        0.000000  \n",
       "50%                      0.000000        0.000000  \n",
       "75%                      0.000000        0.000000  \n",
       "max                      1.000000        1.000000  \n",
       "\n",
       "[8 rows x 28 columns]"
      ]
     },
     "execution_count": 38,
     "metadata": {},
     "output_type": "execute_result"
    }
   ],
   "source": [
    "df.describe()"
   ]
  },
  {
   "cell_type": "markdown",
   "id": "52dd8c1a",
   "metadata": {},
   "source": [
    "### Capping treatment for DurationOfPitch"
   ]
  },
  {
   "cell_type": "code",
   "execution_count": 39,
   "id": "54808830",
   "metadata": {},
   "outputs": [
    {
     "data": {
      "text/plain": [
       "32.0"
      ]
     },
     "execution_count": 39,
     "metadata": {},
     "output_type": "execute_result"
    }
   ],
   "source": [
    "np.percentile(df['DurationOfPitch'], [95])[0] # 95th percentile"
   ]
  },
  {
   "cell_type": "code",
   "execution_count": 40,
   "id": "c947fcd8",
   "metadata": {},
   "outputs": [],
   "source": [
    "uv = np.percentile(df['DurationOfPitch'], [95])[0]"
   ]
  },
  {
   "cell_type": "code",
   "execution_count": 41,
   "id": "d6f72ebb",
   "metadata": {
    "scrolled": true
   },
   "outputs": [
    {
     "data": {
      "text/html": [
       "<div>\n",
       "<style scoped>\n",
       "    .dataframe tbody tr th:only-of-type {\n",
       "        vertical-align: middle;\n",
       "    }\n",
       "\n",
       "    .dataframe tbody tr th {\n",
       "        vertical-align: top;\n",
       "    }\n",
       "\n",
       "    .dataframe thead th {\n",
       "        text-align: right;\n",
       "    }\n",
       "</style>\n",
       "<table border=\"1\" class=\"dataframe\">\n",
       "  <thead>\n",
       "    <tr style=\"text-align: right;\">\n",
       "      <th></th>\n",
       "      <th>CustomerID</th>\n",
       "      <th>ProdTaken</th>\n",
       "      <th>Age</th>\n",
       "      <th>CityTier</th>\n",
       "      <th>DurationOfPitch</th>\n",
       "      <th>NumberOfPersonVisiting</th>\n",
       "      <th>NumberOfFollowups</th>\n",
       "      <th>PreferredPropertyStar</th>\n",
       "      <th>NumberOfTrips</th>\n",
       "      <th>Passport</th>\n",
       "      <th>...</th>\n",
       "      <th>ProductPitched_Deluxe</th>\n",
       "      <th>ProductPitched_King</th>\n",
       "      <th>ProductPitched_Standard</th>\n",
       "      <th>ProductPitched_Super Deluxe</th>\n",
       "      <th>MaritalStatus_Married</th>\n",
       "      <th>MaritalStatus_Unmarried</th>\n",
       "      <th>Designation_Executive</th>\n",
       "      <th>Designation_Manager</th>\n",
       "      <th>Designation_Senior Manager</th>\n",
       "      <th>Designation_VP</th>\n",
       "    </tr>\n",
       "  </thead>\n",
       "  <tbody>\n",
       "    <tr>\n",
       "      <th>9</th>\n",
       "      <td>200009</td>\n",
       "      <td>0</td>\n",
       "      <td>36.0</td>\n",
       "      <td>1</td>\n",
       "      <td>33.0</td>\n",
       "      <td>3</td>\n",
       "      <td>3.0</td>\n",
       "      <td>3.0</td>\n",
       "      <td>7.0</td>\n",
       "      <td>0</td>\n",
       "      <td>...</td>\n",
       "      <td>1</td>\n",
       "      <td>0</td>\n",
       "      <td>0</td>\n",
       "      <td>0</td>\n",
       "      <td>0</td>\n",
       "      <td>0</td>\n",
       "      <td>0</td>\n",
       "      <td>1</td>\n",
       "      <td>0</td>\n",
       "      <td>0</td>\n",
       "    </tr>\n",
       "    <tr>\n",
       "      <th>61</th>\n",
       "      <td>200061</td>\n",
       "      <td>0</td>\n",
       "      <td>38.0</td>\n",
       "      <td>1</td>\n",
       "      <td>35.0</td>\n",
       "      <td>2</td>\n",
       "      <td>3.0</td>\n",
       "      <td>3.0</td>\n",
       "      <td>2.0</td>\n",
       "      <td>0</td>\n",
       "      <td>...</td>\n",
       "      <td>1</td>\n",
       "      <td>0</td>\n",
       "      <td>0</td>\n",
       "      <td>0</td>\n",
       "      <td>0</td>\n",
       "      <td>1</td>\n",
       "      <td>0</td>\n",
       "      <td>1</td>\n",
       "      <td>0</td>\n",
       "      <td>0</td>\n",
       "    </tr>\n",
       "    <tr>\n",
       "      <th>138</th>\n",
       "      <td>200138</td>\n",
       "      <td>0</td>\n",
       "      <td>25.0</td>\n",
       "      <td>3</td>\n",
       "      <td>34.0</td>\n",
       "      <td>2</td>\n",
       "      <td>4.0</td>\n",
       "      <td>3.0</td>\n",
       "      <td>3.0</td>\n",
       "      <td>0</td>\n",
       "      <td>...</td>\n",
       "      <td>1</td>\n",
       "      <td>0</td>\n",
       "      <td>0</td>\n",
       "      <td>0</td>\n",
       "      <td>0</td>\n",
       "      <td>0</td>\n",
       "      <td>0</td>\n",
       "      <td>1</td>\n",
       "      <td>0</td>\n",
       "      <td>0</td>\n",
       "    </tr>\n",
       "    <tr>\n",
       "      <th>141</th>\n",
       "      <td>200141</td>\n",
       "      <td>0</td>\n",
       "      <td>36.0</td>\n",
       "      <td>1</td>\n",
       "      <td>35.0</td>\n",
       "      <td>2</td>\n",
       "      <td>3.0</td>\n",
       "      <td>3.0</td>\n",
       "      <td>6.0</td>\n",
       "      <td>0</td>\n",
       "      <td>...</td>\n",
       "      <td>0</td>\n",
       "      <td>0</td>\n",
       "      <td>0</td>\n",
       "      <td>0</td>\n",
       "      <td>0</td>\n",
       "      <td>1</td>\n",
       "      <td>1</td>\n",
       "      <td>0</td>\n",
       "      <td>0</td>\n",
       "      <td>0</td>\n",
       "    </tr>\n",
       "    <tr>\n",
       "      <th>181</th>\n",
       "      <td>200181</td>\n",
       "      <td>0</td>\n",
       "      <td>34.0</td>\n",
       "      <td>1</td>\n",
       "      <td>33.0</td>\n",
       "      <td>3</td>\n",
       "      <td>3.0</td>\n",
       "      <td>4.0</td>\n",
       "      <td>3.0</td>\n",
       "      <td>0</td>\n",
       "      <td>...</td>\n",
       "      <td>0</td>\n",
       "      <td>0</td>\n",
       "      <td>0</td>\n",
       "      <td>0</td>\n",
       "      <td>0</td>\n",
       "      <td>1</td>\n",
       "      <td>1</td>\n",
       "      <td>0</td>\n",
       "      <td>0</td>\n",
       "      <td>0</td>\n",
       "    </tr>\n",
       "    <tr>\n",
       "      <th>...</th>\n",
       "      <td>...</td>\n",
       "      <td>...</td>\n",
       "      <td>...</td>\n",
       "      <td>...</td>\n",
       "      <td>...</td>\n",
       "      <td>...</td>\n",
       "      <td>...</td>\n",
       "      <td>...</td>\n",
       "      <td>...</td>\n",
       "      <td>...</td>\n",
       "      <td>...</td>\n",
       "      <td>...</td>\n",
       "      <td>...</td>\n",
       "      <td>...</td>\n",
       "      <td>...</td>\n",
       "      <td>...</td>\n",
       "      <td>...</td>\n",
       "      <td>...</td>\n",
       "      <td>...</td>\n",
       "      <td>...</td>\n",
       "      <td>...</td>\n",
       "    </tr>\n",
       "    <tr>\n",
       "      <th>4779</th>\n",
       "      <td>204779</td>\n",
       "      <td>0</td>\n",
       "      <td>31.0</td>\n",
       "      <td>3</td>\n",
       "      <td>36.0</td>\n",
       "      <td>4</td>\n",
       "      <td>4.0</td>\n",
       "      <td>5.0</td>\n",
       "      <td>2.0</td>\n",
       "      <td>0</td>\n",
       "      <td>...</td>\n",
       "      <td>1</td>\n",
       "      <td>0</td>\n",
       "      <td>0</td>\n",
       "      <td>0</td>\n",
       "      <td>1</td>\n",
       "      <td>0</td>\n",
       "      <td>0</td>\n",
       "      <td>1</td>\n",
       "      <td>0</td>\n",
       "      <td>0</td>\n",
       "    </tr>\n",
       "    <tr>\n",
       "      <th>4789</th>\n",
       "      <td>204789</td>\n",
       "      <td>0</td>\n",
       "      <td>45.0</td>\n",
       "      <td>1</td>\n",
       "      <td>36.0</td>\n",
       "      <td>3</td>\n",
       "      <td>4.0</td>\n",
       "      <td>3.0</td>\n",
       "      <td>3.0</td>\n",
       "      <td>0</td>\n",
       "      <td>...</td>\n",
       "      <td>1</td>\n",
       "      <td>0</td>\n",
       "      <td>0</td>\n",
       "      <td>0</td>\n",
       "      <td>0</td>\n",
       "      <td>1</td>\n",
       "      <td>0</td>\n",
       "      <td>1</td>\n",
       "      <td>0</td>\n",
       "      <td>0</td>\n",
       "    </tr>\n",
       "    <tr>\n",
       "      <th>4801</th>\n",
       "      <td>204801</td>\n",
       "      <td>0</td>\n",
       "      <td>43.0</td>\n",
       "      <td>1</td>\n",
       "      <td>33.0</td>\n",
       "      <td>3</td>\n",
       "      <td>4.0</td>\n",
       "      <td>5.0</td>\n",
       "      <td>5.0</td>\n",
       "      <td>1</td>\n",
       "      <td>...</td>\n",
       "      <td>0</td>\n",
       "      <td>0</td>\n",
       "      <td>1</td>\n",
       "      <td>0</td>\n",
       "      <td>1</td>\n",
       "      <td>0</td>\n",
       "      <td>0</td>\n",
       "      <td>0</td>\n",
       "      <td>1</td>\n",
       "      <td>0</td>\n",
       "    </tr>\n",
       "    <tr>\n",
       "      <th>4832</th>\n",
       "      <td>204832</td>\n",
       "      <td>1</td>\n",
       "      <td>52.0</td>\n",
       "      <td>1</td>\n",
       "      <td>35.0</td>\n",
       "      <td>4</td>\n",
       "      <td>5.0</td>\n",
       "      <td>3.0</td>\n",
       "      <td>5.0</td>\n",
       "      <td>0</td>\n",
       "      <td>...</td>\n",
       "      <td>1</td>\n",
       "      <td>0</td>\n",
       "      <td>0</td>\n",
       "      <td>0</td>\n",
       "      <td>0</td>\n",
       "      <td>1</td>\n",
       "      <td>0</td>\n",
       "      <td>1</td>\n",
       "      <td>0</td>\n",
       "      <td>0</td>\n",
       "    </tr>\n",
       "    <tr>\n",
       "      <th>4876</th>\n",
       "      <td>204876</td>\n",
       "      <td>1</td>\n",
       "      <td>52.0</td>\n",
       "      <td>3</td>\n",
       "      <td>34.0</td>\n",
       "      <td>3</td>\n",
       "      <td>4.0</td>\n",
       "      <td>3.0</td>\n",
       "      <td>3.0</td>\n",
       "      <td>1</td>\n",
       "      <td>...</td>\n",
       "      <td>1</td>\n",
       "      <td>0</td>\n",
       "      <td>0</td>\n",
       "      <td>0</td>\n",
       "      <td>0</td>\n",
       "      <td>1</td>\n",
       "      <td>0</td>\n",
       "      <td>1</td>\n",
       "      <td>0</td>\n",
       "      <td>0</td>\n",
       "    </tr>\n",
       "  </tbody>\n",
       "</table>\n",
       "<p>219 rows × 29 columns</p>\n",
       "</div>"
      ],
      "text/plain": [
       "      CustomerID  ProdTaken   Age  CityTier  DurationOfPitch  \\\n",
       "9         200009          0  36.0         1             33.0   \n",
       "61        200061          0  38.0         1             35.0   \n",
       "138       200138          0  25.0         3             34.0   \n",
       "141       200141          0  36.0         1             35.0   \n",
       "181       200181          0  34.0         1             33.0   \n",
       "...          ...        ...   ...       ...              ...   \n",
       "4779      204779          0  31.0         3             36.0   \n",
       "4789      204789          0  45.0         1             36.0   \n",
       "4801      204801          0  43.0         1             33.0   \n",
       "4832      204832          1  52.0         1             35.0   \n",
       "4876      204876          1  52.0         3             34.0   \n",
       "\n",
       "      NumberOfPersonVisiting  NumberOfFollowups  PreferredPropertyStar  \\\n",
       "9                          3                3.0                    3.0   \n",
       "61                         2                3.0                    3.0   \n",
       "138                        2                4.0                    3.0   \n",
       "141                        2                3.0                    3.0   \n",
       "181                        3                3.0                    4.0   \n",
       "...                      ...                ...                    ...   \n",
       "4779                       4                4.0                    5.0   \n",
       "4789                       3                4.0                    3.0   \n",
       "4801                       3                4.0                    5.0   \n",
       "4832                       4                5.0                    3.0   \n",
       "4876                       3                4.0                    3.0   \n",
       "\n",
       "      NumberOfTrips  Passport  ...  ProductPitched_Deluxe  \\\n",
       "9               7.0         0  ...                      1   \n",
       "61              2.0         0  ...                      1   \n",
       "138             3.0         0  ...                      1   \n",
       "141             6.0         0  ...                      0   \n",
       "181             3.0         0  ...                      0   \n",
       "...             ...       ...  ...                    ...   \n",
       "4779            2.0         0  ...                      1   \n",
       "4789            3.0         0  ...                      1   \n",
       "4801            5.0         1  ...                      0   \n",
       "4832            5.0         0  ...                      1   \n",
       "4876            3.0         1  ...                      1   \n",
       "\n",
       "      ProductPitched_King  ProductPitched_Standard  \\\n",
       "9                       0                        0   \n",
       "61                      0                        0   \n",
       "138                     0                        0   \n",
       "141                     0                        0   \n",
       "181                     0                        0   \n",
       "...                   ...                      ...   \n",
       "4779                    0                        0   \n",
       "4789                    0                        0   \n",
       "4801                    0                        1   \n",
       "4832                    0                        0   \n",
       "4876                    0                        0   \n",
       "\n",
       "      ProductPitched_Super Deluxe  MaritalStatus_Married  \\\n",
       "9                               0                      0   \n",
       "61                              0                      0   \n",
       "138                             0                      0   \n",
       "141                             0                      0   \n",
       "181                             0                      0   \n",
       "...                           ...                    ...   \n",
       "4779                            0                      1   \n",
       "4789                            0                      0   \n",
       "4801                            0                      1   \n",
       "4832                            0                      0   \n",
       "4876                            0                      0   \n",
       "\n",
       "      MaritalStatus_Unmarried  Designation_Executive  Designation_Manager  \\\n",
       "9                           0                      0                    1   \n",
       "61                          1                      0                    1   \n",
       "138                         0                      0                    1   \n",
       "141                         1                      1                    0   \n",
       "181                         1                      1                    0   \n",
       "...                       ...                    ...                  ...   \n",
       "4779                        0                      0                    1   \n",
       "4789                        1                      0                    1   \n",
       "4801                        0                      0                    0   \n",
       "4832                        1                      0                    1   \n",
       "4876                        1                      0                    1   \n",
       "\n",
       "      Designation_Senior Manager  Designation_VP  \n",
       "9                              0               0  \n",
       "61                             0               0  \n",
       "138                            0               0  \n",
       "141                            0               0  \n",
       "181                            0               0  \n",
       "...                          ...             ...  \n",
       "4779                           0               0  \n",
       "4789                           0               0  \n",
       "4801                           1               0  \n",
       "4832                           0               0  \n",
       "4876                           0               0  \n",
       "\n",
       "[219 rows x 29 columns]"
      ]
     },
     "execution_count": 41,
     "metadata": {},
     "output_type": "execute_result"
    }
   ],
   "source": [
    "df[df['DurationOfPitch']>uv]"
   ]
  },
  {
   "cell_type": "code",
   "execution_count": 42,
   "id": "773668fb",
   "metadata": {
    "scrolled": true
   },
   "outputs": [
    {
     "name": "stderr",
     "output_type": "stream",
     "text": [
      "C:\\Users\\Sharath\\AppData\\Local\\Temp\\ipykernel_5176\\2131648978.py:1: SettingWithCopyWarning: \n",
      "A value is trying to be set on a copy of a slice from a DataFrame\n",
      "\n",
      "See the caveats in the documentation: https://pandas.pydata.org/pandas-docs/stable/user_guide/indexing.html#returning-a-view-versus-a-copy\n",
      "  df['DurationOfPitch'][(df['DurationOfPitch']>1.5*uv)] =1.5*uv\n"
     ]
    }
   ],
   "source": [
    "df['DurationOfPitch'][(df['DurationOfPitch']>1.5*uv)] =1.5*uv"
   ]
  },
  {
   "cell_type": "code",
   "execution_count": 43,
   "id": "8273eeba",
   "metadata": {},
   "outputs": [
    {
     "data": {
      "text/html": [
       "<div>\n",
       "<style scoped>\n",
       "    .dataframe tbody tr th:only-of-type {\n",
       "        vertical-align: middle;\n",
       "    }\n",
       "\n",
       "    .dataframe tbody tr th {\n",
       "        vertical-align: top;\n",
       "    }\n",
       "\n",
       "    .dataframe thead th {\n",
       "        text-align: right;\n",
       "    }\n",
       "</style>\n",
       "<table border=\"1\" class=\"dataframe\">\n",
       "  <thead>\n",
       "    <tr style=\"text-align: right;\">\n",
       "      <th></th>\n",
       "      <th>CustomerID</th>\n",
       "      <th>ProdTaken</th>\n",
       "      <th>Age</th>\n",
       "      <th>CityTier</th>\n",
       "      <th>DurationOfPitch</th>\n",
       "      <th>NumberOfPersonVisiting</th>\n",
       "      <th>NumberOfFollowups</th>\n",
       "      <th>PreferredPropertyStar</th>\n",
       "      <th>NumberOfTrips</th>\n",
       "      <th>Passport</th>\n",
       "      <th>...</th>\n",
       "      <th>ProductPitched_Deluxe</th>\n",
       "      <th>ProductPitched_King</th>\n",
       "      <th>ProductPitched_Standard</th>\n",
       "      <th>ProductPitched_Super Deluxe</th>\n",
       "      <th>MaritalStatus_Married</th>\n",
       "      <th>MaritalStatus_Unmarried</th>\n",
       "      <th>Designation_Executive</th>\n",
       "      <th>Designation_Manager</th>\n",
       "      <th>Designation_Senior Manager</th>\n",
       "      <th>Designation_VP</th>\n",
       "    </tr>\n",
       "  </thead>\n",
       "  <tbody>\n",
       "    <tr>\n",
       "      <th>count</th>\n",
       "      <td>4888.000000</td>\n",
       "      <td>4888.000000</td>\n",
       "      <td>4888.000000</td>\n",
       "      <td>4888.000000</td>\n",
       "      <td>4888.000000</td>\n",
       "      <td>4888.000000</td>\n",
       "      <td>4888.000000</td>\n",
       "      <td>4888.000000</td>\n",
       "      <td>4888.000000</td>\n",
       "      <td>4888.000000</td>\n",
       "      <td>...</td>\n",
       "      <td>4888.000000</td>\n",
       "      <td>4888.000000</td>\n",
       "      <td>4888.000000</td>\n",
       "      <td>4888.000000</td>\n",
       "      <td>4888.000000</td>\n",
       "      <td>4888.000000</td>\n",
       "      <td>4888.000000</td>\n",
       "      <td>4888.000000</td>\n",
       "      <td>4888.000000</td>\n",
       "      <td>4888.000000</td>\n",
       "    </tr>\n",
       "    <tr>\n",
       "      <th>mean</th>\n",
       "      <td>202443.500000</td>\n",
       "      <td>0.188216</td>\n",
       "      <td>37.547259</td>\n",
       "      <td>1.654255</td>\n",
       "      <td>15.330810</td>\n",
       "      <td>2.905074</td>\n",
       "      <td>3.711129</td>\n",
       "      <td>3.577946</td>\n",
       "      <td>3.229746</td>\n",
       "      <td>0.290917</td>\n",
       "      <td>...</td>\n",
       "      <td>0.354337</td>\n",
       "      <td>0.047054</td>\n",
       "      <td>0.151800</td>\n",
       "      <td>0.069967</td>\n",
       "      <td>0.478723</td>\n",
       "      <td>0.326923</td>\n",
       "      <td>0.376841</td>\n",
       "      <td>0.354337</td>\n",
       "      <td>0.151800</td>\n",
       "      <td>0.047054</td>\n",
       "    </tr>\n",
       "    <tr>\n",
       "      <th>std</th>\n",
       "      <td>1411.188388</td>\n",
       "      <td>0.390925</td>\n",
       "      <td>9.104795</td>\n",
       "      <td>0.916583</td>\n",
       "      <td>8.033591</td>\n",
       "      <td>0.724891</td>\n",
       "      <td>0.998271</td>\n",
       "      <td>0.797005</td>\n",
       "      <td>1.822769</td>\n",
       "      <td>0.454232</td>\n",
       "      <td>...</td>\n",
       "      <td>0.478361</td>\n",
       "      <td>0.211776</td>\n",
       "      <td>0.358864</td>\n",
       "      <td>0.255118</td>\n",
       "      <td>0.499598</td>\n",
       "      <td>0.469137</td>\n",
       "      <td>0.484644</td>\n",
       "      <td>0.478361</td>\n",
       "      <td>0.358864</td>\n",
       "      <td>0.211776</td>\n",
       "    </tr>\n",
       "    <tr>\n",
       "      <th>min</th>\n",
       "      <td>200000.000000</td>\n",
       "      <td>0.000000</td>\n",
       "      <td>18.000000</td>\n",
       "      <td>1.000000</td>\n",
       "      <td>5.000000</td>\n",
       "      <td>1.000000</td>\n",
       "      <td>1.000000</td>\n",
       "      <td>3.000000</td>\n",
       "      <td>1.000000</td>\n",
       "      <td>0.000000</td>\n",
       "      <td>...</td>\n",
       "      <td>0.000000</td>\n",
       "      <td>0.000000</td>\n",
       "      <td>0.000000</td>\n",
       "      <td>0.000000</td>\n",
       "      <td>0.000000</td>\n",
       "      <td>0.000000</td>\n",
       "      <td>0.000000</td>\n",
       "      <td>0.000000</td>\n",
       "      <td>0.000000</td>\n",
       "      <td>0.000000</td>\n",
       "    </tr>\n",
       "    <tr>\n",
       "      <th>25%</th>\n",
       "      <td>201221.750000</td>\n",
       "      <td>0.000000</td>\n",
       "      <td>31.000000</td>\n",
       "      <td>1.000000</td>\n",
       "      <td>9.000000</td>\n",
       "      <td>2.000000</td>\n",
       "      <td>3.000000</td>\n",
       "      <td>3.000000</td>\n",
       "      <td>2.000000</td>\n",
       "      <td>0.000000</td>\n",
       "      <td>...</td>\n",
       "      <td>0.000000</td>\n",
       "      <td>0.000000</td>\n",
       "      <td>0.000000</td>\n",
       "      <td>0.000000</td>\n",
       "      <td>0.000000</td>\n",
       "      <td>0.000000</td>\n",
       "      <td>0.000000</td>\n",
       "      <td>0.000000</td>\n",
       "      <td>0.000000</td>\n",
       "      <td>0.000000</td>\n",
       "    </tr>\n",
       "    <tr>\n",
       "      <th>50%</th>\n",
       "      <td>202443.500000</td>\n",
       "      <td>0.000000</td>\n",
       "      <td>36.000000</td>\n",
       "      <td>1.000000</td>\n",
       "      <td>13.000000</td>\n",
       "      <td>3.000000</td>\n",
       "      <td>4.000000</td>\n",
       "      <td>3.000000</td>\n",
       "      <td>3.000000</td>\n",
       "      <td>0.000000</td>\n",
       "      <td>...</td>\n",
       "      <td>0.000000</td>\n",
       "      <td>0.000000</td>\n",
       "      <td>0.000000</td>\n",
       "      <td>0.000000</td>\n",
       "      <td>0.000000</td>\n",
       "      <td>0.000000</td>\n",
       "      <td>0.000000</td>\n",
       "      <td>0.000000</td>\n",
       "      <td>0.000000</td>\n",
       "      <td>0.000000</td>\n",
       "    </tr>\n",
       "    <tr>\n",
       "      <th>75%</th>\n",
       "      <td>203665.250000</td>\n",
       "      <td>0.000000</td>\n",
       "      <td>43.000000</td>\n",
       "      <td>3.000000</td>\n",
       "      <td>19.000000</td>\n",
       "      <td>3.000000</td>\n",
       "      <td>4.000000</td>\n",
       "      <td>4.000000</td>\n",
       "      <td>4.000000</td>\n",
       "      <td>1.000000</td>\n",
       "      <td>...</td>\n",
       "      <td>1.000000</td>\n",
       "      <td>0.000000</td>\n",
       "      <td>0.000000</td>\n",
       "      <td>0.000000</td>\n",
       "      <td>1.000000</td>\n",
       "      <td>1.000000</td>\n",
       "      <td>1.000000</td>\n",
       "      <td>1.000000</td>\n",
       "      <td>0.000000</td>\n",
       "      <td>0.000000</td>\n",
       "    </tr>\n",
       "    <tr>\n",
       "      <th>max</th>\n",
       "      <td>204887.000000</td>\n",
       "      <td>1.000000</td>\n",
       "      <td>61.000000</td>\n",
       "      <td>3.000000</td>\n",
       "      <td>48.000000</td>\n",
       "      <td>5.000000</td>\n",
       "      <td>6.000000</td>\n",
       "      <td>5.000000</td>\n",
       "      <td>22.000000</td>\n",
       "      <td>1.000000</td>\n",
       "      <td>...</td>\n",
       "      <td>1.000000</td>\n",
       "      <td>1.000000</td>\n",
       "      <td>1.000000</td>\n",
       "      <td>1.000000</td>\n",
       "      <td>1.000000</td>\n",
       "      <td>1.000000</td>\n",
       "      <td>1.000000</td>\n",
       "      <td>1.000000</td>\n",
       "      <td>1.000000</td>\n",
       "      <td>1.000000</td>\n",
       "    </tr>\n",
       "  </tbody>\n",
       "</table>\n",
       "<p>8 rows × 28 columns</p>\n",
       "</div>"
      ],
      "text/plain": [
       "          CustomerID    ProdTaken          Age     CityTier  DurationOfPitch  \\\n",
       "count    4888.000000  4888.000000  4888.000000  4888.000000      4888.000000   \n",
       "mean   202443.500000     0.188216    37.547259     1.654255        15.330810   \n",
       "std      1411.188388     0.390925     9.104795     0.916583         8.033591   \n",
       "min    200000.000000     0.000000    18.000000     1.000000         5.000000   \n",
       "25%    201221.750000     0.000000    31.000000     1.000000         9.000000   \n",
       "50%    202443.500000     0.000000    36.000000     1.000000        13.000000   \n",
       "75%    203665.250000     0.000000    43.000000     3.000000        19.000000   \n",
       "max    204887.000000     1.000000    61.000000     3.000000        48.000000   \n",
       "\n",
       "       NumberOfPersonVisiting  NumberOfFollowups  PreferredPropertyStar  \\\n",
       "count             4888.000000        4888.000000            4888.000000   \n",
       "mean                 2.905074           3.711129               3.577946   \n",
       "std                  0.724891           0.998271               0.797005   \n",
       "min                  1.000000           1.000000               3.000000   \n",
       "25%                  2.000000           3.000000               3.000000   \n",
       "50%                  3.000000           4.000000               3.000000   \n",
       "75%                  3.000000           4.000000               4.000000   \n",
       "max                  5.000000           6.000000               5.000000   \n",
       "\n",
       "       NumberOfTrips     Passport  ...  ProductPitched_Deluxe  \\\n",
       "count    4888.000000  4888.000000  ...            4888.000000   \n",
       "mean        3.229746     0.290917  ...               0.354337   \n",
       "std         1.822769     0.454232  ...               0.478361   \n",
       "min         1.000000     0.000000  ...               0.000000   \n",
       "25%         2.000000     0.000000  ...               0.000000   \n",
       "50%         3.000000     0.000000  ...               0.000000   \n",
       "75%         4.000000     1.000000  ...               1.000000   \n",
       "max        22.000000     1.000000  ...               1.000000   \n",
       "\n",
       "       ProductPitched_King  ProductPitched_Standard  \\\n",
       "count          4888.000000              4888.000000   \n",
       "mean              0.047054                 0.151800   \n",
       "std               0.211776                 0.358864   \n",
       "min               0.000000                 0.000000   \n",
       "25%               0.000000                 0.000000   \n",
       "50%               0.000000                 0.000000   \n",
       "75%               0.000000                 0.000000   \n",
       "max               1.000000                 1.000000   \n",
       "\n",
       "       ProductPitched_Super Deluxe  MaritalStatus_Married  \\\n",
       "count                  4888.000000            4888.000000   \n",
       "mean                      0.069967               0.478723   \n",
       "std                       0.255118               0.499598   \n",
       "min                       0.000000               0.000000   \n",
       "25%                       0.000000               0.000000   \n",
       "50%                       0.000000               0.000000   \n",
       "75%                       0.000000               1.000000   \n",
       "max                       1.000000               1.000000   \n",
       "\n",
       "       MaritalStatus_Unmarried  Designation_Executive  Designation_Manager  \\\n",
       "count              4888.000000            4888.000000          4888.000000   \n",
       "mean                  0.326923               0.376841             0.354337   \n",
       "std                   0.469137               0.484644             0.478361   \n",
       "min                   0.000000               0.000000             0.000000   \n",
       "25%                   0.000000               0.000000             0.000000   \n",
       "50%                   0.000000               0.000000             0.000000   \n",
       "75%                   1.000000               1.000000             1.000000   \n",
       "max                   1.000000               1.000000             1.000000   \n",
       "\n",
       "       Designation_Senior Manager  Designation_VP  \n",
       "count                 4888.000000     4888.000000  \n",
       "mean                     0.151800        0.047054  \n",
       "std                      0.358864        0.211776  \n",
       "min                      0.000000        0.000000  \n",
       "25%                      0.000000        0.000000  \n",
       "50%                      0.000000        0.000000  \n",
       "75%                      0.000000        0.000000  \n",
       "max                      1.000000        1.000000  \n",
       "\n",
       "[8 rows x 28 columns]"
      ]
     },
     "execution_count": 43,
     "metadata": {},
     "output_type": "execute_result"
    }
   ],
   "source": [
    "df.describe()"
   ]
  },
  {
   "cell_type": "code",
   "execution_count": 44,
   "id": "d7de7949",
   "metadata": {
    "scrolled": false
   },
   "outputs": [
    {
     "data": {
      "text/html": [
       "<div>\n",
       "<style scoped>\n",
       "    .dataframe tbody tr th:only-of-type {\n",
       "        vertical-align: middle;\n",
       "    }\n",
       "\n",
       "    .dataframe tbody tr th {\n",
       "        vertical-align: top;\n",
       "    }\n",
       "\n",
       "    .dataframe thead th {\n",
       "        text-align: right;\n",
       "    }\n",
       "</style>\n",
       "<table border=\"1\" class=\"dataframe\">\n",
       "  <thead>\n",
       "    <tr style=\"text-align: right;\">\n",
       "      <th></th>\n",
       "      <th>CustomerID</th>\n",
       "      <th>ProdTaken</th>\n",
       "      <th>Age</th>\n",
       "      <th>CityTier</th>\n",
       "      <th>DurationOfPitch</th>\n",
       "      <th>NumberOfPersonVisiting</th>\n",
       "      <th>NumberOfFollowups</th>\n",
       "      <th>PreferredPropertyStar</th>\n",
       "      <th>NumberOfTrips</th>\n",
       "      <th>Passport</th>\n",
       "      <th>...</th>\n",
       "      <th>ProductPitched_Deluxe</th>\n",
       "      <th>ProductPitched_King</th>\n",
       "      <th>ProductPitched_Standard</th>\n",
       "      <th>ProductPitched_Super Deluxe</th>\n",
       "      <th>MaritalStatus_Married</th>\n",
       "      <th>MaritalStatus_Unmarried</th>\n",
       "      <th>Designation_Executive</th>\n",
       "      <th>Designation_Manager</th>\n",
       "      <th>Designation_Senior Manager</th>\n",
       "      <th>Designation_VP</th>\n",
       "    </tr>\n",
       "  </thead>\n",
       "  <tbody>\n",
       "    <tr>\n",
       "      <th>0</th>\n",
       "      <td>200000</td>\n",
       "      <td>1</td>\n",
       "      <td>41.0</td>\n",
       "      <td>3</td>\n",
       "      <td>6.0</td>\n",
       "      <td>3</td>\n",
       "      <td>3.0</td>\n",
       "      <td>3.0</td>\n",
       "      <td>1.0</td>\n",
       "      <td>1</td>\n",
       "      <td>...</td>\n",
       "      <td>1</td>\n",
       "      <td>0</td>\n",
       "      <td>0</td>\n",
       "      <td>0</td>\n",
       "      <td>0</td>\n",
       "      <td>1</td>\n",
       "      <td>0</td>\n",
       "      <td>1</td>\n",
       "      <td>0</td>\n",
       "      <td>0</td>\n",
       "    </tr>\n",
       "    <tr>\n",
       "      <th>1</th>\n",
       "      <td>200001</td>\n",
       "      <td>0</td>\n",
       "      <td>49.0</td>\n",
       "      <td>1</td>\n",
       "      <td>14.0</td>\n",
       "      <td>3</td>\n",
       "      <td>4.0</td>\n",
       "      <td>4.0</td>\n",
       "      <td>2.0</td>\n",
       "      <td>0</td>\n",
       "      <td>...</td>\n",
       "      <td>1</td>\n",
       "      <td>0</td>\n",
       "      <td>0</td>\n",
       "      <td>0</td>\n",
       "      <td>0</td>\n",
       "      <td>0</td>\n",
       "      <td>0</td>\n",
       "      <td>1</td>\n",
       "      <td>0</td>\n",
       "      <td>0</td>\n",
       "    </tr>\n",
       "    <tr>\n",
       "      <th>2</th>\n",
       "      <td>200002</td>\n",
       "      <td>1</td>\n",
       "      <td>37.0</td>\n",
       "      <td>1</td>\n",
       "      <td>8.0</td>\n",
       "      <td>3</td>\n",
       "      <td>4.0</td>\n",
       "      <td>3.0</td>\n",
       "      <td>7.0</td>\n",
       "      <td>1</td>\n",
       "      <td>...</td>\n",
       "      <td>0</td>\n",
       "      <td>0</td>\n",
       "      <td>0</td>\n",
       "      <td>0</td>\n",
       "      <td>0</td>\n",
       "      <td>1</td>\n",
       "      <td>1</td>\n",
       "      <td>0</td>\n",
       "      <td>0</td>\n",
       "      <td>0</td>\n",
       "    </tr>\n",
       "    <tr>\n",
       "      <th>3</th>\n",
       "      <td>200003</td>\n",
       "      <td>0</td>\n",
       "      <td>33.0</td>\n",
       "      <td>1</td>\n",
       "      <td>9.0</td>\n",
       "      <td>2</td>\n",
       "      <td>3.0</td>\n",
       "      <td>3.0</td>\n",
       "      <td>2.0</td>\n",
       "      <td>1</td>\n",
       "      <td>...</td>\n",
       "      <td>0</td>\n",
       "      <td>0</td>\n",
       "      <td>0</td>\n",
       "      <td>0</td>\n",
       "      <td>0</td>\n",
       "      <td>0</td>\n",
       "      <td>1</td>\n",
       "      <td>0</td>\n",
       "      <td>0</td>\n",
       "      <td>0</td>\n",
       "    </tr>\n",
       "    <tr>\n",
       "      <th>4</th>\n",
       "      <td>200004</td>\n",
       "      <td>0</td>\n",
       "      <td>36.0</td>\n",
       "      <td>1</td>\n",
       "      <td>8.0</td>\n",
       "      <td>2</td>\n",
       "      <td>3.0</td>\n",
       "      <td>4.0</td>\n",
       "      <td>1.0</td>\n",
       "      <td>0</td>\n",
       "      <td>...</td>\n",
       "      <td>0</td>\n",
       "      <td>0</td>\n",
       "      <td>0</td>\n",
       "      <td>0</td>\n",
       "      <td>0</td>\n",
       "      <td>0</td>\n",
       "      <td>1</td>\n",
       "      <td>0</td>\n",
       "      <td>0</td>\n",
       "      <td>0</td>\n",
       "    </tr>\n",
       "  </tbody>\n",
       "</table>\n",
       "<p>5 rows × 29 columns</p>\n",
       "</div>"
      ],
      "text/plain": [
       "   CustomerID  ProdTaken   Age  CityTier  DurationOfPitch  \\\n",
       "0      200000          1  41.0         3              6.0   \n",
       "1      200001          0  49.0         1             14.0   \n",
       "2      200002          1  37.0         1              8.0   \n",
       "3      200003          0  33.0         1              9.0   \n",
       "4      200004          0  36.0         1              8.0   \n",
       "\n",
       "   NumberOfPersonVisiting  NumberOfFollowups  PreferredPropertyStar  \\\n",
       "0                       3                3.0                    3.0   \n",
       "1                       3                4.0                    4.0   \n",
       "2                       3                4.0                    3.0   \n",
       "3                       2                3.0                    3.0   \n",
       "4                       2                3.0                    4.0   \n",
       "\n",
       "   NumberOfTrips  Passport  ...  ProductPitched_Deluxe  ProductPitched_King  \\\n",
       "0            1.0         1  ...                      1                    0   \n",
       "1            2.0         0  ...                      1                    0   \n",
       "2            7.0         1  ...                      0                    0   \n",
       "3            2.0         1  ...                      0                    0   \n",
       "4            1.0         0  ...                      0                    0   \n",
       "\n",
       "   ProductPitched_Standard  ProductPitched_Super Deluxe  \\\n",
       "0                        0                            0   \n",
       "1                        0                            0   \n",
       "2                        0                            0   \n",
       "3                        0                            0   \n",
       "4                        0                            0   \n",
       "\n",
       "   MaritalStatus_Married  MaritalStatus_Unmarried  Designation_Executive  \\\n",
       "0                      0                        1                      0   \n",
       "1                      0                        0                      0   \n",
       "2                      0                        1                      1   \n",
       "3                      0                        0                      1   \n",
       "4                      0                        0                      1   \n",
       "\n",
       "   Designation_Manager  Designation_Senior Manager  Designation_VP  \n",
       "0                    1                           0               0  \n",
       "1                    1                           0               0  \n",
       "2                    0                           0               0  \n",
       "3                    0                           0               0  \n",
       "4                    0                           0               0  \n",
       "\n",
       "[5 rows x 29 columns]"
      ]
     },
     "execution_count": 44,
     "metadata": {},
     "output_type": "execute_result"
    }
   ],
   "source": [
    "df.head()"
   ]
  },
  {
   "cell_type": "code",
   "execution_count": 45,
   "id": "7d56d7c6",
   "metadata": {},
   "outputs": [],
   "source": [
    "del df['CustomerID']"
   ]
  },
  {
   "cell_type": "markdown",
   "id": "379badeb",
   "metadata": {},
   "source": [
    "## Correlation Matrix"
   ]
  },
  {
   "cell_type": "code",
   "execution_count": 46,
   "id": "a2f7eacd",
   "metadata": {
    "scrolled": true
   },
   "outputs": [
    {
     "data": {
      "text/html": [
       "<div>\n",
       "<style scoped>\n",
       "    .dataframe tbody tr th:only-of-type {\n",
       "        vertical-align: middle;\n",
       "    }\n",
       "\n",
       "    .dataframe tbody tr th {\n",
       "        vertical-align: top;\n",
       "    }\n",
       "\n",
       "    .dataframe thead th {\n",
       "        text-align: right;\n",
       "    }\n",
       "</style>\n",
       "<table border=\"1\" class=\"dataframe\">\n",
       "  <thead>\n",
       "    <tr style=\"text-align: right;\">\n",
       "      <th></th>\n",
       "      <th>ProdTaken</th>\n",
       "      <th>Age</th>\n",
       "      <th>CityTier</th>\n",
       "      <th>DurationOfPitch</th>\n",
       "      <th>NumberOfPersonVisiting</th>\n",
       "      <th>NumberOfFollowups</th>\n",
       "      <th>PreferredPropertyStar</th>\n",
       "      <th>NumberOfTrips</th>\n",
       "      <th>Passport</th>\n",
       "      <th>PitchSatisfactionScore</th>\n",
       "      <th>...</th>\n",
       "      <th>ProductPitched_Deluxe</th>\n",
       "      <th>ProductPitched_King</th>\n",
       "      <th>ProductPitched_Standard</th>\n",
       "      <th>ProductPitched_Super Deluxe</th>\n",
       "      <th>MaritalStatus_Married</th>\n",
       "      <th>MaritalStatus_Unmarried</th>\n",
       "      <th>Designation_Executive</th>\n",
       "      <th>Designation_Manager</th>\n",
       "      <th>Designation_Senior Manager</th>\n",
       "      <th>Designation_VP</th>\n",
       "    </tr>\n",
       "  </thead>\n",
       "  <tbody>\n",
       "    <tr>\n",
       "      <th>ProdTaken</th>\n",
       "      <td>1.000000</td>\n",
       "      <td>-0.143753</td>\n",
       "      <td>0.086852</td>\n",
       "      <td>0.081097</td>\n",
       "      <td>0.009627</td>\n",
       "      <td>0.111560</td>\n",
       "      <td>0.098704</td>\n",
       "      <td>0.019709</td>\n",
       "      <td>0.260844</td>\n",
       "      <td>0.051394</td>\n",
       "      <td>...</td>\n",
       "      <td>-0.133485</td>\n",
       "      <td>-0.057564</td>\n",
       "      <td>-0.022836</td>\n",
       "      <td>-0.091036</td>\n",
       "      <td>-0.119886</td>\n",
       "      <td>0.188818</td>\n",
       "      <td>0.221740</td>\n",
       "      <td>-0.133485</td>\n",
       "      <td>-0.022836</td>\n",
       "      <td>-0.057564</td>\n",
       "    </tr>\n",
       "    <tr>\n",
       "      <th>Age</th>\n",
       "      <td>-0.143753</td>\n",
       "      <td>1.000000</td>\n",
       "      <td>-0.012754</td>\n",
       "      <td>-0.009559</td>\n",
       "      <td>0.017856</td>\n",
       "      <td>0.001682</td>\n",
       "      <td>-0.015932</td>\n",
       "      <td>0.174694</td>\n",
       "      <td>0.032398</td>\n",
       "      <td>0.017392</td>\n",
       "      <td>...</td>\n",
       "      <td>-0.018692</td>\n",
       "      <td>0.256726</td>\n",
       "      <td>0.140717</td>\n",
       "      <td>0.315715</td>\n",
       "      <td>0.065427</td>\n",
       "      <td>-0.110112</td>\n",
       "      <td>-0.364123</td>\n",
       "      <td>-0.018692</td>\n",
       "      <td>0.140717</td>\n",
       "      <td>0.256726</td>\n",
       "    </tr>\n",
       "    <tr>\n",
       "      <th>CityTier</th>\n",
       "      <td>0.086852</td>\n",
       "      <td>-0.012754</td>\n",
       "      <td>1.000000</td>\n",
       "      <td>0.014258</td>\n",
       "      <td>-0.001671</td>\n",
       "      <td>0.024333</td>\n",
       "      <td>-0.008479</td>\n",
       "      <td>-0.028749</td>\n",
       "      <td>0.001793</td>\n",
       "      <td>-0.042160</td>\n",
       "      <td>...</td>\n",
       "      <td>0.221599</td>\n",
       "      <td>-0.051105</td>\n",
       "      <td>0.067524</td>\n",
       "      <td>0.022966</td>\n",
       "      <td>-0.036176</td>\n",
       "      <td>0.027838</td>\n",
       "      <td>-0.258483</td>\n",
       "      <td>0.221599</td>\n",
       "      <td>0.067524</td>\n",
       "      <td>-0.051105</td>\n",
       "    </tr>\n",
       "    <tr>\n",
       "      <th>DurationOfPitch</th>\n",
       "      <td>0.081097</td>\n",
       "      <td>-0.009559</td>\n",
       "      <td>0.014258</td>\n",
       "      <td>1.000000</td>\n",
       "      <td>0.077953</td>\n",
       "      <td>0.016894</td>\n",
       "      <td>-0.002734</td>\n",
       "      <td>0.014051</td>\n",
       "      <td>0.037267</td>\n",
       "      <td>0.003443</td>\n",
       "      <td>...</td>\n",
       "      <td>0.026253</td>\n",
       "      <td>-0.089374</td>\n",
       "      <td>0.034320</td>\n",
       "      <td>0.030737</td>\n",
       "      <td>0.021714</td>\n",
       "      <td>-0.019091</td>\n",
       "      <td>-0.028451</td>\n",
       "      <td>0.026253</td>\n",
       "      <td>0.034320</td>\n",
       "      <td>-0.089374</td>\n",
       "    </tr>\n",
       "    <tr>\n",
       "      <th>NumberOfPersonVisiting</th>\n",
       "      <td>0.009627</td>\n",
       "      <td>0.017856</td>\n",
       "      <td>-0.001671</td>\n",
       "      <td>0.077953</td>\n",
       "      <td>1.000000</td>\n",
       "      <td>0.324895</td>\n",
       "      <td>0.030519</td>\n",
       "      <td>0.190113</td>\n",
       "      <td>0.011177</td>\n",
       "      <td>-0.019581</td>\n",
       "      <td>...</td>\n",
       "      <td>-0.013919</td>\n",
       "      <td>-0.017551</td>\n",
       "      <td>0.008995</td>\n",
       "      <td>-0.022722</td>\n",
       "      <td>0.033973</td>\n",
       "      <td>-0.051330</td>\n",
       "      <td>0.026708</td>\n",
       "      <td>-0.013919</td>\n",
       "      <td>0.008995</td>\n",
       "      <td>-0.017551</td>\n",
       "    </tr>\n",
       "    <tr>\n",
       "      <th>NumberOfFollowups</th>\n",
       "      <td>0.111560</td>\n",
       "      <td>0.001682</td>\n",
       "      <td>0.024333</td>\n",
       "      <td>0.016894</td>\n",
       "      <td>0.324895</td>\n",
       "      <td>1.000000</td>\n",
       "      <td>-0.026989</td>\n",
       "      <td>0.135103</td>\n",
       "      <td>0.004411</td>\n",
       "      <td>0.004405</td>\n",
       "      <td>...</td>\n",
       "      <td>-0.002861</td>\n",
       "      <td>0.020752</td>\n",
       "      <td>0.033895</td>\n",
       "      <td>-0.037125</td>\n",
       "      <td>-0.034892</td>\n",
       "      <td>0.050516</td>\n",
       "      <td>-0.011800</td>\n",
       "      <td>-0.002861</td>\n",
       "      <td>0.033895</td>\n",
       "      <td>0.020752</td>\n",
       "    </tr>\n",
       "    <tr>\n",
       "      <th>PreferredPropertyStar</th>\n",
       "      <td>0.098704</td>\n",
       "      <td>-0.015932</td>\n",
       "      <td>-0.008479</td>\n",
       "      <td>-0.002734</td>\n",
       "      <td>0.030519</td>\n",
       "      <td>-0.026989</td>\n",
       "      <td>1.000000</td>\n",
       "      <td>0.009432</td>\n",
       "      <td>0.001221</td>\n",
       "      <td>-0.024019</td>\n",
       "      <td>...</td>\n",
       "      <td>-0.016639</td>\n",
       "      <td>-0.041131</td>\n",
       "      <td>0.036604</td>\n",
       "      <td>0.000345</td>\n",
       "      <td>0.016756</td>\n",
       "      <td>-0.016176</td>\n",
       "      <td>0.007111</td>\n",
       "      <td>-0.016639</td>\n",
       "      <td>0.036604</td>\n",
       "      <td>-0.041131</td>\n",
       "    </tr>\n",
       "    <tr>\n",
       "      <th>NumberOfTrips</th>\n",
       "      <td>0.019709</td>\n",
       "      <td>0.174694</td>\n",
       "      <td>-0.028749</td>\n",
       "      <td>0.014051</td>\n",
       "      <td>0.190113</td>\n",
       "      <td>0.135103</td>\n",
       "      <td>0.009432</td>\n",
       "      <td>1.000000</td>\n",
       "      <td>0.012926</td>\n",
       "      <td>-0.004501</td>\n",
       "      <td>...</td>\n",
       "      <td>0.021140</td>\n",
       "      <td>-0.000976</td>\n",
       "      <td>0.020186</td>\n",
       "      <td>0.041111</td>\n",
       "      <td>0.037164</td>\n",
       "      <td>-0.038797</td>\n",
       "      <td>-0.057027</td>\n",
       "      <td>0.021140</td>\n",
       "      <td>0.020186</td>\n",
       "      <td>-0.000976</td>\n",
       "    </tr>\n",
       "    <tr>\n",
       "      <th>Passport</th>\n",
       "      <td>0.260844</td>\n",
       "      <td>0.032398</td>\n",
       "      <td>0.001793</td>\n",
       "      <td>0.037267</td>\n",
       "      <td>0.011177</td>\n",
       "      <td>0.004411</td>\n",
       "      <td>0.001221</td>\n",
       "      <td>0.012926</td>\n",
       "      <td>1.000000</td>\n",
       "      <td>0.002926</td>\n",
       "      <td>...</td>\n",
       "      <td>-0.022477</td>\n",
       "      <td>-0.014700</td>\n",
       "      <td>-0.007356</td>\n",
       "      <td>0.007958</td>\n",
       "      <td>0.001132</td>\n",
       "      <td>-0.000849</td>\n",
       "      <td>0.029867</td>\n",
       "      <td>-0.022477</td>\n",
       "      <td>-0.007356</td>\n",
       "      <td>-0.014700</td>\n",
       "    </tr>\n",
       "    <tr>\n",
       "      <th>PitchSatisfactionScore</th>\n",
       "      <td>0.051394</td>\n",
       "      <td>0.017392</td>\n",
       "      <td>-0.042160</td>\n",
       "      <td>0.003443</td>\n",
       "      <td>-0.019581</td>\n",
       "      <td>0.004405</td>\n",
       "      <td>-0.024019</td>\n",
       "      <td>-0.004501</td>\n",
       "      <td>0.002926</td>\n",
       "      <td>1.000000</td>\n",
       "      <td>...</td>\n",
       "      <td>-0.038635</td>\n",
       "      <td>0.024071</td>\n",
       "      <td>-0.005005</td>\n",
       "      <td>0.055950</td>\n",
       "      <td>-0.024252</td>\n",
       "      <td>-0.004753</td>\n",
       "      <td>0.001869</td>\n",
       "      <td>-0.038635</td>\n",
       "      <td>-0.005005</td>\n",
       "      <td>0.024071</td>\n",
       "    </tr>\n",
       "    <tr>\n",
       "      <th>OwnCar</th>\n",
       "      <td>-0.011508</td>\n",
       "      <td>0.047356</td>\n",
       "      <td>0.003817</td>\n",
       "      <td>-0.005721</td>\n",
       "      <td>0.010362</td>\n",
       "      <td>0.012186</td>\n",
       "      <td>0.013577</td>\n",
       "      <td>-0.012164</td>\n",
       "      <td>-0.022330</td>\n",
       "      <td>0.068850</td>\n",
       "      <td>...</td>\n",
       "      <td>-0.014410</td>\n",
       "      <td>0.046448</td>\n",
       "      <td>0.027891</td>\n",
       "      <td>0.046038</td>\n",
       "      <td>-0.009695</td>\n",
       "      <td>-0.017282</td>\n",
       "      <td>-0.050961</td>\n",
       "      <td>-0.014410</td>\n",
       "      <td>0.027891</td>\n",
       "      <td>0.046448</td>\n",
       "    </tr>\n",
       "    <tr>\n",
       "      <th>NumberOfChildrenVisiting</th>\n",
       "      <td>0.008009</td>\n",
       "      <td>0.008486</td>\n",
       "      <td>0.000578</td>\n",
       "      <td>0.037961</td>\n",
       "      <td>0.606321</td>\n",
       "      <td>0.281583</td>\n",
       "      <td>0.031362</td>\n",
       "      <td>0.161022</td>\n",
       "      <td>0.020244</td>\n",
       "      <td>0.000251</td>\n",
       "      <td>...</td>\n",
       "      <td>-0.006508</td>\n",
       "      <td>0.036855</td>\n",
       "      <td>-0.003396</td>\n",
       "      <td>-0.038753</td>\n",
       "      <td>0.028214</td>\n",
       "      <td>-0.015461</td>\n",
       "      <td>0.013233</td>\n",
       "      <td>-0.006508</td>\n",
       "      <td>-0.003396</td>\n",
       "      <td>0.036855</td>\n",
       "    </tr>\n",
       "    <tr>\n",
       "      <th>MonthlyIncome</th>\n",
       "      <td>-0.128092</td>\n",
       "      <td>0.459345</td>\n",
       "      <td>0.050644</td>\n",
       "      <td>0.003614</td>\n",
       "      <td>0.189278</td>\n",
       "      <td>0.170656</td>\n",
       "      <td>0.000820</td>\n",
       "      <td>0.111213</td>\n",
       "      <td>0.002488</td>\n",
       "      <td>0.029701</td>\n",
       "      <td>...</td>\n",
       "      <td>-0.126193</td>\n",
       "      <td>0.518843</td>\n",
       "      <td>0.243167</td>\n",
       "      <td>0.450380</td>\n",
       "      <td>0.041483</td>\n",
       "      <td>-0.086514</td>\n",
       "      <td>-0.519303</td>\n",
       "      <td>-0.126193</td>\n",
       "      <td>0.243167</td>\n",
       "      <td>0.518843</td>\n",
       "    </tr>\n",
       "    <tr>\n",
       "      <th>TypeofContact_Self Enquiry</th>\n",
       "      <td>-0.047283</td>\n",
       "      <td>0.031043</td>\n",
       "      <td>-0.009421</td>\n",
       "      <td>-0.018886</td>\n",
       "      <td>0.005522</td>\n",
       "      <td>-0.011289</td>\n",
       "      <td>0.032948</td>\n",
       "      <td>0.012733</td>\n",
       "      <td>0.007981</td>\n",
       "      <td>-0.015811</td>\n",
       "      <td>...</td>\n",
       "      <td>-0.041566</td>\n",
       "      <td>0.042238</td>\n",
       "      <td>0.001499</td>\n",
       "      <td>0.008847</td>\n",
       "      <td>-0.003342</td>\n",
       "      <td>-0.022869</td>\n",
       "      <td>0.016803</td>\n",
       "      <td>-0.041566</td>\n",
       "      <td>0.001499</td>\n",
       "      <td>0.042238</td>\n",
       "    </tr>\n",
       "    <tr>\n",
       "      <th>Occupation_Large Business</th>\n",
       "      <td>0.070500</td>\n",
       "      <td>-0.032195</td>\n",
       "      <td>-0.021932</td>\n",
       "      <td>-0.027361</td>\n",
       "      <td>-0.011711</td>\n",
       "      <td>0.014678</td>\n",
       "      <td>0.006472</td>\n",
       "      <td>0.038394</td>\n",
       "      <td>-0.003575</td>\n",
       "      <td>0.039017</td>\n",
       "      <td>...</td>\n",
       "      <td>-0.044784</td>\n",
       "      <td>-0.028604</td>\n",
       "      <td>0.036318</td>\n",
       "      <td>-0.034866</td>\n",
       "      <td>-0.019820</td>\n",
       "      <td>0.021643</td>\n",
       "      <td>0.048165</td>\n",
       "      <td>-0.044784</td>\n",
       "      <td>0.036318</td>\n",
       "      <td>-0.028604</td>\n",
       "    </tr>\n",
       "    <tr>\n",
       "      <th>Occupation_Salaried</th>\n",
       "      <td>-0.033194</td>\n",
       "      <td>0.002387</td>\n",
       "      <td>-0.140823</td>\n",
       "      <td>-0.035539</td>\n",
       "      <td>0.007221</td>\n",
       "      <td>0.001249</td>\n",
       "      <td>-0.036254</td>\n",
       "      <td>-0.008095</td>\n",
       "      <td>-0.004408</td>\n",
       "      <td>0.024262</td>\n",
       "      <td>...</td>\n",
       "      <td>-0.018033</td>\n",
       "      <td>0.004980</td>\n",
       "      <td>-0.024486</td>\n",
       "      <td>0.013348</td>\n",
       "      <td>-0.004603</td>\n",
       "      <td>0.008593</td>\n",
       "      <td>0.026728</td>\n",
       "      <td>-0.018033</td>\n",
       "      <td>-0.024486</td>\n",
       "      <td>0.004980</td>\n",
       "    </tr>\n",
       "    <tr>\n",
       "      <th>Occupation_Small Business</th>\n",
       "      <td>-0.008723</td>\n",
       "      <td>0.016109</td>\n",
       "      <td>0.155512</td>\n",
       "      <td>0.052353</td>\n",
       "      <td>-0.001240</td>\n",
       "      <td>-0.010358</td>\n",
       "      <td>0.033513</td>\n",
       "      <td>-0.015841</td>\n",
       "      <td>0.005219</td>\n",
       "      <td>-0.046911</td>\n",
       "      <td>...</td>\n",
       "      <td>0.044594</td>\n",
       "      <td>0.011603</td>\n",
       "      <td>0.004206</td>\n",
       "      <td>0.006792</td>\n",
       "      <td>0.016844</td>\n",
       "      <td>-0.022318</td>\n",
       "      <td>-0.055776</td>\n",
       "      <td>0.044594</td>\n",
       "      <td>0.004206</td>\n",
       "      <td>0.011603</td>\n",
       "    </tr>\n",
       "    <tr>\n",
       "      <th>Gender_Male</th>\n",
       "      <td>0.031112</td>\n",
       "      <td>-0.039064</td>\n",
       "      <td>-0.021754</td>\n",
       "      <td>0.007131</td>\n",
       "      <td>-0.008742</td>\n",
       "      <td>-0.004033</td>\n",
       "      <td>-0.023176</td>\n",
       "      <td>-0.003190</td>\n",
       "      <td>-0.037014</td>\n",
       "      <td>0.001867</td>\n",
       "      <td>...</td>\n",
       "      <td>-0.022012</td>\n",
       "      <td>0.021250</td>\n",
       "      <td>-0.030971</td>\n",
       "      <td>-0.036005</td>\n",
       "      <td>0.040105</td>\n",
       "      <td>-0.040278</td>\n",
       "      <td>0.054327</td>\n",
       "      <td>-0.022012</td>\n",
       "      <td>-0.030971</td>\n",
       "      <td>0.021250</td>\n",
       "    </tr>\n",
       "    <tr>\n",
       "      <th>ProductPitched_Deluxe</th>\n",
       "      <td>-0.133485</td>\n",
       "      <td>-0.018692</td>\n",
       "      <td>0.221599</td>\n",
       "      <td>0.026253</td>\n",
       "      <td>-0.013919</td>\n",
       "      <td>-0.002861</td>\n",
       "      <td>-0.016639</td>\n",
       "      <td>0.021140</td>\n",
       "      <td>-0.022477</td>\n",
       "      <td>-0.038635</td>\n",
       "      <td>...</td>\n",
       "      <td>1.000000</td>\n",
       "      <td>-0.164615</td>\n",
       "      <td>-0.313395</td>\n",
       "      <td>-0.203191</td>\n",
       "      <td>0.019565</td>\n",
       "      <td>-0.020270</td>\n",
       "      <td>-0.576083</td>\n",
       "      <td>1.000000</td>\n",
       "      <td>-0.313395</td>\n",
       "      <td>-0.164615</td>\n",
       "    </tr>\n",
       "    <tr>\n",
       "      <th>ProductPitched_King</th>\n",
       "      <td>-0.057564</td>\n",
       "      <td>0.256726</td>\n",
       "      <td>-0.051105</td>\n",
       "      <td>-0.089374</td>\n",
       "      <td>-0.017551</td>\n",
       "      <td>0.020752</td>\n",
       "      <td>-0.041131</td>\n",
       "      <td>-0.000976</td>\n",
       "      <td>-0.014700</td>\n",
       "      <td>0.024071</td>\n",
       "      <td>...</td>\n",
       "      <td>-0.164615</td>\n",
       "      <td>1.000000</td>\n",
       "      <td>-0.094005</td>\n",
       "      <td>-0.060948</td>\n",
       "      <td>0.030738</td>\n",
       "      <td>-0.047767</td>\n",
       "      <td>-0.172800</td>\n",
       "      <td>-0.164615</td>\n",
       "      <td>-0.094005</td>\n",
       "      <td>1.000000</td>\n",
       "    </tr>\n",
       "    <tr>\n",
       "      <th>ProductPitched_Standard</th>\n",
       "      <td>-0.022836</td>\n",
       "      <td>0.140717</td>\n",
       "      <td>0.067524</td>\n",
       "      <td>0.034320</td>\n",
       "      <td>0.008995</td>\n",
       "      <td>0.033895</td>\n",
       "      <td>0.036604</td>\n",
       "      <td>0.020186</td>\n",
       "      <td>-0.007356</td>\n",
       "      <td>-0.005005</td>\n",
       "      <td>...</td>\n",
       "      <td>-0.313395</td>\n",
       "      <td>-0.094005</td>\n",
       "      <td>1.000000</td>\n",
       "      <td>-0.116034</td>\n",
       "      <td>0.028290</td>\n",
       "      <td>-0.027441</td>\n",
       "      <td>-0.328978</td>\n",
       "      <td>-0.313395</td>\n",
       "      <td>1.000000</td>\n",
       "      <td>-0.094005</td>\n",
       "    </tr>\n",
       "    <tr>\n",
       "      <th>ProductPitched_Super Deluxe</th>\n",
       "      <td>-0.091036</td>\n",
       "      <td>0.315715</td>\n",
       "      <td>0.022966</td>\n",
       "      <td>0.030737</td>\n",
       "      <td>-0.022722</td>\n",
       "      <td>-0.037125</td>\n",
       "      <td>0.000345</td>\n",
       "      <td>0.041111</td>\n",
       "      <td>0.007958</td>\n",
       "      <td>0.055950</td>\n",
       "      <td>...</td>\n",
       "      <td>-0.203191</td>\n",
       "      <td>-0.060948</td>\n",
       "      <td>-0.116034</td>\n",
       "      <td>1.000000</td>\n",
       "      <td>0.003655</td>\n",
       "      <td>-0.040704</td>\n",
       "      <td>-0.213294</td>\n",
       "      <td>-0.203191</td>\n",
       "      <td>-0.116034</td>\n",
       "      <td>-0.060948</td>\n",
       "    </tr>\n",
       "    <tr>\n",
       "      <th>MaritalStatus_Married</th>\n",
       "      <td>-0.119886</td>\n",
       "      <td>0.065427</td>\n",
       "      <td>-0.036176</td>\n",
       "      <td>0.021714</td>\n",
       "      <td>0.033973</td>\n",
       "      <td>-0.034892</td>\n",
       "      <td>0.016756</td>\n",
       "      <td>0.037164</td>\n",
       "      <td>0.001132</td>\n",
       "      <td>-0.024252</td>\n",
       "      <td>...</td>\n",
       "      <td>0.019565</td>\n",
       "      <td>0.030738</td>\n",
       "      <td>0.028290</td>\n",
       "      <td>0.003655</td>\n",
       "      <td>1.000000</td>\n",
       "      <td>-0.667880</td>\n",
       "      <td>-0.055616</td>\n",
       "      <td>0.019565</td>\n",
       "      <td>0.028290</td>\n",
       "      <td>0.030738</td>\n",
       "    </tr>\n",
       "    <tr>\n",
       "      <th>MaritalStatus_Unmarried</th>\n",
       "      <td>0.188818</td>\n",
       "      <td>-0.110112</td>\n",
       "      <td>0.027838</td>\n",
       "      <td>-0.019091</td>\n",
       "      <td>-0.051330</td>\n",
       "      <td>0.050516</td>\n",
       "      <td>-0.016176</td>\n",
       "      <td>-0.038797</td>\n",
       "      <td>-0.000849</td>\n",
       "      <td>-0.004753</td>\n",
       "      <td>...</td>\n",
       "      <td>-0.020270</td>\n",
       "      <td>-0.047767</td>\n",
       "      <td>-0.027441</td>\n",
       "      <td>-0.040704</td>\n",
       "      <td>-0.667880</td>\n",
       "      <td>1.000000</td>\n",
       "      <td>0.082626</td>\n",
       "      <td>-0.020270</td>\n",
       "      <td>-0.027441</td>\n",
       "      <td>-0.047767</td>\n",
       "    </tr>\n",
       "    <tr>\n",
       "      <th>Designation_Executive</th>\n",
       "      <td>0.221740</td>\n",
       "      <td>-0.364123</td>\n",
       "      <td>-0.258483</td>\n",
       "      <td>-0.028451</td>\n",
       "      <td>0.026708</td>\n",
       "      <td>-0.011800</td>\n",
       "      <td>0.007111</td>\n",
       "      <td>-0.057027</td>\n",
       "      <td>0.029867</td>\n",
       "      <td>0.001869</td>\n",
       "      <td>...</td>\n",
       "      <td>-0.576083</td>\n",
       "      <td>-0.172800</td>\n",
       "      <td>-0.328978</td>\n",
       "      <td>-0.213294</td>\n",
       "      <td>-0.055616</td>\n",
       "      <td>0.082626</td>\n",
       "      <td>1.000000</td>\n",
       "      <td>-0.576083</td>\n",
       "      <td>-0.328978</td>\n",
       "      <td>-0.172800</td>\n",
       "    </tr>\n",
       "    <tr>\n",
       "      <th>Designation_Manager</th>\n",
       "      <td>-0.133485</td>\n",
       "      <td>-0.018692</td>\n",
       "      <td>0.221599</td>\n",
       "      <td>0.026253</td>\n",
       "      <td>-0.013919</td>\n",
       "      <td>-0.002861</td>\n",
       "      <td>-0.016639</td>\n",
       "      <td>0.021140</td>\n",
       "      <td>-0.022477</td>\n",
       "      <td>-0.038635</td>\n",
       "      <td>...</td>\n",
       "      <td>1.000000</td>\n",
       "      <td>-0.164615</td>\n",
       "      <td>-0.313395</td>\n",
       "      <td>-0.203191</td>\n",
       "      <td>0.019565</td>\n",
       "      <td>-0.020270</td>\n",
       "      <td>-0.576083</td>\n",
       "      <td>1.000000</td>\n",
       "      <td>-0.313395</td>\n",
       "      <td>-0.164615</td>\n",
       "    </tr>\n",
       "    <tr>\n",
       "      <th>Designation_Senior Manager</th>\n",
       "      <td>-0.022836</td>\n",
       "      <td>0.140717</td>\n",
       "      <td>0.067524</td>\n",
       "      <td>0.034320</td>\n",
       "      <td>0.008995</td>\n",
       "      <td>0.033895</td>\n",
       "      <td>0.036604</td>\n",
       "      <td>0.020186</td>\n",
       "      <td>-0.007356</td>\n",
       "      <td>-0.005005</td>\n",
       "      <td>...</td>\n",
       "      <td>-0.313395</td>\n",
       "      <td>-0.094005</td>\n",
       "      <td>1.000000</td>\n",
       "      <td>-0.116034</td>\n",
       "      <td>0.028290</td>\n",
       "      <td>-0.027441</td>\n",
       "      <td>-0.328978</td>\n",
       "      <td>-0.313395</td>\n",
       "      <td>1.000000</td>\n",
       "      <td>-0.094005</td>\n",
       "    </tr>\n",
       "    <tr>\n",
       "      <th>Designation_VP</th>\n",
       "      <td>-0.057564</td>\n",
       "      <td>0.256726</td>\n",
       "      <td>-0.051105</td>\n",
       "      <td>-0.089374</td>\n",
       "      <td>-0.017551</td>\n",
       "      <td>0.020752</td>\n",
       "      <td>-0.041131</td>\n",
       "      <td>-0.000976</td>\n",
       "      <td>-0.014700</td>\n",
       "      <td>0.024071</td>\n",
       "      <td>...</td>\n",
       "      <td>-0.164615</td>\n",
       "      <td>1.000000</td>\n",
       "      <td>-0.094005</td>\n",
       "      <td>-0.060948</td>\n",
       "      <td>0.030738</td>\n",
       "      <td>-0.047767</td>\n",
       "      <td>-0.172800</td>\n",
       "      <td>-0.164615</td>\n",
       "      <td>-0.094005</td>\n",
       "      <td>1.000000</td>\n",
       "    </tr>\n",
       "  </tbody>\n",
       "</table>\n",
       "<p>28 rows × 28 columns</p>\n",
       "</div>"
      ],
      "text/plain": [
       "                             ProdTaken       Age  CityTier  DurationOfPitch  \\\n",
       "ProdTaken                     1.000000 -0.143753  0.086852         0.081097   \n",
       "Age                          -0.143753  1.000000 -0.012754        -0.009559   \n",
       "CityTier                      0.086852 -0.012754  1.000000         0.014258   \n",
       "DurationOfPitch               0.081097 -0.009559  0.014258         1.000000   \n",
       "NumberOfPersonVisiting        0.009627  0.017856 -0.001671         0.077953   \n",
       "NumberOfFollowups             0.111560  0.001682  0.024333         0.016894   \n",
       "PreferredPropertyStar         0.098704 -0.015932 -0.008479        -0.002734   \n",
       "NumberOfTrips                 0.019709  0.174694 -0.028749         0.014051   \n",
       "Passport                      0.260844  0.032398  0.001793         0.037267   \n",
       "PitchSatisfactionScore        0.051394  0.017392 -0.042160         0.003443   \n",
       "OwnCar                       -0.011508  0.047356  0.003817        -0.005721   \n",
       "NumberOfChildrenVisiting      0.008009  0.008486  0.000578         0.037961   \n",
       "MonthlyIncome                -0.128092  0.459345  0.050644         0.003614   \n",
       "TypeofContact_Self Enquiry   -0.047283  0.031043 -0.009421        -0.018886   \n",
       "Occupation_Large Business     0.070500 -0.032195 -0.021932        -0.027361   \n",
       "Occupation_Salaried          -0.033194  0.002387 -0.140823        -0.035539   \n",
       "Occupation_Small Business    -0.008723  0.016109  0.155512         0.052353   \n",
       "Gender_Male                   0.031112 -0.039064 -0.021754         0.007131   \n",
       "ProductPitched_Deluxe        -0.133485 -0.018692  0.221599         0.026253   \n",
       "ProductPitched_King          -0.057564  0.256726 -0.051105        -0.089374   \n",
       "ProductPitched_Standard      -0.022836  0.140717  0.067524         0.034320   \n",
       "ProductPitched_Super Deluxe  -0.091036  0.315715  0.022966         0.030737   \n",
       "MaritalStatus_Married        -0.119886  0.065427 -0.036176         0.021714   \n",
       "MaritalStatus_Unmarried       0.188818 -0.110112  0.027838        -0.019091   \n",
       "Designation_Executive         0.221740 -0.364123 -0.258483        -0.028451   \n",
       "Designation_Manager          -0.133485 -0.018692  0.221599         0.026253   \n",
       "Designation_Senior Manager   -0.022836  0.140717  0.067524         0.034320   \n",
       "Designation_VP               -0.057564  0.256726 -0.051105        -0.089374   \n",
       "\n",
       "                             NumberOfPersonVisiting  NumberOfFollowups  \\\n",
       "ProdTaken                                  0.009627           0.111560   \n",
       "Age                                        0.017856           0.001682   \n",
       "CityTier                                  -0.001671           0.024333   \n",
       "DurationOfPitch                            0.077953           0.016894   \n",
       "NumberOfPersonVisiting                     1.000000           0.324895   \n",
       "NumberOfFollowups                          0.324895           1.000000   \n",
       "PreferredPropertyStar                      0.030519          -0.026989   \n",
       "NumberOfTrips                              0.190113           0.135103   \n",
       "Passport                                   0.011177           0.004411   \n",
       "PitchSatisfactionScore                    -0.019581           0.004405   \n",
       "OwnCar                                     0.010362           0.012186   \n",
       "NumberOfChildrenVisiting                   0.606321           0.281583   \n",
       "MonthlyIncome                              0.189278           0.170656   \n",
       "TypeofContact_Self Enquiry                 0.005522          -0.011289   \n",
       "Occupation_Large Business                 -0.011711           0.014678   \n",
       "Occupation_Salaried                        0.007221           0.001249   \n",
       "Occupation_Small Business                 -0.001240          -0.010358   \n",
       "Gender_Male                               -0.008742          -0.004033   \n",
       "ProductPitched_Deluxe                     -0.013919          -0.002861   \n",
       "ProductPitched_King                       -0.017551           0.020752   \n",
       "ProductPitched_Standard                    0.008995           0.033895   \n",
       "ProductPitched_Super Deluxe               -0.022722          -0.037125   \n",
       "MaritalStatus_Married                      0.033973          -0.034892   \n",
       "MaritalStatus_Unmarried                   -0.051330           0.050516   \n",
       "Designation_Executive                      0.026708          -0.011800   \n",
       "Designation_Manager                       -0.013919          -0.002861   \n",
       "Designation_Senior Manager                 0.008995           0.033895   \n",
       "Designation_VP                            -0.017551           0.020752   \n",
       "\n",
       "                             PreferredPropertyStar  NumberOfTrips  Passport  \\\n",
       "ProdTaken                                 0.098704       0.019709  0.260844   \n",
       "Age                                      -0.015932       0.174694  0.032398   \n",
       "CityTier                                 -0.008479      -0.028749  0.001793   \n",
       "DurationOfPitch                          -0.002734       0.014051  0.037267   \n",
       "NumberOfPersonVisiting                    0.030519       0.190113  0.011177   \n",
       "NumberOfFollowups                        -0.026989       0.135103  0.004411   \n",
       "PreferredPropertyStar                     1.000000       0.009432  0.001221   \n",
       "NumberOfTrips                             0.009432       1.000000  0.012926   \n",
       "Passport                                  0.001221       0.012926  1.000000   \n",
       "PitchSatisfactionScore                   -0.024019      -0.004501  0.002926   \n",
       "OwnCar                                    0.013577      -0.012164 -0.022330   \n",
       "NumberOfChildrenVisiting                  0.031362       0.161022  0.020244   \n",
       "MonthlyIncome                             0.000820       0.111213  0.002488   \n",
       "TypeofContact_Self Enquiry                0.032948       0.012733  0.007981   \n",
       "Occupation_Large Business                 0.006472       0.038394 -0.003575   \n",
       "Occupation_Salaried                      -0.036254      -0.008095 -0.004408   \n",
       "Occupation_Small Business                 0.033513      -0.015841  0.005219   \n",
       "Gender_Male                              -0.023176      -0.003190 -0.037014   \n",
       "ProductPitched_Deluxe                    -0.016639       0.021140 -0.022477   \n",
       "ProductPitched_King                      -0.041131      -0.000976 -0.014700   \n",
       "ProductPitched_Standard                   0.036604       0.020186 -0.007356   \n",
       "ProductPitched_Super Deluxe               0.000345       0.041111  0.007958   \n",
       "MaritalStatus_Married                     0.016756       0.037164  0.001132   \n",
       "MaritalStatus_Unmarried                  -0.016176      -0.038797 -0.000849   \n",
       "Designation_Executive                     0.007111      -0.057027  0.029867   \n",
       "Designation_Manager                      -0.016639       0.021140 -0.022477   \n",
       "Designation_Senior Manager                0.036604       0.020186 -0.007356   \n",
       "Designation_VP                           -0.041131      -0.000976 -0.014700   \n",
       "\n",
       "                             PitchSatisfactionScore  ...  \\\n",
       "ProdTaken                                  0.051394  ...   \n",
       "Age                                        0.017392  ...   \n",
       "CityTier                                  -0.042160  ...   \n",
       "DurationOfPitch                            0.003443  ...   \n",
       "NumberOfPersonVisiting                    -0.019581  ...   \n",
       "NumberOfFollowups                          0.004405  ...   \n",
       "PreferredPropertyStar                     -0.024019  ...   \n",
       "NumberOfTrips                             -0.004501  ...   \n",
       "Passport                                   0.002926  ...   \n",
       "PitchSatisfactionScore                     1.000000  ...   \n",
       "OwnCar                                     0.068850  ...   \n",
       "NumberOfChildrenVisiting                   0.000251  ...   \n",
       "MonthlyIncome                              0.029701  ...   \n",
       "TypeofContact_Self Enquiry                -0.015811  ...   \n",
       "Occupation_Large Business                  0.039017  ...   \n",
       "Occupation_Salaried                        0.024262  ...   \n",
       "Occupation_Small Business                 -0.046911  ...   \n",
       "Gender_Male                                0.001867  ...   \n",
       "ProductPitched_Deluxe                     -0.038635  ...   \n",
       "ProductPitched_King                        0.024071  ...   \n",
       "ProductPitched_Standard                   -0.005005  ...   \n",
       "ProductPitched_Super Deluxe                0.055950  ...   \n",
       "MaritalStatus_Married                     -0.024252  ...   \n",
       "MaritalStatus_Unmarried                   -0.004753  ...   \n",
       "Designation_Executive                      0.001869  ...   \n",
       "Designation_Manager                       -0.038635  ...   \n",
       "Designation_Senior Manager                -0.005005  ...   \n",
       "Designation_VP                             0.024071  ...   \n",
       "\n",
       "                             ProductPitched_Deluxe  ProductPitched_King  \\\n",
       "ProdTaken                                -0.133485            -0.057564   \n",
       "Age                                      -0.018692             0.256726   \n",
       "CityTier                                  0.221599            -0.051105   \n",
       "DurationOfPitch                           0.026253            -0.089374   \n",
       "NumberOfPersonVisiting                   -0.013919            -0.017551   \n",
       "NumberOfFollowups                        -0.002861             0.020752   \n",
       "PreferredPropertyStar                    -0.016639            -0.041131   \n",
       "NumberOfTrips                             0.021140            -0.000976   \n",
       "Passport                                 -0.022477            -0.014700   \n",
       "PitchSatisfactionScore                   -0.038635             0.024071   \n",
       "OwnCar                                   -0.014410             0.046448   \n",
       "NumberOfChildrenVisiting                 -0.006508             0.036855   \n",
       "MonthlyIncome                            -0.126193             0.518843   \n",
       "TypeofContact_Self Enquiry               -0.041566             0.042238   \n",
       "Occupation_Large Business                -0.044784            -0.028604   \n",
       "Occupation_Salaried                      -0.018033             0.004980   \n",
       "Occupation_Small Business                 0.044594             0.011603   \n",
       "Gender_Male                              -0.022012             0.021250   \n",
       "ProductPitched_Deluxe                     1.000000            -0.164615   \n",
       "ProductPitched_King                      -0.164615             1.000000   \n",
       "ProductPitched_Standard                  -0.313395            -0.094005   \n",
       "ProductPitched_Super Deluxe              -0.203191            -0.060948   \n",
       "MaritalStatus_Married                     0.019565             0.030738   \n",
       "MaritalStatus_Unmarried                  -0.020270            -0.047767   \n",
       "Designation_Executive                    -0.576083            -0.172800   \n",
       "Designation_Manager                       1.000000            -0.164615   \n",
       "Designation_Senior Manager               -0.313395            -0.094005   \n",
       "Designation_VP                           -0.164615             1.000000   \n",
       "\n",
       "                             ProductPitched_Standard  \\\n",
       "ProdTaken                                  -0.022836   \n",
       "Age                                         0.140717   \n",
       "CityTier                                    0.067524   \n",
       "DurationOfPitch                             0.034320   \n",
       "NumberOfPersonVisiting                      0.008995   \n",
       "NumberOfFollowups                           0.033895   \n",
       "PreferredPropertyStar                       0.036604   \n",
       "NumberOfTrips                               0.020186   \n",
       "Passport                                   -0.007356   \n",
       "PitchSatisfactionScore                     -0.005005   \n",
       "OwnCar                                      0.027891   \n",
       "NumberOfChildrenVisiting                   -0.003396   \n",
       "MonthlyIncome                               0.243167   \n",
       "TypeofContact_Self Enquiry                  0.001499   \n",
       "Occupation_Large Business                   0.036318   \n",
       "Occupation_Salaried                        -0.024486   \n",
       "Occupation_Small Business                   0.004206   \n",
       "Gender_Male                                -0.030971   \n",
       "ProductPitched_Deluxe                      -0.313395   \n",
       "ProductPitched_King                        -0.094005   \n",
       "ProductPitched_Standard                     1.000000   \n",
       "ProductPitched_Super Deluxe                -0.116034   \n",
       "MaritalStatus_Married                       0.028290   \n",
       "MaritalStatus_Unmarried                    -0.027441   \n",
       "Designation_Executive                      -0.328978   \n",
       "Designation_Manager                        -0.313395   \n",
       "Designation_Senior Manager                  1.000000   \n",
       "Designation_VP                             -0.094005   \n",
       "\n",
       "                             ProductPitched_Super Deluxe  \\\n",
       "ProdTaken                                      -0.091036   \n",
       "Age                                             0.315715   \n",
       "CityTier                                        0.022966   \n",
       "DurationOfPitch                                 0.030737   \n",
       "NumberOfPersonVisiting                         -0.022722   \n",
       "NumberOfFollowups                              -0.037125   \n",
       "PreferredPropertyStar                           0.000345   \n",
       "NumberOfTrips                                   0.041111   \n",
       "Passport                                        0.007958   \n",
       "PitchSatisfactionScore                          0.055950   \n",
       "OwnCar                                          0.046038   \n",
       "NumberOfChildrenVisiting                       -0.038753   \n",
       "MonthlyIncome                                   0.450380   \n",
       "TypeofContact_Self Enquiry                      0.008847   \n",
       "Occupation_Large Business                      -0.034866   \n",
       "Occupation_Salaried                             0.013348   \n",
       "Occupation_Small Business                       0.006792   \n",
       "Gender_Male                                    -0.036005   \n",
       "ProductPitched_Deluxe                          -0.203191   \n",
       "ProductPitched_King                            -0.060948   \n",
       "ProductPitched_Standard                        -0.116034   \n",
       "ProductPitched_Super Deluxe                     1.000000   \n",
       "MaritalStatus_Married                           0.003655   \n",
       "MaritalStatus_Unmarried                        -0.040704   \n",
       "Designation_Executive                          -0.213294   \n",
       "Designation_Manager                            -0.203191   \n",
       "Designation_Senior Manager                     -0.116034   \n",
       "Designation_VP                                 -0.060948   \n",
       "\n",
       "                             MaritalStatus_Married  MaritalStatus_Unmarried  \\\n",
       "ProdTaken                                -0.119886                 0.188818   \n",
       "Age                                       0.065427                -0.110112   \n",
       "CityTier                                 -0.036176                 0.027838   \n",
       "DurationOfPitch                           0.021714                -0.019091   \n",
       "NumberOfPersonVisiting                    0.033973                -0.051330   \n",
       "NumberOfFollowups                        -0.034892                 0.050516   \n",
       "PreferredPropertyStar                     0.016756                -0.016176   \n",
       "NumberOfTrips                             0.037164                -0.038797   \n",
       "Passport                                  0.001132                -0.000849   \n",
       "PitchSatisfactionScore                   -0.024252                -0.004753   \n",
       "OwnCar                                   -0.009695                -0.017282   \n",
       "NumberOfChildrenVisiting                  0.028214                -0.015461   \n",
       "MonthlyIncome                             0.041483                -0.086514   \n",
       "TypeofContact_Self Enquiry               -0.003342                -0.022869   \n",
       "Occupation_Large Business                -0.019820                 0.021643   \n",
       "Occupation_Salaried                      -0.004603                 0.008593   \n",
       "Occupation_Small Business                 0.016844                -0.022318   \n",
       "Gender_Male                               0.040105                -0.040278   \n",
       "ProductPitched_Deluxe                     0.019565                -0.020270   \n",
       "ProductPitched_King                       0.030738                -0.047767   \n",
       "ProductPitched_Standard                   0.028290                -0.027441   \n",
       "ProductPitched_Super Deluxe               0.003655                -0.040704   \n",
       "MaritalStatus_Married                     1.000000                -0.667880   \n",
       "MaritalStatus_Unmarried                  -0.667880                 1.000000   \n",
       "Designation_Executive                    -0.055616                 0.082626   \n",
       "Designation_Manager                       0.019565                -0.020270   \n",
       "Designation_Senior Manager                0.028290                -0.027441   \n",
       "Designation_VP                            0.030738                -0.047767   \n",
       "\n",
       "                             Designation_Executive  Designation_Manager  \\\n",
       "ProdTaken                                 0.221740            -0.133485   \n",
       "Age                                      -0.364123            -0.018692   \n",
       "CityTier                                 -0.258483             0.221599   \n",
       "DurationOfPitch                          -0.028451             0.026253   \n",
       "NumberOfPersonVisiting                    0.026708            -0.013919   \n",
       "NumberOfFollowups                        -0.011800            -0.002861   \n",
       "PreferredPropertyStar                     0.007111            -0.016639   \n",
       "NumberOfTrips                            -0.057027             0.021140   \n",
       "Passport                                  0.029867            -0.022477   \n",
       "PitchSatisfactionScore                    0.001869            -0.038635   \n",
       "OwnCar                                   -0.050961            -0.014410   \n",
       "NumberOfChildrenVisiting                  0.013233            -0.006508   \n",
       "MonthlyIncome                            -0.519303            -0.126193   \n",
       "TypeofContact_Self Enquiry                0.016803            -0.041566   \n",
       "Occupation_Large Business                 0.048165            -0.044784   \n",
       "Occupation_Salaried                       0.026728            -0.018033   \n",
       "Occupation_Small Business                -0.055776             0.044594   \n",
       "Gender_Male                               0.054327            -0.022012   \n",
       "ProductPitched_Deluxe                    -0.576083             1.000000   \n",
       "ProductPitched_King                      -0.172800            -0.164615   \n",
       "ProductPitched_Standard                  -0.328978            -0.313395   \n",
       "ProductPitched_Super Deluxe              -0.213294            -0.203191   \n",
       "MaritalStatus_Married                    -0.055616             0.019565   \n",
       "MaritalStatus_Unmarried                   0.082626            -0.020270   \n",
       "Designation_Executive                     1.000000            -0.576083   \n",
       "Designation_Manager                      -0.576083             1.000000   \n",
       "Designation_Senior Manager               -0.328978            -0.313395   \n",
       "Designation_VP                           -0.172800            -0.164615   \n",
       "\n",
       "                             Designation_Senior Manager  Designation_VP  \n",
       "ProdTaken                                     -0.022836       -0.057564  \n",
       "Age                                            0.140717        0.256726  \n",
       "CityTier                                       0.067524       -0.051105  \n",
       "DurationOfPitch                                0.034320       -0.089374  \n",
       "NumberOfPersonVisiting                         0.008995       -0.017551  \n",
       "NumberOfFollowups                              0.033895        0.020752  \n",
       "PreferredPropertyStar                          0.036604       -0.041131  \n",
       "NumberOfTrips                                  0.020186       -0.000976  \n",
       "Passport                                      -0.007356       -0.014700  \n",
       "PitchSatisfactionScore                        -0.005005        0.024071  \n",
       "OwnCar                                         0.027891        0.046448  \n",
       "NumberOfChildrenVisiting                      -0.003396        0.036855  \n",
       "MonthlyIncome                                  0.243167        0.518843  \n",
       "TypeofContact_Self Enquiry                     0.001499        0.042238  \n",
       "Occupation_Large Business                      0.036318       -0.028604  \n",
       "Occupation_Salaried                           -0.024486        0.004980  \n",
       "Occupation_Small Business                      0.004206        0.011603  \n",
       "Gender_Male                                   -0.030971        0.021250  \n",
       "ProductPitched_Deluxe                         -0.313395       -0.164615  \n",
       "ProductPitched_King                           -0.094005        1.000000  \n",
       "ProductPitched_Standard                        1.000000       -0.094005  \n",
       "ProductPitched_Super Deluxe                   -0.116034       -0.060948  \n",
       "MaritalStatus_Married                          0.028290        0.030738  \n",
       "MaritalStatus_Unmarried                       -0.027441       -0.047767  \n",
       "Designation_Executive                         -0.328978       -0.172800  \n",
       "Designation_Manager                           -0.313395       -0.164615  \n",
       "Designation_Senior Manager                     1.000000       -0.094005  \n",
       "Designation_VP                                -0.094005        1.000000  \n",
       "\n",
       "[28 rows x 28 columns]"
      ]
     },
     "execution_count": 46,
     "metadata": {},
     "output_type": "execute_result"
    }
   ],
   "source": [
    "df.corr()"
   ]
  },
  {
   "cell_type": "code",
   "execution_count": 52,
   "id": "168dd7ea",
   "metadata": {
    "scrolled": true
   },
   "outputs": [
    {
     "data": {
      "image/png": "[encoded data removed]",
      "text/plain": [
       "<Figure size 640x480 with 2 Axes>"
      ]
     },
     "metadata": {},
     "output_type": "display_data"
    }
   ],
   "source": [
    "sns.heatmap(df.corr(), cmap=\"YlGnBu\", fmt=\".2f\", linewidths=1.5)\n",
    "plt.savefig('plot.png', dpi=300, bbox_inches='tight')"
   ]
  },
  {
   "cell_type": "code",
   "execution_count": 48,
   "id": "c360eeb0",
   "metadata": {},
   "outputs": [
    {
     "data": {
      "image/png": "[encoded data removed]",
      "text/plain": [
       "<Figure size 640x480 with 1 Axes>"
      ]
     },
     "metadata": {},
     "output_type": "display_data"
    }
   ],
   "source": [
    "sns.countplot(x=\"Age\", data=df)\n",
    "plt.xticks(rotation='vertical')\n",
    "plt.show()"
   ]
  },
  {
   "cell_type": "code",
   "execution_count": 49,
   "id": "7c0d1e2d",
   "metadata": {},
   "outputs": [
    {
     "data": {
      "text/plain": [
       "MonthlyIncome\n",
       "23619.853491    233\n",
       "20855.000000      7\n",
       "21020.000000      7\n",
       "21288.000000      7\n",
       "17342.000000      7\n",
       "               ... \n",
       "17074.000000      1\n",
       "24250.000000      1\n",
       "21077.000000      1\n",
       "24714.000000      1\n",
       "21471.000000      1\n",
       "Name: count, Length: 2476, dtype: int64"
      ]
     },
     "execution_count": 49,
     "metadata": {},
     "output_type": "execute_result"
    }
   ],
   "source": [
    "df['MonthlyIncome'].value_counts()"
   ]
  },
  {
   "cell_type": "code",
   "execution_count": 50,
   "id": "77928638",
   "metadata": {},
   "outputs": [
    {
     "name": "stderr",
     "output_type": "stream",
     "text": [
      "C:\\Users\\Sharath\\AppData\\Local\\Temp\\ipykernel_5176\\3453559960.py:1: UserWarning: \n",
      "\n",
      "`distplot` is a deprecated function and will be removed in seaborn v0.14.0.\n",
      "\n",
      "Please adapt your code to use either `displot` (a figure-level function with\n",
      "similar flexibility) or `histplot` (an axes-level function for histograms).\n",
      "\n",
      "For a guide to updating your code to use the new functions, please see\n",
      "https://gist.github.com/mwaskom/de44147ed2974457ad6372750bbe5751\n",
      "\n",
      "  sns.distplot(df['MonthlyIncome'])\n"
     ]
    },
    {
     "data": {
      "text/plain": [
       "<Axes: xlabel='MonthlyIncome', ylabel='Density'>"
      ]
     },
     "execution_count": 50,
     "metadata": {},
     "output_type": "execute_result"
    },
    {
     "data": {
      "image/png": "[encoded data removed]",
      "text/plain": [
       "<Figure size 640x480 with 1 Axes>"
      ]
     },
     "metadata": {},
     "output_type": "display_data"
    }
   ],
   "source": [
    "sns.distplot(df['MonthlyIncome'])"
   ]
  },
  {
   "cell_type": "code",
   "execution_count": 51,
   "id": "dadd358b",
   "metadata": {},
   "outputs": [],
   "source": [
    "# Deleting independent variables having high correlation among one another\n",
    "del df['Designation_Senior Manager']"
   ]
  },
  {
   "cell_type": "markdown",
   "id": "fd5554cf",
   "metadata": {},
   "source": [
    "## Logistic Regression on entire dataset"
   ]
  },
  {
   "cell_type": "code",
   "execution_count": 53,
   "id": "b998639e",
   "metadata": {},
   "outputs": [
    {
     "name": "stdout",
     "output_type": "stream",
     "text": [
      "[-0.04303749] [[-2.86694082e-02  4.06180076e-01  2.29826840e-02 -8.45979181e-02\n",
      "   3.77885410e-01  2.29460730e-01 -7.98007215e-02  6.86525750e-01\n",
      "   5.89570966e-02 -1.81451861e-02 -8.06647196e-03 -1.46784714e-04\n",
      "  -1.47107977e-01  9.23347486e-02 -9.59034339e-02 -4.40451437e-02\n",
      "   3.97274457e-02 -3.50989907e-01  2.36693500e-02  6.51379531e-02\n",
      "  -2.24637666e-02 -2.95357654e-01  4.12221334e-01  2.41601048e-01\n",
      "  -3.50989907e-01  2.36693500e-02]]\n"
     ]
    },
    {
     "name": "stderr",
     "output_type": "stream",
     "text": [
      "E:\\Anaconda\\Lib\\site-packages\\sklearn\\linear_model\\_logistic.py:460: ConvergenceWarning: lbfgs failed to converge (status=1):\n",
      "STOP: TOTAL NO. of ITERATIONS REACHED LIMIT.\n",
      "\n",
      "Increase the number of iterations (max_iter) or scale the data as shown in:\n",
      "    https://scikit-learn.org/stable/modules/preprocessing.html\n",
      "Please also refer to the documentation for alternative solver options:\n",
      "    https://scikit-learn.org/stable/modules/linear_model.html#logistic-regression\n",
      "  n_iter_i = _check_optimize_result(\n"
     ]
    }
   ],
   "source": [
    "from sklearn.linear_model import LogisticRegression\n",
    "X = df.drop(\"ProdTaken\", axis=1)\n",
    "Y = df['ProdTaken']\n",
    "\n",
    "lm = LogisticRegression()\n",
    "lm.fit(X,Y)\n",
    "print(lm.intercept_, lm.coef_)"
   ]
  },
  {
   "cell_type": "code",
   "execution_count": 55,
   "id": "99edb986",
   "metadata": {},
   "outputs": [
    {
     "name": "stdout",
     "output_type": "stream",
     "text": [
      "[[3855  113]\n",
      " [ 679  241]]\n",
      "Accuracy:  0.8379705400981997\n",
      "ROC AUC Score:  0.6167393495792426\n"
     ]
    }
   ],
   "source": [
    "# Performance metrics\n",
    "from sklearn.metrics import accuracy_score, confusion_matrix, roc_auc_score\n",
    "\n",
    "# Predicting on test set\n",
    "print(confusion_matrix(Y, lm.predict(X)))\n",
    "print('Accuracy: ', accuracy_score(Y, lm.predict(X)))\n",
    "print('ROC AUC Score: ', roc_auc_score(Y, lm.predict(X)))"
   ]
  },
  {
   "cell_type": "markdown",
   "id": "a2feb1d2",
   "metadata": {},
   "source": [
    "## Test-Train Split"
   ]
  },
  {
   "cell_type": "code",
   "execution_count": 56,
   "id": "95ba96c7",
   "metadata": {},
   "outputs": [],
   "source": [
    "X = df.drop(\"ProdTaken\", axis=1)\n",
    "Y = df['ProdTaken']"
   ]
  },
  {
   "cell_type": "code",
   "execution_count": 57,
   "id": "21657835",
   "metadata": {},
   "outputs": [],
   "source": [
    "from sklearn.model_selection import train_test_split"
   ]
  },
  {
   "cell_type": "code",
   "execution_count": 58,
   "id": "8a9256f5",
   "metadata": {},
   "outputs": [],
   "source": [
    "X_train, X_test, Y_train, Y_test = train_test_split(X, Y, test_size=0.2, random_state=0)"
   ]
  },
  {
   "cell_type": "code",
   "execution_count": 59,
   "id": "96bc03eb",
   "metadata": {
    "scrolled": true
   },
   "outputs": [
    {
     "name": "stdout",
     "output_type": "stream",
     "text": [
      "(3910, 26) (978, 26) (3910,) (978,)\n"
     ]
    }
   ],
   "source": [
    "print(X_train.shape, X_test.shape, Y_train.shape, Y_test.shape)"
   ]
  },
  {
   "cell_type": "markdown",
   "id": "40f7b6b7",
   "metadata": {},
   "source": [
    "## Logistic Regression"
   ]
  },
  {
   "cell_type": "code",
   "execution_count": 60,
   "id": "e9933036",
   "metadata": {},
   "outputs": [
    {
     "name": "stdout",
     "output_type": "stream",
     "text": [
      "[[789   9]\n",
      " [158  22]]\n",
      "Accuracy:  0.8292433537832311\n",
      "ROC AUC Score:  0.5554720133667502\n"
     ]
    }
   ],
   "source": [
    "from sklearn.linear_model import LogisticRegression\n",
    "logistic = LogisticRegression()\n",
    "logistic.fit(X_train, Y_train)\n",
    "\n",
    "# Predicting on test set\n",
    "print(confusion_matrix(Y_test, logistic.predict(X_test)))\n",
    "print('Accuracy: ', accuracy_score(Y_test, logistic.predict(X_test)))\n",
    "print('ROC AUC Score: ', roc_auc_score(Y_test, logistic.predict(X_test)))"
   ]
  },
  {
   "cell_type": "markdown",
   "id": "f00f0d28",
   "metadata": {},
   "source": [
    "## Linear Discriminant Analysis"
   ]
  },
  {
   "cell_type": "code",
   "execution_count": 61,
   "id": "c05d43f0",
   "metadata": {},
   "outputs": [
    {
     "name": "stdout",
     "output_type": "stream",
     "text": [
      "[[778  20]\n",
      " [130  50]]\n",
      "Accuracy:  0.8466257668711656\n",
      "ROC AUC Score:  0.6263575605680868\n"
     ]
    }
   ],
   "source": [
    "from sklearn.discriminant_analysis import LinearDiscriminantAnalysis\n",
    "lda = LinearDiscriminantAnalysis()\n",
    "lda.fit(X_train, Y_train)\n",
    "\n",
    "# Predicting on test set\n",
    "print(confusion_matrix(Y_test, lda.predict(X_test)))\n",
    "print('Accuracy: ', accuracy_score(Y_test, lda.predict(X_test)))\n",
    "print('ROC AUC Score: ', roc_auc_score(Y_test, lda.predict(X_test)))"
   ]
  },
  {
   "cell_type": "code",
   "execution_count": 62,
   "id": "3a41e816",
   "metadata": {},
   "outputs": [],
   "source": [
    "# Grid Search CV for tuning hyperparameters\n",
    "from sklearn.model_selection import GridSearchCV"
   ]
  },
  {
   "cell_type": "code",
   "execution_count": 63,
   "id": "08af928b",
   "metadata": {},
   "outputs": [],
   "source": [
    "# Standardizing the variables\n",
    "from sklearn import preprocessing\n",
    "scaler = preprocessing.StandardScaler().fit(X_train)\n",
    "X_train_s= scaler.transform(X_train)\n",
    "scaler = preprocessing.StandardScaler().fit(X_test)\n",
    "X_test_s= scaler.transform(X_test)"
   ]
  },
  {
   "cell_type": "markdown",
   "id": "00f51468",
   "metadata": {},
   "source": [
    "## K-Nearest Neighbors"
   ]
  },
  {
   "cell_type": "code",
   "execution_count": 64,
   "id": "2397dfa1",
   "metadata": {},
   "outputs": [
    {
     "data": {
      "text/html": [
       "<style>#sk-container-id-1 {color: black;}#sk-container-id-1 pre{padding: 0;}#sk-container-id-1 div.sk-toggleable {background-color: white;}#sk-container-id-1 label.sk-toggleable__label {cursor: pointer;display: block;width: 100%;margin-bottom: 0;padding: 0.3em;box-sizing: border-box;text-align: center;}#sk-container-id-1 label.sk-toggleable__label-arrow:before {content: \"▸\";float: left;margin-right: 0.25em;color: #696969;}#sk-container-id-1 label.sk-toggleable__label-arrow:hover:before {color: black;}#sk-container-id-1 div.sk-estimator:hover label.sk-toggleable__label-arrow:before {color: black;}#sk-container-id-1 div.sk-toggleable__content {max-height: 0;max-width: 0;overflow: hidden;text-align: left;background-color: #f0f8ff;}#sk-container-id-1 div.sk-toggleable__content pre {margin: 0.2em;color: black;border-radius: 0.25em;background-color: #f0f8ff;}#sk-container-id-1 input.sk-toggleable__control:checked~div.sk-toggleable__content {max-height: 200px;max-width: 100%;overflow: auto;}#sk-container-id-1 input.sk-toggleable__control:checked~label.sk-toggleable__label-arrow:before {content: \"▾\";}#sk-container-id-1 div.sk-estimator input.sk-toggleable__control:checked~label.sk-toggleable__label {background-color: #d4ebff;}#sk-container-id-1 div.sk-label input.sk-toggleable__control:checked~label.sk-toggleable__label {background-color: #d4ebff;}#sk-container-id-1 input.sk-hidden--visually {border: 0;clip: rect(1px 1px 1px 1px);clip: rect(1px, 1px, 1px, 1px);height: 1px;margin: -1px;overflow: hidden;padding: 0;position: absolute;width: 1px;}#sk-container-id-1 div.sk-estimator {font-family: monospace;background-color: #f0f8ff;border: 1px dotted black;border-radius: 0.25em;box-sizing: border-box;margin-bottom: 0.5em;}#sk-container-id-1 div.sk-estimator:hover {background-color: #d4ebff;}#sk-container-id-1 div.sk-parallel-item::after {content: \"\";width: 100%;border-bottom: 1px solid gray;flex-grow: 1;}#sk-container-id-1 div.sk-label:hover label.sk-toggleable__label {background-color: #d4ebff;}#sk-container-id-1 div.sk-serial::before {content: \"\";position: absolute;border-left: 1px solid gray;box-sizing: border-box;top: 0;bottom: 0;left: 50%;z-index: 0;}#sk-container-id-1 div.sk-serial {display: flex;flex-direction: column;align-items: center;background-color: white;padding-right: 0.2em;padding-left: 0.2em;position: relative;}#sk-container-id-1 div.sk-item {position: relative;z-index: 1;}#sk-container-id-1 div.sk-parallel {display: flex;align-items: stretch;justify-content: center;background-color: white;position: relative;}#sk-container-id-1 div.sk-item::before, #sk-container-id-1 div.sk-parallel-item::before {content: \"\";position: absolute;border-left: 1px solid gray;box-sizing: border-box;top: 0;bottom: 0;left: 50%;z-index: -1;}#sk-container-id-1 div.sk-parallel-item {display: flex;flex-direction: column;z-index: 1;position: relative;background-color: white;}#sk-container-id-1 div.sk-parallel-item:first-child::after {align-self: flex-end;width: 50%;}#sk-container-id-1 div.sk-parallel-item:last-child::after {align-self: flex-start;width: 50%;}#sk-container-id-1 div.sk-parallel-item:only-child::after {width: 0;}#sk-container-id-1 div.sk-dashed-wrapped {border: 1px dashed gray;margin: 0 0.4em 0.5em 0.4em;box-sizing: border-box;padding-bottom: 0.4em;background-color: white;}#sk-container-id-1 div.sk-label label {font-family: monospace;font-weight: bold;display: inline-block;line-height: 1.2em;}#sk-container-id-1 div.sk-label-container {text-align: center;}#sk-container-id-1 div.sk-container {/* jupyter's `normalize.less` sets `[hidden] { display: none; }` but bootstrap.min.css set `[hidden] { display: none !important; }` so we also need the `!important` here to be able to override the default hidden behavior on the sphinx rendered scikit-learn.org. See: https://github.com/scikit-learn/scikit-learn/issues/21755 */display: inline-block !important;position: relative;}#sk-container-id-1 div.sk-text-repr-fallback {display: none;}</style><div id=\"sk-container-id-1\" class=\"sk-top-container\"><div class=\"sk-text-repr-fallback\"><pre>GridSearchCV(estimator=KNeighborsClassifier(),\n",
       "             param_grid={&#x27;n_neighbors&#x27;: [1, 2, 3, 4, 5, 6, 7, 8, 9, 10, 11, 12,\n",
       "                                         13, 14, 15, 16, 17, 18, 19, 20]})</pre><b>In a Jupyter environment, please rerun this cell to show the HTML representation or trust the notebook. <br />On GitHub, the HTML representation is unable to render, please try loading this page with nbviewer.org.</b></div><div class=\"sk-container\" hidden><div class=\"sk-item sk-dashed-wrapped\"><div class=\"sk-label-container\"><div class=\"sk-label sk-toggleable\"><input class=\"sk-toggleable__control sk-hidden--visually\" id=\"sk-estimator-id-1\" type=\"checkbox\" ><label for=\"sk-estimator-id-1\" class=\"sk-toggleable__label sk-toggleable__label-arrow\">GridSearchCV</label><div class=\"sk-toggleable__content\"><pre>GridSearchCV(estimator=KNeighborsClassifier(),\n",
       "             param_grid={&#x27;n_neighbors&#x27;: [1, 2, 3, 4, 5, 6, 7, 8, 9, 10, 11, 12,\n",
       "                                         13, 14, 15, 16, 17, 18, 19, 20]})</pre></div></div></div><div class=\"sk-parallel\"><div class=\"sk-parallel-item\"><div class=\"sk-item\"><div class=\"sk-label-container\"><div class=\"sk-label sk-toggleable\"><input class=\"sk-toggleable__control sk-hidden--visually\" id=\"sk-estimator-id-2\" type=\"checkbox\" ><label for=\"sk-estimator-id-2\" class=\"sk-toggleable__label sk-toggleable__label-arrow\">estimator: KNeighborsClassifier</label><div class=\"sk-toggleable__content\"><pre>KNeighborsClassifier()</pre></div></div></div><div class=\"sk-serial\"><div class=\"sk-item\"><div class=\"sk-estimator sk-toggleable\"><input class=\"sk-toggleable__control sk-hidden--visually\" id=\"sk-estimator-id-3\" type=\"checkbox\" ><label for=\"sk-estimator-id-3\" class=\"sk-toggleable__label sk-toggleable__label-arrow\">KNeighborsClassifier</label><div class=\"sk-toggleable__content\"><pre>KNeighborsClassifier()</pre></div></div></div></div></div></div></div></div></div></div>"
      ],
      "text/plain": [
       "GridSearchCV(estimator=KNeighborsClassifier(),\n",
       "             param_grid={'n_neighbors': [1, 2, 3, 4, 5, 6, 7, 8, 9, 10, 11, 12,\n",
       "                                         13, 14, 15, 16, 17, 18, 19, 20]})"
      ]
     },
     "execution_count": 64,
     "metadata": {},
     "output_type": "execute_result"
    }
   ],
   "source": [
    "from sklearn.neighbors import KNeighborsClassifier\n",
    "knn = KNeighborsClassifier()\n",
    "params = {'n_neighbors': [1, 2, 3, 4, 5, 6, 7, 8, 9, 10, 11, 12, 13, 14, 15, 16, 17, 18, 19, 20]}\n",
    "tuning = GridSearchCV(knn, params)\n",
    "tuning.fit(X_train_s, Y_train)"
   ]
  },
  {
   "cell_type": "code",
   "execution_count": 65,
   "id": "c328cab9",
   "metadata": {},
   "outputs": [
    {
     "data": {
      "text/plain": [
       "{'n_neighbors': 1}"
      ]
     },
     "execution_count": 65,
     "metadata": {},
     "output_type": "execute_result"
    }
   ],
   "source": [
    "tuning.best_params_"
   ]
  },
  {
   "cell_type": "code",
   "execution_count": 66,
   "id": "cf9bcf4f",
   "metadata": {},
   "outputs": [],
   "source": [
    "optimised_KNN = tuning.best_estimator_"
   ]
  },
  {
   "cell_type": "code",
   "execution_count": 67,
   "id": "2c14a4bf",
   "metadata": {},
   "outputs": [
    {
     "name": "stdout",
     "output_type": "stream",
     "text": [
      "[[769  29]\n",
      " [ 28 152]]\n",
      "Accuracy:  0.941717791411043\n",
      "ROC AUC Score:  0.9040517961570593\n"
     ]
    }
   ],
   "source": [
    "# Predicting on test set\n",
    "print(confusion_matrix(Y_test, optimised_KNN.predict(X_test_s)))\n",
    "print('Accuracy: ', accuracy_score(Y_test, optimised_KNN.predict(X_test_s)))\n",
    "print('ROC AUC Score: ', roc_auc_score(Y_test, optimised_KNN.predict(X_test_s)))"
   ]
  },
  {
   "cell_type": "markdown",
   "id": "21fbce87",
   "metadata": {},
   "source": [
    "## Decision Tree"
   ]
  },
  {
   "cell_type": "code",
   "execution_count": null,
   "id": "7380c944",
   "metadata": {},
   "outputs": [],
   "source": [
    "from sklearn import tree\n",
    "class_tree = tree.DecisionTreeClassifier(max_depth=3)\n",
    "params = {'min_samples_split': [1, 2, 3, 4, 5, 6, 7]}\n",
    "tuning = GridSearchCV(class_tree, params)\n",
    "tuning.fit(X_train, Y_train)"
   ]
  },
  {
   "cell_type": "code",
   "execution_count": 69,
   "id": "12842235",
   "metadata": {},
   "outputs": [
    {
     "data": {
      "text/plain": [
       "{'min_samples_split': 2}"
      ]
     },
     "execution_count": 69,
     "metadata": {},
     "output_type": "execute_result"
    }
   ],
   "source": [
    "tuning.best_params_"
   ]
  },
  {
   "cell_type": "code",
   "execution_count": 70,
   "id": "e2310fc3",
   "metadata": {},
   "outputs": [],
   "source": [
    "optimised_tree = tuning.best_estimator_"
   ]
  },
  {
   "cell_type": "code",
   "execution_count": 71,
   "id": "77e3b278",
   "metadata": {},
   "outputs": [
    {
     "name": "stdout",
     "output_type": "stream",
     "text": [
      "[[787  11]\n",
      " [147  33]]\n",
      "Accuracy:  0.8384458077709611\n",
      "ROC AUC Score:  0.5847744360902256\n"
     ]
    }
   ],
   "source": [
    "# Predicting on test set\n",
    "print(confusion_matrix(Y_test, optimised_tree.predict(X_test)))\n",
    "print('Accuracy: ', accuracy_score(Y_test, optimised_tree.predict(X_test)))\n",
    "print('ROC AUC Score: ', roc_auc_score(Y_test, optimised_tree.predict(X_test)))"
   ]
  },
  {
   "cell_type": "code",
   "execution_count": 72,
   "id": "cbdd4b13",
   "metadata": {
    "scrolled": true
   },
   "outputs": [
    {
     "data": {
      "image/png": "[encoded data removed]",
      "text/plain": [
       "<IPython.core.display.Image object>"
      ]
     },
     "execution_count": 72,
     "metadata": {},
     "output_type": "execute_result"
    }
   ],
   "source": [
    "# Plotting the tree\n",
    "dot_data = tree.export_graphviz(optimised_tree, out_file=None, filled=True, feature_names=X_train.columns)\n",
    "from IPython.display import Image\n",
    "import pydotplus\n",
    "graph = pydotplus.graph_from_dot_data(dot_data)\n",
    "Image(graph.create_png())"
   ]
  },
  {
   "cell_type": "markdown",
   "id": "8176ebae",
   "metadata": {},
   "source": [
    "## Bagging"
   ]
  },
  {
   "cell_type": "code",
   "execution_count": 73,
   "id": "f9a3a63f",
   "metadata": {},
   "outputs": [
    {
     "name": "stdout",
     "output_type": "stream",
     "text": [
      "[[784  14]\n",
      " [144  36]]\n",
      "Accuracy:  0.8384458077709611\n",
      "ROC AUC Score:  0.5912280701754385\n"
     ]
    }
   ],
   "source": [
    "from sklearn.ensemble import BaggingClassifier\n",
    "bagging = BaggingClassifier(estimator=class_tree, n_estimators=1000, bootstrap=True, n_jobs=-1, random_state=0)\n",
    "bagging.fit(X_train, Y_train)\n",
    "\n",
    "# Predicting on test set\n",
    "print(confusion_matrix(Y_test, bagging.predict(X_test)))\n",
    "print('Accuracy: ', accuracy_score(Y_test, bagging.predict(X_test)))\n",
    "print('ROC AUC Score: ', roc_auc_score(Y_test, bagging.predict(X_test)))"
   ]
  },
  {
   "cell_type": "markdown",
   "id": "53ce17ef",
   "metadata": {},
   "source": [
    "## Random Forest"
   ]
  },
  {
   "cell_type": "code",
   "execution_count": 74,
   "id": "79b902b5",
   "metadata": {},
   "outputs": [
    {
     "name": "stdout",
     "output_type": "stream",
     "text": [
      "[[791   7]\n",
      " [ 67 113]]\n",
      "Accuracy:  0.9243353783231084\n",
      "ROC AUC Score:  0.8095029239766082\n"
     ]
    }
   ],
   "source": [
    "from sklearn.ensemble import RandomForestClassifier\n",
    "randomForest = RandomForestClassifier(n_estimators=1000, n_jobs=-1 ,random_state=0)\n",
    "randomForest.fit(X_train, Y_train)\n",
    "\n",
    "# Predicting on test set\n",
    "print(confusion_matrix(Y_test, randomForest.predict(X_test)))\n",
    "print('Accuracy: ', accuracy_score(Y_test, randomForest.predict(X_test)))\n",
    "print('ROC AUC Score: ', roc_auc_score(Y_test, randomForest.predict(X_test)))"
   ]
  },
  {
   "cell_type": "markdown",
   "id": "5d15eade",
   "metadata": {},
   "source": [
    "## Gradient Boost"
   ]
  },
  {
   "cell_type": "code",
   "execution_count": 75,
   "id": "a964440f",
   "metadata": {},
   "outputs": [
    {
     "name": "stdout",
     "output_type": "stream",
     "text": [
      "[[789   9]\n",
      " [148  32]]\n",
      "Accuracy:  0.8394683026584867\n",
      "ROC AUC Score:  0.583249791144528\n"
     ]
    }
   ],
   "source": [
    "from sklearn.ensemble import GradientBoostingClassifier\n",
    "gbm = GradientBoostingClassifier(learning_rate=0.02, n_estimators=1000, max_depth=1)\n",
    "gbm.fit(X_train, Y_train)\n",
    "\n",
    "# Predicting on test set\n",
    "print(confusion_matrix(Y_test, gbm.predict(X_test)))\n",
    "print('Accuracy: ', accuracy_score(Y_test, gbm.predict(X_test)))\n",
    "print('ROC AUC Score: ', roc_auc_score(Y_test, gbm.predict(X_test)))"
   ]
  },
  {
   "cell_type": "markdown",
   "id": "3dd04f7e",
   "metadata": {},
   "source": [
    "## Adaptive Boost"
   ]
  },
  {
   "cell_type": "code",
   "execution_count": 76,
   "id": "a021e1c2",
   "metadata": {},
   "outputs": [
    {
     "name": "stdout",
     "output_type": "stream",
     "text": [
      "[[773  25]\n",
      " [128  52]]\n",
      "Accuracy:  0.843558282208589\n",
      "ROC AUC Score:  0.6287802840434419\n"
     ]
    }
   ],
   "source": [
    "from sklearn.ensemble import AdaBoostClassifier\n",
    "adaboost = AdaBoostClassifier(learning_rate=0.05, n_estimators=5000)\n",
    "adaboost.fit(X_train, Y_train)\n",
    "\n",
    "# Predicting on test set\n",
    "print(confusion_matrix(Y_test, adaboost.predict(X_test)))\n",
    "print('Accuracy: ', accuracy_score(Y_test, adaboost.predict(X_test)))\n",
    "print('ROC AUC Score: ', roc_auc_score(Y_test, adaboost.predict(X_test)))"
   ]
  },
  {
   "cell_type": "markdown",
   "id": "298700e5",
   "metadata": {},
   "source": [
    "## XG Boost"
   ]
  },
  {
   "cell_type": "code",
   "execution_count": 77,
   "id": "5d3d0cf6",
   "metadata": {},
   "outputs": [
    {
     "name": "stdout",
     "output_type": "stream",
     "text": [
      "[[788  10]\n",
      " [ 47 133]]\n",
      "Accuracy:  0.941717791411043\n",
      "ROC AUC Score:  0.8631787802840435\n"
     ]
    }
   ],
   "source": [
    "import xgboost as xgb\n",
    "xgboost = xgb.XGBClassifier(max_depth=5, n_estimators=10000, learning_rate=0.3, n_jobs=-1)\n",
    "xgboost.fit(X_train, Y_train)\n",
    "\n",
    "# Predicting on test set\n",
    "print(confusion_matrix(Y_test, xgboost.predict(X_test)))\n",
    "print('Accuracy: ', accuracy_score(Y_test, xgboost.predict(X_test)))\n",
    "print('ROC AUC Score: ', roc_auc_score(Y_test, xgboost.predict(X_test)))"
   ]
  },
  {
   "cell_type": "markdown",
   "id": "5b29f9d9",
   "metadata": {},
   "source": [
    "## Stacking Classifier"
   ]
  },
  {
   "cell_type": "code",
   "execution_count": 78,
   "id": "eedb4739",
   "metadata": {},
   "outputs": [
    {
     "name": "stdout",
     "output_type": "stream",
     "text": [
      "[[787  11]\n",
      " [ 33 147]]\n",
      "Accuracy:  0.9550102249488752\n",
      "ROC AUC Score:  0.9014411027568923\n"
     ]
    }
   ],
   "source": [
    "from sklearn.ensemble import StackingClassifier\n",
    "estimators = [\n",
    "    ('randomForest', RandomForestClassifier(n_estimators=1000, n_jobs=-1)),\n",
    "    ('xgboost', xgb.XGBClassifier(max_depth=5, n_estimators=10000, learning_rate=0.3, n_jobs=-1))\n",
    "]\n",
    "\n",
    "stacking = StackingClassifier(estimators=estimators)\n",
    "stacking.fit(X_train,Y_train)\n",
    "\n",
    "# Predicting on test set\n",
    "print(confusion_matrix(Y_test, stacking.predict(X_test)))\n",
    "print('Accuracy: ', accuracy_score(Y_test, stacking.predict(X_test)))\n",
    "print('ROC AUC Score: ', roc_auc_score(Y_test, stacking.predict(X_test)))"
   ]
  },
  {
   "cell_type": "markdown",
   "id": "e0b53e77",
   "metadata": {},
   "source": [
    "## Radial Kernel"
   ]
  },
  {
   "cell_type": "code",
   "execution_count": 79,
   "id": "5bf005a6",
   "metadata": {},
   "outputs": [
    {
     "name": "stdout",
     "output_type": "stream",
     "text": [
      "Fitting 3 folds for each of 40 candidates, totalling 120 fits\n"
     ]
    },
    {
     "data": {
      "text/html": [
       "<style>#sk-container-id-3 {color: black;}#sk-container-id-3 pre{padding: 0;}#sk-container-id-3 div.sk-toggleable {background-color: white;}#sk-container-id-3 label.sk-toggleable__label {cursor: pointer;display: block;width: 100%;margin-bottom: 0;padding: 0.3em;box-sizing: border-box;text-align: center;}#sk-container-id-3 label.sk-toggleable__label-arrow:before {content: \"▸\";float: left;margin-right: 0.25em;color: #696969;}#sk-container-id-3 label.sk-toggleable__label-arrow:hover:before {color: black;}#sk-container-id-3 div.sk-estimator:hover label.sk-toggleable__label-arrow:before {color: black;}#sk-container-id-3 div.sk-toggleable__content {max-height: 0;max-width: 0;overflow: hidden;text-align: left;background-color: #f0f8ff;}#sk-container-id-3 div.sk-toggleable__content pre {margin: 0.2em;color: black;border-radius: 0.25em;background-color: #f0f8ff;}#sk-container-id-3 input.sk-toggleable__control:checked~div.sk-toggleable__content {max-height: 200px;max-width: 100%;overflow: auto;}#sk-container-id-3 input.sk-toggleable__control:checked~label.sk-toggleable__label-arrow:before {content: \"▾\";}#sk-container-id-3 div.sk-estimator input.sk-toggleable__control:checked~label.sk-toggleable__label {background-color: #d4ebff;}#sk-container-id-3 div.sk-label input.sk-toggleable__control:checked~label.sk-toggleable__label {background-color: #d4ebff;}#sk-container-id-3 input.sk-hidden--visually {border: 0;clip: rect(1px 1px 1px 1px);clip: rect(1px, 1px, 1px, 1px);height: 1px;margin: -1px;overflow: hidden;padding: 0;position: absolute;width: 1px;}#sk-container-id-3 div.sk-estimator {font-family: monospace;background-color: #f0f8ff;border: 1px dotted black;border-radius: 0.25em;box-sizing: border-box;margin-bottom: 0.5em;}#sk-container-id-3 div.sk-estimator:hover {background-color: #d4ebff;}#sk-container-id-3 div.sk-parallel-item::after {content: \"\";width: 100%;border-bottom: 1px solid gray;flex-grow: 1;}#sk-container-id-3 div.sk-label:hover label.sk-toggleable__label {background-color: #d4ebff;}#sk-container-id-3 div.sk-serial::before {content: \"\";position: absolute;border-left: 1px solid gray;box-sizing: border-box;top: 0;bottom: 0;left: 50%;z-index: 0;}#sk-container-id-3 div.sk-serial {display: flex;flex-direction: column;align-items: center;background-color: white;padding-right: 0.2em;padding-left: 0.2em;position: relative;}#sk-container-id-3 div.sk-item {position: relative;z-index: 1;}#sk-container-id-3 div.sk-parallel {display: flex;align-items: stretch;justify-content: center;background-color: white;position: relative;}#sk-container-id-3 div.sk-item::before, #sk-container-id-3 div.sk-parallel-item::before {content: \"\";position: absolute;border-left: 1px solid gray;box-sizing: border-box;top: 0;bottom: 0;left: 50%;z-index: -1;}#sk-container-id-3 div.sk-parallel-item {display: flex;flex-direction: column;z-index: 1;position: relative;background-color: white;}#sk-container-id-3 div.sk-parallel-item:first-child::after {align-self: flex-end;width: 50%;}#sk-container-id-3 div.sk-parallel-item:last-child::after {align-self: flex-start;width: 50%;}#sk-container-id-3 div.sk-parallel-item:only-child::after {width: 0;}#sk-container-id-3 div.sk-dashed-wrapped {border: 1px dashed gray;margin: 0 0.4em 0.5em 0.4em;box-sizing: border-box;padding-bottom: 0.4em;background-color: white;}#sk-container-id-3 div.sk-label label {font-family: monospace;font-weight: bold;display: inline-block;line-height: 1.2em;}#sk-container-id-3 div.sk-label-container {text-align: center;}#sk-container-id-3 div.sk-container {/* jupyter's `normalize.less` sets `[hidden] { display: none; }` but bootstrap.min.css set `[hidden] { display: none !important; }` so we also need the `!important` here to be able to override the default hidden behavior on the sphinx rendered scikit-learn.org. See: https://github.com/scikit-learn/scikit-learn/issues/21755 */display: inline-block !important;position: relative;}#sk-container-id-3 div.sk-text-repr-fallback {display: none;}</style><div id=\"sk-container-id-3\" class=\"sk-top-container\"><div class=\"sk-text-repr-fallback\"><pre>GridSearchCV(cv=3, estimator=SVC(), n_jobs=-1,\n",
       "             param_grid={&#x27;C&#x27;: (0.01, 0.05, 0.1, 0.5, 1, 5, 10, 50),\n",
       "                         &#x27;gamma&#x27;: (0.001, 0.01, 0.1, 0.5, 1)},\n",
       "             scoring=&#x27;accuracy&#x27;, verbose=1)</pre><b>In a Jupyter environment, please rerun this cell to show the HTML representation or trust the notebook. <br />On GitHub, the HTML representation is unable to render, please try loading this page with nbviewer.org.</b></div><div class=\"sk-container\" hidden><div class=\"sk-item sk-dashed-wrapped\"><div class=\"sk-label-container\"><div class=\"sk-label sk-toggleable\"><input class=\"sk-toggleable__control sk-hidden--visually\" id=\"sk-estimator-id-7\" type=\"checkbox\" ><label for=\"sk-estimator-id-7\" class=\"sk-toggleable__label sk-toggleable__label-arrow\">GridSearchCV</label><div class=\"sk-toggleable__content\"><pre>GridSearchCV(cv=3, estimator=SVC(), n_jobs=-1,\n",
       "             param_grid={&#x27;C&#x27;: (0.01, 0.05, 0.1, 0.5, 1, 5, 10, 50),\n",
       "                         &#x27;gamma&#x27;: (0.001, 0.01, 0.1, 0.5, 1)},\n",
       "             scoring=&#x27;accuracy&#x27;, verbose=1)</pre></div></div></div><div class=\"sk-parallel\"><div class=\"sk-parallel-item\"><div class=\"sk-item\"><div class=\"sk-label-container\"><div class=\"sk-label sk-toggleable\"><input class=\"sk-toggleable__control sk-hidden--visually\" id=\"sk-estimator-id-8\" type=\"checkbox\" ><label for=\"sk-estimator-id-8\" class=\"sk-toggleable__label sk-toggleable__label-arrow\">estimator: SVC</label><div class=\"sk-toggleable__content\"><pre>SVC()</pre></div></div></div><div class=\"sk-serial\"><div class=\"sk-item\"><div class=\"sk-estimator sk-toggleable\"><input class=\"sk-toggleable__control sk-hidden--visually\" id=\"sk-estimator-id-9\" type=\"checkbox\" ><label for=\"sk-estimator-id-9\" class=\"sk-toggleable__label sk-toggleable__label-arrow\">SVC</label><div class=\"sk-toggleable__content\"><pre>SVC()</pre></div></div></div></div></div></div></div></div></div></div>"
      ],
      "text/plain": [
       "GridSearchCV(cv=3, estimator=SVC(), n_jobs=-1,\n",
       "             param_grid={'C': (0.01, 0.05, 0.1, 0.5, 1, 5, 10, 50),\n",
       "                         'gamma': (0.001, 0.01, 0.1, 0.5, 1)},\n",
       "             scoring='accuracy', verbose=1)"
      ]
     },
     "execution_count": 79,
     "metadata": {},
     "output_type": "execute_result"
    }
   ],
   "source": [
    "from sklearn import svm\n",
    "svc = svm.SVC(kernel='rbf')\n",
    "params = {'C':(0.01,0.05, 0.1, 0.5, 1, 5, 10, 50), \n",
    "          'gamma':(0.001, 0.01, 0.1, 0.5, 1)} \n",
    "\n",
    "tuning = GridSearchCV(svc, params, n_jobs=-1, cv=3, verbose=1, scoring='accuracy') \n",
    "tuning.fit(X_train, Y_train)"
   ]
  },
  {
   "cell_type": "code",
   "execution_count": 80,
   "id": "c514e4b1",
   "metadata": {},
   "outputs": [
    {
     "data": {
      "text/plain": [
       "{'C': 5, 'gamma': 0.1}"
      ]
     },
     "execution_count": 80,
     "metadata": {},
     "output_type": "execute_result"
    }
   ],
   "source": [
    "tuning.best_params_"
   ]
  },
  {
   "cell_type": "code",
   "execution_count": 81,
   "id": "d73a869e",
   "metadata": {},
   "outputs": [],
   "source": [
    "optimised_svc = tuning.best_estimator_"
   ]
  },
  {
   "cell_type": "code",
   "execution_count": 82,
   "id": "8f7806dd",
   "metadata": {},
   "outputs": [
    {
     "name": "stdout",
     "output_type": "stream",
     "text": [
      "[[798   0]\n",
      " [ 89  91]]\n",
      "Accuracy:  0.908997955010225\n",
      "ROC AUC Score:  0.7527777777777778\n"
     ]
    }
   ],
   "source": [
    "# Predicting on test set\n",
    "print(confusion_matrix(Y_test, optimised_svc.predict(X_test)))\n",
    "print('Accuracy: ', accuracy_score(Y_test, optimised_svc.predict(X_test)))\n",
    "print('ROC AUC Score: ', roc_auc_score(Y_test, optimised_svc.predict(X_test)))"
   ]
  },
  {
   "cell_type": "markdown",
   "id": "9507cd18",
   "metadata": {},
   "source": [
    "## Polynomial Kernel"
   ]
  },
  {
   "cell_type": "code",
   "execution_count": 83,
   "id": "388fc27b",
   "metadata": {},
   "outputs": [
    {
     "name": "stdout",
     "output_type": "stream",
     "text": [
      "Fitting 3 folds for each of 28 candidates, totalling 84 fits\n"
     ]
    },
    {
     "data": {
      "text/html": [
       "<style>#sk-container-id-4 {color: black;}#sk-container-id-4 pre{padding: 0;}#sk-container-id-4 div.sk-toggleable {background-color: white;}#sk-container-id-4 label.sk-toggleable__label {cursor: pointer;display: block;width: 100%;margin-bottom: 0;padding: 0.3em;box-sizing: border-box;text-align: center;}#sk-container-id-4 label.sk-toggleable__label-arrow:before {content: \"▸\";float: left;margin-right: 0.25em;color: #696969;}#sk-container-id-4 label.sk-toggleable__label-arrow:hover:before {color: black;}#sk-container-id-4 div.sk-estimator:hover label.sk-toggleable__label-arrow:before {color: black;}#sk-container-id-4 div.sk-toggleable__content {max-height: 0;max-width: 0;overflow: hidden;text-align: left;background-color: #f0f8ff;}#sk-container-id-4 div.sk-toggleable__content pre {margin: 0.2em;color: black;border-radius: 0.25em;background-color: #f0f8ff;}#sk-container-id-4 input.sk-toggleable__control:checked~div.sk-toggleable__content {max-height: 200px;max-width: 100%;overflow: auto;}#sk-container-id-4 input.sk-toggleable__control:checked~label.sk-toggleable__label-arrow:before {content: \"▾\";}#sk-container-id-4 div.sk-estimator input.sk-toggleable__control:checked~label.sk-toggleable__label {background-color: #d4ebff;}#sk-container-id-4 div.sk-label input.sk-toggleable__control:checked~label.sk-toggleable__label {background-color: #d4ebff;}#sk-container-id-4 input.sk-hidden--visually {border: 0;clip: rect(1px 1px 1px 1px);clip: rect(1px, 1px, 1px, 1px);height: 1px;margin: -1px;overflow: hidden;padding: 0;position: absolute;width: 1px;}#sk-container-id-4 div.sk-estimator {font-family: monospace;background-color: #f0f8ff;border: 1px dotted black;border-radius: 0.25em;box-sizing: border-box;margin-bottom: 0.5em;}#sk-container-id-4 div.sk-estimator:hover {background-color: #d4ebff;}#sk-container-id-4 div.sk-parallel-item::after {content: \"\";width: 100%;border-bottom: 1px solid gray;flex-grow: 1;}#sk-container-id-4 div.sk-label:hover label.sk-toggleable__label {background-color: #d4ebff;}#sk-container-id-4 div.sk-serial::before {content: \"\";position: absolute;border-left: 1px solid gray;box-sizing: border-box;top: 0;bottom: 0;left: 50%;z-index: 0;}#sk-container-id-4 div.sk-serial {display: flex;flex-direction: column;align-items: center;background-color: white;padding-right: 0.2em;padding-left: 0.2em;position: relative;}#sk-container-id-4 div.sk-item {position: relative;z-index: 1;}#sk-container-id-4 div.sk-parallel {display: flex;align-items: stretch;justify-content: center;background-color: white;position: relative;}#sk-container-id-4 div.sk-item::before, #sk-container-id-4 div.sk-parallel-item::before {content: \"\";position: absolute;border-left: 1px solid gray;box-sizing: border-box;top: 0;bottom: 0;left: 50%;z-index: -1;}#sk-container-id-4 div.sk-parallel-item {display: flex;flex-direction: column;z-index: 1;position: relative;background-color: white;}#sk-container-id-4 div.sk-parallel-item:first-child::after {align-self: flex-end;width: 50%;}#sk-container-id-4 div.sk-parallel-item:last-child::after {align-self: flex-start;width: 50%;}#sk-container-id-4 div.sk-parallel-item:only-child::after {width: 0;}#sk-container-id-4 div.sk-dashed-wrapped {border: 1px dashed gray;margin: 0 0.4em 0.5em 0.4em;box-sizing: border-box;padding-bottom: 0.4em;background-color: white;}#sk-container-id-4 div.sk-label label {font-family: monospace;font-weight: bold;display: inline-block;line-height: 1.2em;}#sk-container-id-4 div.sk-label-container {text-align: center;}#sk-container-id-4 div.sk-container {/* jupyter's `normalize.less` sets `[hidden] { display: none; }` but bootstrap.min.css set `[hidden] { display: none !important; }` so we also need the `!important` here to be able to override the default hidden behavior on the sphinx rendered scikit-learn.org. See: https://github.com/scikit-learn/scikit-learn/issues/21755 */display: inline-block !important;position: relative;}#sk-container-id-4 div.sk-text-repr-fallback {display: none;}</style><div id=\"sk-container-id-4\" class=\"sk-top-container\"><div class=\"sk-text-repr-fallback\"><pre>GridSearchCV(cv=3, estimator=SVC(kernel=&#x27;poly&#x27;), n_jobs=-1,\n",
       "             param_grid={&#x27;C&#x27;: (0.001, 0.01, 0.1, 0.5, 1, 5, 10),\n",
       "                         &#x27;degree&#x27;: (1, 2, 3, 4)},\n",
       "             scoring=&#x27;accuracy&#x27;, verbose=1)</pre><b>In a Jupyter environment, please rerun this cell to show the HTML representation or trust the notebook. <br />On GitHub, the HTML representation is unable to render, please try loading this page with nbviewer.org.</b></div><div class=\"sk-container\" hidden><div class=\"sk-item sk-dashed-wrapped\"><div class=\"sk-label-container\"><div class=\"sk-label sk-toggleable\"><input class=\"sk-toggleable__control sk-hidden--visually\" id=\"sk-estimator-id-10\" type=\"checkbox\" ><label for=\"sk-estimator-id-10\" class=\"sk-toggleable__label sk-toggleable__label-arrow\">GridSearchCV</label><div class=\"sk-toggleable__content\"><pre>GridSearchCV(cv=3, estimator=SVC(kernel=&#x27;poly&#x27;), n_jobs=-1,\n",
       "             param_grid={&#x27;C&#x27;: (0.001, 0.01, 0.1, 0.5, 1, 5, 10),\n",
       "                         &#x27;degree&#x27;: (1, 2, 3, 4)},\n",
       "             scoring=&#x27;accuracy&#x27;, verbose=1)</pre></div></div></div><div class=\"sk-parallel\"><div class=\"sk-parallel-item\"><div class=\"sk-item\"><div class=\"sk-label-container\"><div class=\"sk-label sk-toggleable\"><input class=\"sk-toggleable__control sk-hidden--visually\" id=\"sk-estimator-id-11\" type=\"checkbox\" ><label for=\"sk-estimator-id-11\" class=\"sk-toggleable__label sk-toggleable__label-arrow\">estimator: SVC</label><div class=\"sk-toggleable__content\"><pre>SVC(kernel=&#x27;poly&#x27;)</pre></div></div></div><div class=\"sk-serial\"><div class=\"sk-item\"><div class=\"sk-estimator sk-toggleable\"><input class=\"sk-toggleable__control sk-hidden--visually\" id=\"sk-estimator-id-12\" type=\"checkbox\" ><label for=\"sk-estimator-id-12\" class=\"sk-toggleable__label sk-toggleable__label-arrow\">SVC</label><div class=\"sk-toggleable__content\"><pre>SVC(kernel=&#x27;poly&#x27;)</pre></div></div></div></div></div></div></div></div></div></div>"
      ],
      "text/plain": [
       "GridSearchCV(cv=3, estimator=SVC(kernel='poly'), n_jobs=-1,\n",
       "             param_grid={'C': (0.001, 0.01, 0.1, 0.5, 1, 5, 10),\n",
       "                         'degree': (1, 2, 3, 4)},\n",
       "             scoring='accuracy', verbose=1)"
      ]
     },
     "execution_count": 83,
     "metadata": {},
     "output_type": "execute_result"
    }
   ],
   "source": [
    "svcP = svm.SVC(kernel='poly')\n",
    "params = {'degree':(1, 2, 3, 4), \n",
    "          'C':(0.001, 0.01, 0.1, 0.5, 1, 5, 10)} \n",
    "\n",
    "tuning = GridSearchCV(svcP, params, n_jobs=-1, cv=3, verbose=1, scoring='accuracy') \n",
    "tuning.fit(X_train, Y_train)"
   ]
  },
  {
   "cell_type": "code",
   "execution_count": 84,
   "id": "1afc1387",
   "metadata": {},
   "outputs": [
    {
     "data": {
      "text/plain": [
       "{'C': 0.001, 'degree': 1}"
      ]
     },
     "execution_count": 84,
     "metadata": {},
     "output_type": "execute_result"
    }
   ],
   "source": [
    "tuning.best_params_"
   ]
  },
  {
   "cell_type": "code",
   "execution_count": 85,
   "id": "b8445e79",
   "metadata": {},
   "outputs": [],
   "source": [
    "optimised_svcP = tuning.best_estimator_"
   ]
  },
  {
   "cell_type": "code",
   "execution_count": 86,
   "id": "5cce9054",
   "metadata": {},
   "outputs": [
    {
     "name": "stdout",
     "output_type": "stream",
     "text": [
      "[[798   0]\n",
      " [180   0]]\n",
      "Accuracy:  0.8159509202453987\n",
      "ROC AUC Score:  0.5\n"
     ]
    }
   ],
   "source": [
    "# Predicting on test set\n",
    "print(confusion_matrix(Y_test, optimised_svcP.predict(X_test)))\n",
    "print('Accuracy: ', accuracy_score(Y_test, optimised_svcP.predict(X_test)))\n",
    "print('ROC AUC Score: ', roc_auc_score(Y_test, optimised_svcP.predict(X_test)))"
   ]
  },
  {
   "cell_type": "markdown",
   "id": "5df62f49",
   "metadata": {},
   "source": [
    "## Linear Kernel"
   ]
  },
  {
   "cell_type": "code",
   "execution_count": 87,
   "id": "f8a20299",
   "metadata": {},
   "outputs": [
    {
     "name": "stdout",
     "output_type": "stream",
     "text": [
      "Fitting 3 folds for each of 7 candidates, totalling 21 fits\n"
     ]
    },
    {
     "data": {
      "text/html": [
       "<style>#sk-container-id-5 {color: black;}#sk-container-id-5 pre{padding: 0;}#sk-container-id-5 div.sk-toggleable {background-color: white;}#sk-container-id-5 label.sk-toggleable__label {cursor: pointer;display: block;width: 100%;margin-bottom: 0;padding: 0.3em;box-sizing: border-box;text-align: center;}#sk-container-id-5 label.sk-toggleable__label-arrow:before {content: \"▸\";float: left;margin-right: 0.25em;color: #696969;}#sk-container-id-5 label.sk-toggleable__label-arrow:hover:before {color: black;}#sk-container-id-5 div.sk-estimator:hover label.sk-toggleable__label-arrow:before {color: black;}#sk-container-id-5 div.sk-toggleable__content {max-height: 0;max-width: 0;overflow: hidden;text-align: left;background-color: #f0f8ff;}#sk-container-id-5 div.sk-toggleable__content pre {margin: 0.2em;color: black;border-radius: 0.25em;background-color: #f0f8ff;}#sk-container-id-5 input.sk-toggleable__control:checked~div.sk-toggleable__content {max-height: 200px;max-width: 100%;overflow: auto;}#sk-container-id-5 input.sk-toggleable__control:checked~label.sk-toggleable__label-arrow:before {content: \"▾\";}#sk-container-id-5 div.sk-estimator input.sk-toggleable__control:checked~label.sk-toggleable__label {background-color: #d4ebff;}#sk-container-id-5 div.sk-label input.sk-toggleable__control:checked~label.sk-toggleable__label {background-color: #d4ebff;}#sk-container-id-5 input.sk-hidden--visually {border: 0;clip: rect(1px 1px 1px 1px);clip: rect(1px, 1px, 1px, 1px);height: 1px;margin: -1px;overflow: hidden;padding: 0;position: absolute;width: 1px;}#sk-container-id-5 div.sk-estimator {font-family: monospace;background-color: #f0f8ff;border: 1px dotted black;border-radius: 0.25em;box-sizing: border-box;margin-bottom: 0.5em;}#sk-container-id-5 div.sk-estimator:hover {background-color: #d4ebff;}#sk-container-id-5 div.sk-parallel-item::after {content: \"\";width: 100%;border-bottom: 1px solid gray;flex-grow: 1;}#sk-container-id-5 div.sk-label:hover label.sk-toggleable__label {background-color: #d4ebff;}#sk-container-id-5 div.sk-serial::before {content: \"\";position: absolute;border-left: 1px solid gray;box-sizing: border-box;top: 0;bottom: 0;left: 50%;z-index: 0;}#sk-container-id-5 div.sk-serial {display: flex;flex-direction: column;align-items: center;background-color: white;padding-right: 0.2em;padding-left: 0.2em;position: relative;}#sk-container-id-5 div.sk-item {position: relative;z-index: 1;}#sk-container-id-5 div.sk-parallel {display: flex;align-items: stretch;justify-content: center;background-color: white;position: relative;}#sk-container-id-5 div.sk-item::before, #sk-container-id-5 div.sk-parallel-item::before {content: \"\";position: absolute;border-left: 1px solid gray;box-sizing: border-box;top: 0;bottom: 0;left: 50%;z-index: -1;}#sk-container-id-5 div.sk-parallel-item {display: flex;flex-direction: column;z-index: 1;position: relative;background-color: white;}#sk-container-id-5 div.sk-parallel-item:first-child::after {align-self: flex-end;width: 50%;}#sk-container-id-5 div.sk-parallel-item:last-child::after {align-self: flex-start;width: 50%;}#sk-container-id-5 div.sk-parallel-item:only-child::after {width: 0;}#sk-container-id-5 div.sk-dashed-wrapped {border: 1px dashed gray;margin: 0 0.4em 0.5em 0.4em;box-sizing: border-box;padding-bottom: 0.4em;background-color: white;}#sk-container-id-5 div.sk-label label {font-family: monospace;font-weight: bold;display: inline-block;line-height: 1.2em;}#sk-container-id-5 div.sk-label-container {text-align: center;}#sk-container-id-5 div.sk-container {/* jupyter's `normalize.less` sets `[hidden] { display: none; }` but bootstrap.min.css set `[hidden] { display: none !important; }` so we also need the `!important` here to be able to override the default hidden behavior on the sphinx rendered scikit-learn.org. See: https://github.com/scikit-learn/scikit-learn/issues/21755 */display: inline-block !important;position: relative;}#sk-container-id-5 div.sk-text-repr-fallback {display: none;}</style><div id=\"sk-container-id-5\" class=\"sk-top-container\"><div class=\"sk-text-repr-fallback\"><pre>GridSearchCV(cv=3, estimator=SVC(kernel=&#x27;poly&#x27;), n_jobs=-1,\n",
       "             param_grid={&#x27;C&#x27;: (0.001, 0.01, 0.1, 0.5, 1, 5, 10)},\n",
       "             scoring=&#x27;accuracy&#x27;, verbose=1)</pre><b>In a Jupyter environment, please rerun this cell to show the HTML representation or trust the notebook. <br />On GitHub, the HTML representation is unable to render, please try loading this page with nbviewer.org.</b></div><div class=\"sk-container\" hidden><div class=\"sk-item sk-dashed-wrapped\"><div class=\"sk-label-container\"><div class=\"sk-label sk-toggleable\"><input class=\"sk-toggleable__control sk-hidden--visually\" id=\"sk-estimator-id-13\" type=\"checkbox\" ><label for=\"sk-estimator-id-13\" class=\"sk-toggleable__label sk-toggleable__label-arrow\">GridSearchCV</label><div class=\"sk-toggleable__content\"><pre>GridSearchCV(cv=3, estimator=SVC(kernel=&#x27;poly&#x27;), n_jobs=-1,\n",
       "             param_grid={&#x27;C&#x27;: (0.001, 0.01, 0.1, 0.5, 1, 5, 10)},\n",
       "             scoring=&#x27;accuracy&#x27;, verbose=1)</pre></div></div></div><div class=\"sk-parallel\"><div class=\"sk-parallel-item\"><div class=\"sk-item\"><div class=\"sk-label-container\"><div class=\"sk-label sk-toggleable\"><input class=\"sk-toggleable__control sk-hidden--visually\" id=\"sk-estimator-id-14\" type=\"checkbox\" ><label for=\"sk-estimator-id-14\" class=\"sk-toggleable__label sk-toggleable__label-arrow\">estimator: SVC</label><div class=\"sk-toggleable__content\"><pre>SVC(kernel=&#x27;poly&#x27;)</pre></div></div></div><div class=\"sk-serial\"><div class=\"sk-item\"><div class=\"sk-estimator sk-toggleable\"><input class=\"sk-toggleable__control sk-hidden--visually\" id=\"sk-estimator-id-15\" type=\"checkbox\" ><label for=\"sk-estimator-id-15\" class=\"sk-toggleable__label sk-toggleable__label-arrow\">SVC</label><div class=\"sk-toggleable__content\"><pre>SVC(kernel=&#x27;poly&#x27;)</pre></div></div></div></div></div></div></div></div></div></div>"
      ],
      "text/plain": [
       "GridSearchCV(cv=3, estimator=SVC(kernel='poly'), n_jobs=-1,\n",
       "             param_grid={'C': (0.001, 0.01, 0.1, 0.5, 1, 5, 10)},\n",
       "             scoring='accuracy', verbose=1)"
      ]
     },
     "execution_count": 87,
     "metadata": {},
     "output_type": "execute_result"
    }
   ],
   "source": [
    "svcL = svm.SVC(kernel='poly')\n",
    "params = {'C':(0.001, 0.01, 0.1, 0.5, 1, 5, 10)} \n",
    "\n",
    "tuning = GridSearchCV(svcL, params, n_jobs=-1, cv=3, verbose=1, scoring='accuracy') \n",
    "tuning.fit(X_train, Y_train)"
   ]
  },
  {
   "cell_type": "code",
   "execution_count": 88,
   "id": "14595b38",
   "metadata": {},
   "outputs": [
    {
     "data": {
      "text/plain": [
       "{'C': 0.001}"
      ]
     },
     "execution_count": 88,
     "metadata": {},
     "output_type": "execute_result"
    }
   ],
   "source": [
    "tuning.best_params_"
   ]
  },
  {
   "cell_type": "code",
   "execution_count": 89,
   "id": "2287b9fb",
   "metadata": {},
   "outputs": [],
   "source": [
    "optimised_svcL= tuning.best_estimator_"
   ]
  },
  {
   "cell_type": "code",
   "execution_count": 90,
   "id": "31402be6",
   "metadata": {},
   "outputs": [
    {
     "name": "stdout",
     "output_type": "stream",
     "text": [
      "[[798   0]\n",
      " [180   0]]\n",
      "Accuracy:  0.8159509202453987\n",
      "ROC AUC Score:  0.5\n"
     ]
    }
   ],
   "source": [
    "# Predicting on test set\n",
    "print(confusion_matrix(Y_test, optimised_svcL.predict(X_test)))\n",
    "print('Accuracy: ', accuracy_score(Y_test, optimised_svcL.predict(X_test)))\n",
    "print('ROC AUC Score: ', roc_auc_score(Y_test, optimised_svcL.predict(X_test)))"
   ]
  }
 ],
 "metadata": {
  "kernelspec": {
   "display_name": "Python 3 (ipykernel)",
   "language": "python",
   "name": "python3"
  },
  "language_info": {
   "codemirror_mode": {
    "name": "ipython",
    "version": 3
   },
   "file_extension": ".py",
   "mimetype": "text/x-python",
   "name": "python",
   "nbconvert_exporter": "python",
   "pygments_lexer": "ipython3",
   "version": "3.11.5"
  }
 },
 "nbformat": 4,
 "nbformat_minor": 5
}
